{
 "cells": [
  {
   "cell_type": "markdown",
   "metadata": {},
   "source": [
    "# Background"
   ]
  },
  {
   "cell_type": "markdown",
   "metadata": {},
   "source": [
    "Transjakarta adalah sistem Bus Rapid Transit (BRT) di Jakarta, Indonesia yang telah beroperasi sejak tahun 2004. Transjakarta memiliki panjang koridor lebih dari 390 km, menjadikannya jaringan BRT terpanjang di dunia yang didirikan untuk mengurangi kemacetan lalu lintas di kota dan meningkatkan transportasi publik. Sistem ini beroperasi di sepanjang beberapa koridor dan memiliki visi `Connecting the life of Hajarta`\n",
    "\n",
    "Bus Transjakarta beroperasi di jalur steril dari kendaraan lainnya. Transjakarta memiliki banyak titik perhentian yang terletak di sepanjang koridor. Titik perhentian ini dilengkapi dengan fasilitas seperti area tunggu, area komersial, vending machine ticket, toilet dan lain sebagainya. \n",
    "\n",
    "Penumpang membayar tarif menggunakan sistem kartu atau memindai QR/barcode melalui Aplikasi Tije. Terdapat berbagai tarif berdasarkan jenis layanan.\n",
    "\n",
    "Transjakarta bertujuan untuk terintegrasi dengan mode transportasi lain, seperti KRL commuter line, MRT, LRT dan layanan transportasi publik lainnya.\n",
    "\n",
    "Transjakarta sudah sangat berkembang pesat telah mengalami ekspansi dan perbaikan sejak awal beroperasi, dengan tujuan membuat transportasi publik lebih efisien, handal, dan nyaman bagi penduduk Jakarta dan bisa menaikkan minat pelanggan yang menggunakan kendaraan pribadi untuk beralih menggunakan Transportasi publik. "
   ]
  },
  {
   "cell_type": "markdown",
   "metadata": {},
   "source": [
    "# Problem Statement"
   ]
  },
  {
   "cell_type": "markdown",
   "metadata": {},
   "source": [
    "Pada pertengahan tahun 2023, indeks kemacetan Jakarta sudah mencapai 53%, dipicu oleh daerah yang padat penduduk dan mobilitas tinggi, dengan jumlah penduduk mencapai 10,6 juta jiwa. Transjakarta tetap menjadi solusi yang berkelanjutan untuk kemacetan yang persisten ini.\n",
    "\n",
    "Untuk mendorong minat masyarakat dalam menggunakan transportasi umum, Transjakarta harus menyediakan layanan yang lebih aman dan nyaman dibandingkan dengan kendaraan pribadi. Layanan yang ditawarkan harus memprioritaskan kepuasan pelanggan dan berorientasi kepada kebutuhan pelanggan.\n",
    "\n",
    "Sebagai seorang data analyst, saya akan mencoba menjawab pertanyaan:\n",
    "\n",
    "**Bagaimana pelayanan operasional Transjakarta saat ini dan karakteristik pelanggan Transjakarta?**\n",
    "\n",
    " dan \n",
    " \n",
    " **Bagaimana cara meningkatkan jumlah pelanggan Transjakarta dan meningkatkan kepuasan pelanggan untuk membuat lebih banyak orang menggunakan Transjakarta dan mengurangi kemacetan lalu lintas di Jakarta?**"
   ]
  },
  {
   "cell_type": "code",
   "execution_count": 255,
   "metadata": {},
   "outputs": [],
   "source": [
    "import pandas as pd\n",
    "import numpy as np\n",
    "import matplotlib.pyplot as plt\n",
    "import seaborn as sns\n",
    "import plotly.express as px\n",
    "from scipy.stats import normaltest, chi2_contingency, mannwhitneyu, ttest_ind\n",
    "\n",
    "import warnings\n",
    "warnings.filterwarnings(\"ignore\")"
   ]
  },
  {
   "cell_type": "markdown",
   "metadata": {},
   "source": [
    "# Dataset"
   ]
  },
  {
   "cell_type": "code",
   "execution_count": 256,
   "metadata": {},
   "outputs": [
    {
     "data": {
      "text/html": [
       "<div>\n",
       "<style scoped>\n",
       "    .dataframe tbody tr th:only-of-type {\n",
       "        vertical-align: middle;\n",
       "    }\n",
       "\n",
       "    .dataframe tbody tr th {\n",
       "        vertical-align: top;\n",
       "    }\n",
       "\n",
       "    .dataframe thead th {\n",
       "        text-align: right;\n",
       "    }\n",
       "</style>\n",
       "<table border=\"1\" class=\"dataframe\">\n",
       "  <thead>\n",
       "    <tr style=\"text-align: right;\">\n",
       "      <th></th>\n",
       "      <th>transID</th>\n",
       "      <th>payCardID</th>\n",
       "      <th>payCardBank</th>\n",
       "      <th>payCardName</th>\n",
       "      <th>payCardSex</th>\n",
       "      <th>payCardBirthDate</th>\n",
       "      <th>corridorID</th>\n",
       "      <th>corridorName</th>\n",
       "      <th>direction</th>\n",
       "      <th>tapInStops</th>\n",
       "      <th>...</th>\n",
       "      <th>tapInStopsLon</th>\n",
       "      <th>stopStartSeq</th>\n",
       "      <th>tapInTime</th>\n",
       "      <th>tapOutStops</th>\n",
       "      <th>tapOutStopsName</th>\n",
       "      <th>tapOutStopsLat</th>\n",
       "      <th>tapOutStopsLon</th>\n",
       "      <th>stopEndSeq</th>\n",
       "      <th>tapOutTime</th>\n",
       "      <th>payAmount</th>\n",
       "    </tr>\n",
       "  </thead>\n",
       "  <tbody>\n",
       "    <tr>\n",
       "      <th>0</th>\n",
       "      <td>EIIW227B8L34VB</td>\n",
       "      <td>180062659848800</td>\n",
       "      <td>emoney</td>\n",
       "      <td>Bajragin Usada</td>\n",
       "      <td>M</td>\n",
       "      <td>2008</td>\n",
       "      <td>5</td>\n",
       "      <td>Matraman Baru - Ancol</td>\n",
       "      <td>1.0</td>\n",
       "      <td>P00142</td>\n",
       "      <td>...</td>\n",
       "      <td>106.84402</td>\n",
       "      <td>7</td>\n",
       "      <td>2023-04-03 05:21:44</td>\n",
       "      <td>P00253</td>\n",
       "      <td>Tegalan</td>\n",
       "      <td>-6.203101</td>\n",
       "      <td>106.85715</td>\n",
       "      <td>12.0</td>\n",
       "      <td>2023-04-03 06:00:53</td>\n",
       "      <td>3500.0</td>\n",
       "    </tr>\n",
       "    <tr>\n",
       "      <th>1</th>\n",
       "      <td>LGXO740D2N47GZ</td>\n",
       "      <td>4885331907664776</td>\n",
       "      <td>dki</td>\n",
       "      <td>Gandi Widodo</td>\n",
       "      <td>F</td>\n",
       "      <td>1997</td>\n",
       "      <td>6C</td>\n",
       "      <td>Stasiun Tebet - Karet via Patra Kuningan</td>\n",
       "      <td>0.0</td>\n",
       "      <td>B01963P</td>\n",
       "      <td>...</td>\n",
       "      <td>106.83302</td>\n",
       "      <td>13</td>\n",
       "      <td>2023-04-03 05:42:44</td>\n",
       "      <td>B03307P</td>\n",
       "      <td>Sampoerna Strategic</td>\n",
       "      <td>-6.217152</td>\n",
       "      <td>106.81892</td>\n",
       "      <td>21.0</td>\n",
       "      <td>2023-04-03 06:40:01</td>\n",
       "      <td>3500.0</td>\n",
       "    </tr>\n",
       "    <tr>\n",
       "      <th>2</th>\n",
       "      <td>DJWR385V2U57TO</td>\n",
       "      <td>4996225095064169</td>\n",
       "      <td>dki</td>\n",
       "      <td>Emong Wastuti</td>\n",
       "      <td>F</td>\n",
       "      <td>1992</td>\n",
       "      <td>R1A</td>\n",
       "      <td>Pantai Maju - Kota</td>\n",
       "      <td>0.0</td>\n",
       "      <td>B00499P</td>\n",
       "      <td>...</td>\n",
       "      <td>106.81435</td>\n",
       "      <td>38</td>\n",
       "      <td>2023-04-03 05:59:06</td>\n",
       "      <td>B04962P</td>\n",
       "      <td>Simpang Kunir Kemukus</td>\n",
       "      <td>-6.133731</td>\n",
       "      <td>106.81475</td>\n",
       "      <td>39.0</td>\n",
       "      <td>2023-04-03 06:50:55</td>\n",
       "      <td>3500.0</td>\n",
       "    </tr>\n",
       "    <tr>\n",
       "      <th>3</th>\n",
       "      <td>JTUZ800U7C86EH</td>\n",
       "      <td>639099174703</td>\n",
       "      <td>flazz</td>\n",
       "      <td>Surya Wacana</td>\n",
       "      <td>F</td>\n",
       "      <td>1978</td>\n",
       "      <td>11D</td>\n",
       "      <td>Pulo Gebang - Pulo Gadung 2 via PIK</td>\n",
       "      <td>0.0</td>\n",
       "      <td>B05587P</td>\n",
       "      <td>...</td>\n",
       "      <td>106.93526</td>\n",
       "      <td>23</td>\n",
       "      <td>2023-04-03 05:44:51</td>\n",
       "      <td>B03090P</td>\n",
       "      <td>Raya Penggilingan</td>\n",
       "      <td>-6.183068</td>\n",
       "      <td>106.93194</td>\n",
       "      <td>29.0</td>\n",
       "      <td>2023-04-03 06:28:16</td>\n",
       "      <td>3500.0</td>\n",
       "    </tr>\n",
       "    <tr>\n",
       "      <th>4</th>\n",
       "      <td>VMLO535V7F95NJ</td>\n",
       "      <td>570928206772</td>\n",
       "      <td>flazz</td>\n",
       "      <td>Embuh Mardhiyah</td>\n",
       "      <td>M</td>\n",
       "      <td>1982</td>\n",
       "      <td>12</td>\n",
       "      <td>Tanjung Priok - Pluit</td>\n",
       "      <td>0.0</td>\n",
       "      <td>P00239</td>\n",
       "      <td>...</td>\n",
       "      <td>106.88900</td>\n",
       "      <td>5</td>\n",
       "      <td>2023-04-03 06:17:35</td>\n",
       "      <td>P00098</td>\n",
       "      <td>Kali Besar Barat</td>\n",
       "      <td>-6.135355</td>\n",
       "      <td>106.81143</td>\n",
       "      <td>15.0</td>\n",
       "      <td>2023-04-03 06:57:03</td>\n",
       "      <td>3500.0</td>\n",
       "    </tr>\n",
       "  </tbody>\n",
       "</table>\n",
       "<p>5 rows × 22 columns</p>\n",
       "</div>"
      ],
      "text/plain": [
       "          transID         payCardID payCardBank      payCardName payCardSex  \\\n",
       "0  EIIW227B8L34VB   180062659848800      emoney   Bajragin Usada          M   \n",
       "1  LGXO740D2N47GZ  4885331907664776         dki     Gandi Widodo          F   \n",
       "2  DJWR385V2U57TO  4996225095064169         dki    Emong Wastuti          F   \n",
       "3  JTUZ800U7C86EH      639099174703       flazz     Surya Wacana          F   \n",
       "4  VMLO535V7F95NJ      570928206772       flazz  Embuh Mardhiyah          M   \n",
       "\n",
       "   payCardBirthDate corridorID                              corridorName  \\\n",
       "0              2008          5                     Matraman Baru - Ancol   \n",
       "1              1997         6C  Stasiun Tebet - Karet via Patra Kuningan   \n",
       "2              1992        R1A                        Pantai Maju - Kota   \n",
       "3              1978        11D       Pulo Gebang - Pulo Gadung 2 via PIK   \n",
       "4              1982         12                     Tanjung Priok - Pluit   \n",
       "\n",
       "   direction tapInStops  ... tapInStopsLon  stopStartSeq            tapInTime  \\\n",
       "0        1.0     P00142  ...     106.84402             7  2023-04-03 05:21:44   \n",
       "1        0.0    B01963P  ...     106.83302            13  2023-04-03 05:42:44   \n",
       "2        0.0    B00499P  ...     106.81435            38  2023-04-03 05:59:06   \n",
       "3        0.0    B05587P  ...     106.93526            23  2023-04-03 05:44:51   \n",
       "4        0.0     P00239  ...     106.88900             5  2023-04-03 06:17:35   \n",
       "\n",
       "   tapOutStops        tapOutStopsName tapOutStopsLat tapOutStopsLon  \\\n",
       "0       P00253                Tegalan      -6.203101      106.85715   \n",
       "1      B03307P    Sampoerna Strategic      -6.217152      106.81892   \n",
       "2      B04962P  Simpang Kunir Kemukus      -6.133731      106.81475   \n",
       "3      B03090P      Raya Penggilingan      -6.183068      106.93194   \n",
       "4       P00098       Kali Besar Barat      -6.135355      106.81143   \n",
       "\n",
       "   stopEndSeq           tapOutTime  payAmount  \n",
       "0        12.0  2023-04-03 06:00:53     3500.0  \n",
       "1        21.0  2023-04-03 06:40:01     3500.0  \n",
       "2        39.0  2023-04-03 06:50:55     3500.0  \n",
       "3        29.0  2023-04-03 06:28:16     3500.0  \n",
       "4        15.0  2023-04-03 06:57:03     3500.0  \n",
       "\n",
       "[5 rows x 22 columns]"
      ]
     },
     "execution_count": 256,
     "metadata": {},
     "output_type": "execute_result"
    }
   ],
   "source": [
    "df = pd.read_csv(r'C:\\Users\\hp\\Desktop\\Fundamental\\Class\\Capstone Module 2\\Public Transportation Transaction - Transjakarta-20240104T055931Z-001\\Public Transportation Transaction - Transjakarta\\Transjakarta.csv', low_memory=False, sep = \",\")\n",
    "df.head()"
   ]
  },
  {
   "cell_type": "markdown",
   "metadata": {},
   "source": [
    "# Data Understanding dan Data Cleaning"
   ]
  },
  {
   "cell_type": "code",
   "execution_count": 257,
   "metadata": {},
   "outputs": [
    {
     "name": "stdout",
     "output_type": "stream",
     "text": [
      "Jumlah baris dan kolom di dataset adalah (37900, 22)\n",
      "<class 'pandas.core.frame.DataFrame'>\n",
      "RangeIndex: 37900 entries, 0 to 37899\n",
      "Data columns (total 22 columns):\n",
      " #   Column            Non-Null Count  Dtype  \n",
      "---  ------            --------------  -----  \n",
      " 0   transID           37900 non-null  object \n",
      " 1   payCardID         37900 non-null  int64  \n",
      " 2   payCardBank       37900 non-null  object \n",
      " 3   payCardName       37900 non-null  object \n",
      " 4   payCardSex        37900 non-null  object \n",
      " 5   payCardBirthDate  37900 non-null  int64  \n",
      " 6   corridorID        36643 non-null  object \n",
      " 7   corridorName      35970 non-null  object \n",
      " 8   direction         37900 non-null  float64\n",
      " 9   tapInStops        36687 non-null  object \n",
      " 10  tapInStopsName    37900 non-null  object \n",
      " 11  tapInStopsLat     37900 non-null  float64\n",
      " 12  tapInStopsLon     37900 non-null  float64\n",
      " 13  stopStartSeq      37900 non-null  int64  \n",
      " 14  tapInTime         37900 non-null  object \n",
      " 15  tapOutStops       35611 non-null  object \n",
      " 16  tapOutStopsName   36556 non-null  object \n",
      " 17  tapOutStopsLat    36556 non-null  float64\n",
      " 18  tapOutStopsLon    36556 non-null  float64\n",
      " 19  stopEndSeq        36556 non-null  float64\n",
      " 20  tapOutTime        36556 non-null  object \n",
      " 21  payAmount         36893 non-null  float64\n",
      "dtypes: float64(7), int64(3), object(12)\n",
      "memory usage: 6.4+ MB\n"
     ]
    }
   ],
   "source": [
    "print(f'Jumlah baris dan kolom di dataset adalah {df.shape}')\n",
    "df.info()"
   ]
  },
  {
   "cell_type": "code",
   "execution_count": 258,
   "metadata": {},
   "outputs": [],
   "source": [
    "### Di kolom ini menampilkan ringkasan statistik deskriptif pada dataset"
   ]
  },
  {
   "cell_type": "code",
   "execution_count": 259,
   "metadata": {},
   "outputs": [
    {
     "data": {
      "text/html": [
       "<div>\n",
       "<style scoped>\n",
       "    .dataframe tbody tr th:only-of-type {\n",
       "        vertical-align: middle;\n",
       "    }\n",
       "\n",
       "    .dataframe tbody tr th {\n",
       "        vertical-align: top;\n",
       "    }\n",
       "\n",
       "    .dataframe thead th {\n",
       "        text-align: right;\n",
       "    }\n",
       "</style>\n",
       "<table border=\"1\" class=\"dataframe\">\n",
       "  <thead>\n",
       "    <tr style=\"text-align: right;\">\n",
       "      <th></th>\n",
       "      <th>payCardID</th>\n",
       "      <th>payCardBirthDate</th>\n",
       "      <th>direction</th>\n",
       "      <th>tapInStopsLat</th>\n",
       "      <th>tapInStopsLon</th>\n",
       "      <th>stopStartSeq</th>\n",
       "      <th>tapOutStopsLat</th>\n",
       "      <th>tapOutStopsLon</th>\n",
       "      <th>stopEndSeq</th>\n",
       "      <th>payAmount</th>\n",
       "    </tr>\n",
       "  </thead>\n",
       "  <tbody>\n",
       "    <tr>\n",
       "      <th>count</th>\n",
       "      <td>3.790000e+04</td>\n",
       "      <td>37900.000000</td>\n",
       "      <td>37900.000000</td>\n",
       "      <td>37900.000000</td>\n",
       "      <td>37900.000000</td>\n",
       "      <td>37900.000000</td>\n",
       "      <td>36556.000000</td>\n",
       "      <td>36556.000000</td>\n",
       "      <td>36556.000000</td>\n",
       "      <td>36893.000000</td>\n",
       "    </tr>\n",
       "    <tr>\n",
       "      <th>mean</th>\n",
       "      <td>4.250060e+17</td>\n",
       "      <td>1990.089314</td>\n",
       "      <td>0.500633</td>\n",
       "      <td>-6.214838</td>\n",
       "      <td>106.841554</td>\n",
       "      <td>13.572480</td>\n",
       "      <td>-6.214651</td>\n",
       "      <td>106.841233</td>\n",
       "      <td>21.219909</td>\n",
       "      <td>2699.712683</td>\n",
       "    </tr>\n",
       "    <tr>\n",
       "      <th>std</th>\n",
       "      <td>1.321699e+18</td>\n",
       "      <td>13.051482</td>\n",
       "      <td>0.500006</td>\n",
       "      <td>0.057911</td>\n",
       "      <td>0.060369</td>\n",
       "      <td>12.237623</td>\n",
       "      <td>0.059022</td>\n",
       "      <td>0.060999</td>\n",
       "      <td>13.800689</td>\n",
       "      <td>4212.225592</td>\n",
       "    </tr>\n",
       "    <tr>\n",
       "      <th>min</th>\n",
       "      <td>6.040368e+10</td>\n",
       "      <td>1946.000000</td>\n",
       "      <td>0.000000</td>\n",
       "      <td>-6.394973</td>\n",
       "      <td>106.614730</td>\n",
       "      <td>0.000000</td>\n",
       "      <td>-6.394973</td>\n",
       "      <td>106.614730</td>\n",
       "      <td>1.000000</td>\n",
       "      <td>0.000000</td>\n",
       "    </tr>\n",
       "    <tr>\n",
       "      <th>25%</th>\n",
       "      <td>1.800442e+14</td>\n",
       "      <td>1982.000000</td>\n",
       "      <td>0.000000</td>\n",
       "      <td>-6.245863</td>\n",
       "      <td>106.803470</td>\n",
       "      <td>4.000000</td>\n",
       "      <td>-6.247225</td>\n",
       "      <td>106.801750</td>\n",
       "      <td>11.000000</td>\n",
       "      <td>0.000000</td>\n",
       "    </tr>\n",
       "    <tr>\n",
       "      <th>50%</th>\n",
       "      <td>3.507947e+15</td>\n",
       "      <td>1990.000000</td>\n",
       "      <td>1.000000</td>\n",
       "      <td>-6.214587</td>\n",
       "      <td>106.834830</td>\n",
       "      <td>10.000000</td>\n",
       "      <td>-6.214718</td>\n",
       "      <td>106.834580</td>\n",
       "      <td>18.000000</td>\n",
       "      <td>3500.000000</td>\n",
       "    </tr>\n",
       "    <tr>\n",
       "      <th>75%</th>\n",
       "      <td>4.699023e+15</td>\n",
       "      <td>2001.000000</td>\n",
       "      <td>1.000000</td>\n",
       "      <td>-6.175528</td>\n",
       "      <td>106.882270</td>\n",
       "      <td>19.000000</td>\n",
       "      <td>-6.174736</td>\n",
       "      <td>106.883030</td>\n",
       "      <td>29.000000</td>\n",
       "      <td>3500.000000</td>\n",
       "    </tr>\n",
       "    <tr>\n",
       "      <th>max</th>\n",
       "      <td>4.997694e+18</td>\n",
       "      <td>2012.000000</td>\n",
       "      <td>1.000000</td>\n",
       "      <td>-6.089429</td>\n",
       "      <td>107.023950</td>\n",
       "      <td>68.000000</td>\n",
       "      <td>-6.091746</td>\n",
       "      <td>107.023660</td>\n",
       "      <td>77.000000</td>\n",
       "      <td>20000.000000</td>\n",
       "    </tr>\n",
       "  </tbody>\n",
       "</table>\n",
       "</div>"
      ],
      "text/plain": [
       "          payCardID  payCardBirthDate     direction  tapInStopsLat  \\\n",
       "count  3.790000e+04      37900.000000  37900.000000   37900.000000   \n",
       "mean   4.250060e+17       1990.089314      0.500633      -6.214838   \n",
       "std    1.321699e+18         13.051482      0.500006       0.057911   \n",
       "min    6.040368e+10       1946.000000      0.000000      -6.394973   \n",
       "25%    1.800442e+14       1982.000000      0.000000      -6.245863   \n",
       "50%    3.507947e+15       1990.000000      1.000000      -6.214587   \n",
       "75%    4.699023e+15       2001.000000      1.000000      -6.175528   \n",
       "max    4.997694e+18       2012.000000      1.000000      -6.089429   \n",
       "\n",
       "       tapInStopsLon  stopStartSeq  tapOutStopsLat  tapOutStopsLon  \\\n",
       "count   37900.000000  37900.000000    36556.000000    36556.000000   \n",
       "mean      106.841554     13.572480       -6.214651      106.841233   \n",
       "std         0.060369     12.237623        0.059022        0.060999   \n",
       "min       106.614730      0.000000       -6.394973      106.614730   \n",
       "25%       106.803470      4.000000       -6.247225      106.801750   \n",
       "50%       106.834830     10.000000       -6.214718      106.834580   \n",
       "75%       106.882270     19.000000       -6.174736      106.883030   \n",
       "max       107.023950     68.000000       -6.091746      107.023660   \n",
       "\n",
       "         stopEndSeq     payAmount  \n",
       "count  36556.000000  36893.000000  \n",
       "mean      21.219909   2699.712683  \n",
       "std       13.800689   4212.225592  \n",
       "min        1.000000      0.000000  \n",
       "25%       11.000000      0.000000  \n",
       "50%       18.000000   3500.000000  \n",
       "75%       29.000000   3500.000000  \n",
       "max       77.000000  20000.000000  "
      ]
     },
     "metadata": {},
     "output_type": "display_data"
    },
    {
     "data": {
      "text/html": [
       "<div>\n",
       "<style scoped>\n",
       "    .dataframe tbody tr th:only-of-type {\n",
       "        vertical-align: middle;\n",
       "    }\n",
       "\n",
       "    .dataframe tbody tr th {\n",
       "        vertical-align: top;\n",
       "    }\n",
       "\n",
       "    .dataframe thead th {\n",
       "        text-align: right;\n",
       "    }\n",
       "</style>\n",
       "<table border=\"1\" class=\"dataframe\">\n",
       "  <thead>\n",
       "    <tr style=\"text-align: right;\">\n",
       "      <th></th>\n",
       "      <th>transID</th>\n",
       "      <th>payCardBank</th>\n",
       "      <th>payCardName</th>\n",
       "      <th>payCardSex</th>\n",
       "      <th>corridorID</th>\n",
       "      <th>corridorName</th>\n",
       "      <th>tapInStops</th>\n",
       "      <th>tapInStopsName</th>\n",
       "      <th>tapInTime</th>\n",
       "      <th>tapOutStops</th>\n",
       "      <th>tapOutStopsName</th>\n",
       "      <th>tapOutTime</th>\n",
       "    </tr>\n",
       "  </thead>\n",
       "  <tbody>\n",
       "    <tr>\n",
       "      <th>count</th>\n",
       "      <td>37900</td>\n",
       "      <td>37900</td>\n",
       "      <td>37900</td>\n",
       "      <td>37900</td>\n",
       "      <td>36643</td>\n",
       "      <td>35970</td>\n",
       "      <td>36687</td>\n",
       "      <td>37900</td>\n",
       "      <td>37900</td>\n",
       "      <td>35611</td>\n",
       "      <td>36556</td>\n",
       "      <td>36556</td>\n",
       "    </tr>\n",
       "    <tr>\n",
       "      <th>unique</th>\n",
       "      <td>37900</td>\n",
       "      <td>6</td>\n",
       "      <td>1993</td>\n",
       "      <td>2</td>\n",
       "      <td>221</td>\n",
       "      <td>216</td>\n",
       "      <td>2570</td>\n",
       "      <td>2602</td>\n",
       "      <td>37079</td>\n",
       "      <td>2230</td>\n",
       "      <td>2248</td>\n",
       "      <td>35908</td>\n",
       "    </tr>\n",
       "    <tr>\n",
       "      <th>top</th>\n",
       "      <td>EIIW227B8L34VB</td>\n",
       "      <td>dki</td>\n",
       "      <td>Fathonah Saefullah</td>\n",
       "      <td>F</td>\n",
       "      <td>1T</td>\n",
       "      <td>Cibubur - Balai Kota</td>\n",
       "      <td>P00170</td>\n",
       "      <td>Penjaringan</td>\n",
       "      <td>2023-04-25 06:23:00</td>\n",
       "      <td>P00016</td>\n",
       "      <td>BKN</td>\n",
       "      <td>2023-04-10 19:10:15</td>\n",
       "    </tr>\n",
       "    <tr>\n",
       "      <th>freq</th>\n",
       "      <td>1</td>\n",
       "      <td>18743</td>\n",
       "      <td>80</td>\n",
       "      <td>20157</td>\n",
       "      <td>400</td>\n",
       "      <td>391</td>\n",
       "      <td>236</td>\n",
       "      <td>243</td>\n",
       "      <td>3</td>\n",
       "      <td>306</td>\n",
       "      <td>316</td>\n",
       "      <td>3</td>\n",
       "    </tr>\n",
       "  </tbody>\n",
       "</table>\n",
       "</div>"
      ],
      "text/plain": [
       "               transID payCardBank         payCardName payCardSex corridorID  \\\n",
       "count            37900       37900               37900      37900      36643   \n",
       "unique           37900           6                1993          2        221   \n",
       "top     EIIW227B8L34VB         dki  Fathonah Saefullah          F         1T   \n",
       "freq                 1       18743                  80      20157        400   \n",
       "\n",
       "                corridorName tapInStops tapInStopsName            tapInTime  \\\n",
       "count                  35970      36687          37900                37900   \n",
       "unique                   216       2570           2602                37079   \n",
       "top     Cibubur - Balai Kota     P00170    Penjaringan  2023-04-25 06:23:00   \n",
       "freq                     391        236            243                    3   \n",
       "\n",
       "       tapOutStops tapOutStopsName           tapOutTime  \n",
       "count        35611           36556                36556  \n",
       "unique        2230            2248                35908  \n",
       "top         P00016             BKN  2023-04-10 19:10:15  \n",
       "freq           306             316                    3  "
      ]
     },
     "metadata": {},
     "output_type": "display_data"
    }
   ],
   "source": [
    "display(df.describe(), df.describe(include='object'))"
   ]
  },
  {
   "cell_type": "code",
   "execution_count": 260,
   "metadata": {},
   "outputs": [
    {
     "name": "stdout",
     "output_type": "stream",
     "text": [
      "              transID            payCardID payCardBank  \\\n",
      "7      XTKE052E5E87LN     3587341902618993         dki   \n",
      "120    MCWO805A6Q66MX     3570416613897992         dki   \n",
      "240    PTDK452M9A71XF      342370004909630      emoney   \n",
      "250    OLZA217B5B95DK  4371940047525876160      brizzi   \n",
      "257    GHEY769K9T55WF        4281653494791      online   \n",
      "...               ...                  ...         ...   \n",
      "37689  ZVAU363K8Z72QF     4235440226938980         dki   \n",
      "37727  MGBX067C2V69EZ      213145593134816      emoney   \n",
      "37770  RGLG273G3M96TE  4725638979751926133      brizzi   \n",
      "37797  HBLN935K0C66OQ        4667337468542      online   \n",
      "37838  GTLM961T1U29JA     4204405669287580         dki   \n",
      "\n",
      "                     payCardName payCardSex  payCardBirthDate corridorID  \\\n",
      "7                Darmanto Rajasa          F              1991        NaN   \n",
      "120         Gawati Damanik, S.E.          F              2010        NaN   \n",
      "240        Kartika Habibi, S.Psi          M              1975        NaN   \n",
      "250                Zelda Laksita          M              2009        NaN   \n",
      "257                 Zelda Wibowo          M              1989        NaN   \n",
      "...                          ...        ...               ...        ...   \n",
      "37689           Tgk. Tari Wibowo          F              1989        NaN   \n",
      "37727                Ulva Namaga          F              1995        NaN   \n",
      "37770  Murti Simanjuntak, M.Farm          M              1988        NaN   \n",
      "37797  drg. Bala Yolanda, S.Farm          M              1984        NaN   \n",
      "37838          Saka Wijaya, S.H.          M              1995        NaN   \n",
      "\n",
      "                                       corridorName  direction tapInStops  \\\n",
      "7                                               NaN        1.0    B03416P   \n",
      "120                                             NaN        0.0     P00109   \n",
      "240                                             NaN        0.0    B04505P   \n",
      "250                                             NaN        1.0    B04576P   \n",
      "257                                             NaN        0.0    B00048P   \n",
      "...                                             ...        ...        ...   \n",
      "37689                                           NaN        1.0     P00014   \n",
      "37727                                           NaN        1.0     P00146   \n",
      "37770                                           NaN        1.0     P00076   \n",
      "37797  Rusun Marunda - Terminal Terpadu Pulo Gebang        1.0    B04607P   \n",
      "37838                                           NaN        1.0    B03520P   \n",
      "\n",
      "       ... tapInStopsLon  stopStartSeq            tapInTime  tapOutStops  \\\n",
      "7      ...     106.80221             2  2023-04-03 06:44:24      B00899P   \n",
      "120    ...     106.86115             8  2023-04-03 06:38:44       P00224   \n",
      "240    ...     106.81934            13  2023-04-03 05:13:16      B03396P   \n",
      "250    ...     106.73786            11  2023-04-03 06:24:37      B05009P   \n",
      "257    ...     106.92867            16  2023-04-03 05:05:24      B05823P   \n",
      "...    ...           ...           ...                  ...          ...   \n",
      "37689  ...     106.89859            23  2023-04-28 19:01:21       P00192   \n",
      "37727  ...     106.81792             6  2023-04-16 17:38:14       P00092   \n",
      "37770  ...     106.83237            11  2023-04-16 09:06:33       P00141   \n",
      "37797  ...     106.95694            59  2023-04-29 19:18:55      B02223P   \n",
      "37838  ...     106.94385            12  2023-04-28 12:30:26      B04078P   \n",
      "\n",
      "                  tapOutStopsName tapOutStopsLat tapOutStopsLon  stopEndSeq  \\\n",
      "7                      Jln. Baros      -6.311046      106.78400        12.0   \n",
      "120                 Slamet Riyadi      -6.208533      106.85929         9.0   \n",
      "240               Kota Kasablanka      -6.224688      106.84246        20.0   \n",
      "250         Simpang Meruya Ilir 1      -6.196682      106.75517        28.0   \n",
      "257             United Tractors 1      -6.183260      106.93243        28.0   \n",
      "...                           ...            ...            ...         ...   \n",
      "37689               Pulo Gadung 1      -6.183239      106.90907        24.0   \n",
      "37727              Jembatan Merah      -6.146731      106.83427         9.0   \n",
      "37770                       Pakin      -6.127982      106.80474        25.0   \n",
      "37797            Marlindo Marunda      -6.121746      106.95715        61.0   \n",
      "37838  Sbr. Masjid Pasmar Marunda      -6.115928      106.95189        64.0   \n",
      "\n",
      "                tapOutTime  payAmount  \n",
      "7      2023-04-03 07:11:43        0.0  \n",
      "120    2023-04-03 07:32:11     3500.0  \n",
      "240    2023-04-03 05:39:55     3500.0  \n",
      "250    2023-04-03 07:13:18        0.0  \n",
      "257    2023-04-03 05:41:12     3500.0  \n",
      "...                    ...        ...  \n",
      "37689  2023-04-28 21:23:44     3500.0  \n",
      "37727  2023-04-16 18:14:25     3500.0  \n",
      "37770  2023-04-16 11:14:06     3500.0  \n",
      "37797  2023-04-29 20:02:28        0.0  \n",
      "37838  2023-04-28 13:59:57        0.0  \n",
      "\n",
      "[1257 rows x 22 columns]\n"
     ]
    }
   ],
   "source": [
    "# Menggunakan metode isna() untuk mencari nilai yang kosong dalam kolom tertentu\n",
    "kolom_tujuan = 'corridorID'  # Ganti 'nama_kolom' dengan nama kolom yang ingin Anda periksa\n",
    "\n",
    "nilai_kosong = df[df[kolom_tujuan].isnull()]\n",
    "print(nilai_kosong)\n"
   ]
  },
  {
   "cell_type": "code",
   "execution_count": 261,
   "metadata": {},
   "outputs": [
    {
     "data": {
      "text/html": [
       "<div>\n",
       "<style scoped>\n",
       "    .dataframe tbody tr th:only-of-type {\n",
       "        vertical-align: middle;\n",
       "    }\n",
       "\n",
       "    .dataframe tbody tr th {\n",
       "        vertical-align: top;\n",
       "    }\n",
       "\n",
       "    .dataframe thead th {\n",
       "        text-align: right;\n",
       "    }\n",
       "</style>\n",
       "<table border=\"1\" class=\"dataframe\">\n",
       "  <thead>\n",
       "    <tr style=\"text-align: right;\">\n",
       "      <th></th>\n",
       "      <th>Column Name</th>\n",
       "      <th>Number of Unique</th>\n",
       "      <th>Unique Sample</th>\n",
       "    </tr>\n",
       "  </thead>\n",
       "  <tbody>\n",
       "    <tr>\n",
       "      <th>0</th>\n",
       "      <td>transID</td>\n",
       "      <td>37900</td>\n",
       "      <td>[EIIW227B8L34VB, LGXO740D2N47GZ, DJWR385V2U57TO, JTUZ800U7C86EH, VMLO535V7F95NJ, DDES630K2F80KC, HEMW326B9N91TV, XTKE052E5E87LN, OIHS248V7S72EB, ERXO372B2H63RB, CLWK627W2M22WO, IIEK980X1O23NZ, OPLW560U3S06UG, XESX233R4U46DN, LZFD368Q3E81HJ, KLUN542I2F21PI, XDMP644Z5Y29DB, CUPO258C0D42PY, SBPQ144H4S45RA, ZYRL615G4C05RD, MEFW094B7A84RS, ZJVI960B9I42DA, RJPK085I1K65HR, TFIO518N2X54UT, SYLN486U0E02TA, BECP746A8C28NV, KYNP204W3G29VA, MSFD430X8W13TO, MKND874X1D96HF, LFYJ535S2I30DP, TCKQ601Q5O01BC, KQIA358G2N38CX, RANO576G1J87EO, NZCE828E4J23AW, OFPJ170M5O75AP, LKXU174O1E59EP, AXTN077R7Z77JM, WQXL397G5U61OY, RLLZ887W3V14WZ, JJEK861K6E37KF, UANX737M9L25GI, VUWZ891M7I57EB, CXLW459Z3A28RD, AQPU510X2X44PT, BRUT293K1O98GA, MMEX885R3T18QL, UNFK619O2R74DX, FTGY161E2O14MG, ELVU605Z3W26IF, KPDA909R2T72GD, GIHF067H1Y81IV, IXJW013G5W79VX, PKAM574R5S22UG, IQBJ843C4G34DE, SRIX686S0S08SW, MLTY652D7F29HW, NICD824U6H93DE, YEOK544W1J67OX, OPNL705D9K64FN, KHKM512K0T88LD, RHUT145C1U25ZY, TWAK265Z0M88QR, JQIF022K9P74RM, MQCN972F9X71NY, KINJ335N6L86YT, TDIY341Y5S79UU, TFRA396G6W78PD, GXOP506G9B61EP, XESL868N6A66XN, IVHH403J9T51JH, OTGH855B8A29BP, YJMS457L2O20JF, NNAE999Q4V92XM, UCMI767D7M79GS, ZHFN555D9L05LU, WHTZ386I9S44YF, VHUC320U1S58CB, DBWI728C0M55ND, HHCJ093F0W41XK, JUNS207R4F95UA, LFIW578V8Y12XO, GYVC538M6B25WO, QRFR658M6P01AH, TKQW976R2D32RY, PCGM443G2W62OB, PEGV120E5W96OH, BUQT197K3D65PN, UNSO267V8F26WP, RHCN069U6G42WD, QMHC825R0K38KM, WGRY331M3O87VE, TKRV681O2S46RW, ELFD362R2U94NT, YYXK265F5N59SE, ZGJG301G9Z71AR, KNSE319Q1P35CC, RMJF585F2W51BQ, KFYK655N1H73XS, WTBE175B2A58NC, SVRH922T8G79FY, ...]</td>\n",
       "    </tr>\n",
       "    <tr>\n",
       "      <th>1</th>\n",
       "      <td>payCardID</td>\n",
       "      <td>2000</td>\n",
       "      <td>[180062659848800, 4885331907664776, 4996225095064169, 639099174703, 570928206772, 2251412124634980, 213155822653833, 3587341902618993, 6510013988638519, 3580401035990896, 5541851157087967, 347204308990092, 3536759468239783, 6575130739600630, 4056836188316, 4532407180860336, 4556326832434362836, 4969284110642, 502034641014, 5430018591726410, 378872365541693, 343851798729291, 676293109036, 213191293100137, 2295833910329055, 4968156435384914, 676367323901, 4384653483539395, 213155309116759, 4682220924642, 3589380857722689, 4394677357168120, 4905734029265594, 379334845079777, 346910704516122, 2247096843683316, 675990206087, 639040388584, 4947438345710982, 3539535695881465, 574726750023, 344303671677311, 3544931989278653, 4017802962833960, 5465310774429054, 347394043585982, 4723250872219869, 3545499820365948, 2718070346782735, 342531623551844, 349944373495091, 4428582927102421723, 566171543168, 213121690546749, 3527853482331808, 5542490449138301, 4380875529452127, 4172238784006231, 340065298083181, 4268640600849949, 4290559479079, 213155263532652, 4294484188649274, 180057903365395, 3551174827324245, 340858239719917, 3569562588766630, 180016859215889, 373945281501952, 5134532253940704, 3549158005951908, 379764016867073, 4189640459822695962, 4766007569419196, 3576239635494729, 587887634588, 567286069354, 4097122165824, 378851219912235, 180022972730457, 2237440645700724, 6011162006507240, 4730280883020443501, 3505707886664931, 4450403105752326, 4074114259011835374, 4000041838802, 4112330548313, 30583455954585, 3537543297101185, 2720484776954605, 3570422408611549, 2291402671071407, 676172975739, 180020791350481, 502072062834, 30385017224303, 6590854673757012, 4963710913075879668, 213104805015669, ...]</td>\n",
       "    </tr>\n",
       "    <tr>\n",
       "      <th>2</th>\n",
       "      <td>payCardBank</td>\n",
       "      <td>6</td>\n",
       "      <td>[emoney, dki, flazz, online, brizzi, bni]</td>\n",
       "    </tr>\n",
       "    <tr>\n",
       "      <th>3</th>\n",
       "      <td>payCardName</td>\n",
       "      <td>1993</td>\n",
       "      <td>[Bajragin Usada, Gandi Widodo, Emong Wastuti, Surya Wacana, Embuh Mardhiyah, Tirta Siregar, R. Devi Hariyah, S.T., Darmanto Rajasa, Cagak Maheswara, S.Sos, T. Dadap Pradana, M.Ak, Oskar Widiastuti, S.Farm, R.M. Labuh Laksmiwati, Shakila Maryadi, Danuja Usada, Nadine Utami, H. Lutfan Nurdiyanti, Sari Nababan, Hj. Ophelia Haryanti, S.Sos, Adikara Kurniawan, S.Sos, Karna Waskita, Aslijan Irawan, Garang Utama, Fathonah Saefullah, Darman Purwanti, Taufik Farida, Martana Suartini, Eluh Nugroho, Cut Hana Maulana, S.H., Tgk. Ilsa Farida, Drs. Nadia Ramadan, S.Sos, drg. Lukman Hidayanto, Ibrahim Prayoga, S.H., Ega Andriani, Salman Ramadan, Zizi Nasyiah, Tgk. Aris Pradipta, M.M., Margana Narpati, Galang Megantara, S.Ked, Rahayu Rahayu, Dr. Zulfa Tamba, S.E.I, drg. Lukita Rajata, R. Mila Wahyuni, S.Sos, Artawan Iswahyudi, M.Pd, Aurora Hasanah, Hj. Rahmi Hartati, Darmaji Wahyuni, Cager Setiawan, Cawuk Mayasari, Asman Uyainah, Zulaikha Yulianti, Oliva Sirait, dr. Belinda Handayani, S.E., Laila Simanjuntak, Pranata Wahyudin, Puti Paris Marpaung, Sutan Narji Nasyidah, Tirtayasa Sitorus, Galak Prayoga, S.Pd, Tgk. Garda Utami, Elvina Situmorang, S.Psi, Lutfan Hakim, Restu Waluyo, Gara Sitompul, Daryani Prabowo, Gangsa Widodo, Yance Pratama, S.Kom, dr. Sakura Budiman, S.IP, Zalindra Irawan, M.TI., Jamal Pudjiastuti, S.I.Kom, Suci Wacana, Mustofa Wijayanti, M.Farm, Saka Sihombing, Mutia Mayasari, Danu Suartini, S.Farm, Harsaya Natsir, Drs. Harjo Nurdiyanti, Dt. Atmaja Suartini, M.Farm, Dewi Mansur, Tina Hutasoit, Tgk. Tania Zulaika, M.Pd, Latika Sirait, Lasmanto Budiman, Zamira Puspita, T. Bagas Halimah, Dr. Intan Mulyani, S.E.I, Vero Hutagalung, Diah Marpaung, Drs. Gilda Sinaga, S.Psi, Bahuwirya Rahayu, Samsul Ramadan, Bancar Irawan, Jati Nainggolan, M.TI., Puspa Saptono, Dr. Zaenab Wulandari, S.Ked, T. Karna Sihombing, Kalim Namaga, dr. Vega Rahimah, S.Pt, Bajragin Najmudin, Ophelia Firmansyah, Sutan Garda Tampubolon, S.Pd, ...]</td>\n",
       "    </tr>\n",
       "    <tr>\n",
       "      <th>4</th>\n",
       "      <td>payCardSex</td>\n",
       "      <td>2</td>\n",
       "      <td>[M, F]</td>\n",
       "    </tr>\n",
       "    <tr>\n",
       "      <th>5</th>\n",
       "      <td>payCardBirthDate</td>\n",
       "      <td>67</td>\n",
       "      <td>[2008, 1997, 1992, 1978, 1982, 1993, 1974, 1991, 2004, 1984, 1988, 2002, 1975, 2011, 2003, 1981, 2009, 1983, 1999, 2007, 1979, 1960, 1995, 2001, 1990, 1968, 1985, 2010, 1989, 2006, 1986, 1965, 2005, 1966, 1994, 1972, 1969, 1970, 2000, 1953, 1977, 2012, 1987, 1996, 1971, 1956, 1980, 1998, 1973, 1946, 1976, 1959, 1967, 1951, 1957, 1948, 1961, 1964, 1963, 1962, 1949, 1954, 1947, 1952, 1958, 1955, 1950]</td>\n",
       "    </tr>\n",
       "    <tr>\n",
       "      <th>6</th>\n",
       "      <td>corridorID</td>\n",
       "      <td>221</td>\n",
       "      <td>[5, 6C, R1A, 11D, 12, 1T, JAK.18, nan, B14, 1Q, 5M, M7B, 9A, 4, JAK.46, S22, 13, 9E, M9, JAK.88, T11, JAK.16, 6V, 11Q, JAK.02, 11, 1C, 3B, M1, 7E, 1P, 7D, 6H, 14, BW9, JIS3, 2, JAK.15, 6N, M11, JAK.112, 9N, JAK.43B, JAK.42, 7P, JAK.36, 13B, JAK.06, JAK.14, M7, T21, 12A, 9D, 1, 3A, 3C, M8, B21, JAK.71, JAK.77, M3, JAK.44, JAK.48B, 8K, JAK.19, M10, 10D, JAK.75, B11, JAK.52, JAK.37, JAK.31, 11M, JAK.43C, 2F, 8C, M2, 12B, 5D, JAK.117, 3H, JAK.49, 7A, 7Q, JAK.20, 1M, JAK.118, 5C, JAK.27, 6Q, 4E, JAK.13, JAK.84, 2H, JAK.08, 8E, JAK.23, 6M, JAK.07, JAK.22, ...]</td>\n",
       "    </tr>\n",
       "    <tr>\n",
       "      <th>7</th>\n",
       "      <td>corridorName</td>\n",
       "      <td>216</td>\n",
       "      <td>[Matraman Baru - Ancol, Stasiun Tebet - Karet via Patra Kuningan, Pantai Maju - Kota, Pulo Gebang - Pulo Gadung 2 via PIK, Tanjung Priok - Pluit, Cibubur - Balai Kota, Kalibata - Kuningan, nan, Bekasi Barat - Kuningan, Rempoa - Blok M, Kampung Melayu - Tanah Abang via Cikini, BKN - Blok M, PGC 2 - Grogol 2, Pulo Gadung 2 - Tosari, Pasar Minggu - Jagakarsa, Ciputat - Kampung Rambutan, Ciledug - Tendean, Kebayoran Lama - Jelambar, Pinang Ranti - Pluit, Terminal Tanjung Priok - Ancol Barat, Poris Plawad - Bundaran Senayan, Cililitan - Condet, Ragunan - Gelora Bung Karno, Kampung Melayu - Pulo Gebang via BKT, Kampung Melayu - Duren Sawit, Pulo Gebang - Matraman, Pesanggrahan - Blok M, Rusun Flamboyan - Cengkareng, Blok M - Kota, Kampung Rambutan - Ragunan, Senen - Blok M, Pancoran - Kampung Rambutan, Senen - Lebak Bulus, Jakarta International Stadium - Senen, Monas - Pantai Indah Kapuk, Harmoni - Jakarta International Stadium, Bulak Turi - Tanjung Priok, Ragunan - Blok M via Kemang, Pulo Gebang - Pulo Gadung 2, Terminal Tanah Merah - Pulo Gadung, Pinang Ranti - Pramuka, Tongtek - Tebet Eco Park (TEP) - Cililitan, Kampung Melayu - Pondok Kelapa, Pulo Gadung - Monas, Pondok Kelapa - BKN, Cilangkap - Cililitan, Puri Beta - Pancoran Barat, Kampung Rambutan - Pondok Gede, Tanah Abang - Meruya, Kampung Rambutan - Monas, Pasar Minggu - Tanah Abang, Rusun Pesakih - Kalideres, Rusun Kapuk Muara - Penjaringan, Lebak Bulus - Pasar Baru, Bekasi Timur - Cawang, Pelabuhan Kaliadem - Kota, Kampung Rambutan - Pinang Ranti, Tanjung Priok - Jembatan Item, Andara - Stasiun Universitas Pancasila, Stasiun Tebet - Kampung Melayu, Batusari - Grogol, Pinang Ranti - Kampung Rambutan, PGC 2 - Tanjung Priok, Kampung Rambutan - Tanjung Priok, Cililitan - Kp. Pulo, Summarecon Bekasi - BNN, Terminal Kalideres - Terminal Muara Angke, Cililitan - Condet via Kayu Manis, Blok M - Andara, Rusun Rawa Bebek - Bukit Duri, Sarana Jaya - Tebet Eco Park (TEP) - Stasiun Cawang, Rusun Cakung Barat - Pulo Gadung, Kebayoran Lama - Tanah Abang, Pluit - Senen, PGC 1 - Ancol, Tanjung Priok - Tanah Merdeka, Jelambar - Kota, Lebak Bulus - Cipulir, Kampung Rambutan - Lebak Bulus, Blok M - PGC, Cawang UKI - Lubang Buaya, Meruya - Blok M, Taman Waduk Papanggo - Kota Tua, PGC - Juanda, Pulo Gebang - Rorotan, Dukuh Atas - Casablanca via Epicentrum Raya, Rusun Jatinegara Kaum - Pulo Gadung, Terminal Kampung Melayu - Kapin Raya, Rusun Jati Rawasari - Senen, Roxy - Benhil, Palem Semi - Bundaran Senayan, Bintaro - Blok M, Senen - Pisangan Baru, Stasiun Manggarai - Blok M, Tanah Abang - Grogol via Tawakal, Term. Tj. Priok - Pegangsaan II IGI, Cililitan - Dwikora, Rawamangun - Duren Sawit, Puri Beta - Kuningan (Express), St. LRT Pegangsaan Dua - JIS, ...]</td>\n",
       "    </tr>\n",
       "    <tr>\n",
       "      <th>8</th>\n",
       "      <td>direction</td>\n",
       "      <td>2</td>\n",
       "      <td>[1.0, 0.0]</td>\n",
       "    </tr>\n",
       "    <tr>\n",
       "      <th>9</th>\n",
       "      <td>tapInStops</td>\n",
       "      <td>2570</td>\n",
       "      <td>[P00142, B01963P, B00499P, B05587P, P00239, B00127P, B00243P, B03416P, B00795P, B05781P, B05433P, P00254, P00281, P00159, B00608P, B05291P, P00096, B00058P, P00093, B00722P, P00206, nan, P00259, B02335P, B05023P, P00233, B05833P, B06299P, B06040P, P00183, B00001P, B02831P, B00102P, P00039, P00128, B01311P, B02476P, P00114, B02994P, P00202, B02761P, B00039P, P00102, B01067P, P00064, B03675P, B03484P, P00044, B02032P, B02665P, P00151, B02638P, P00106, B02540P, B01301P, B01875P, P00145, B05351P, B00589P, B05324P, B00693P, P00104, B02760P, B04209P, P00170, P00245, B02263P, B05253P, B02408P, B03360P, B06877P, P00237, B04386P, B00292P, B02272P, B05177P, B00563P, P00287, P00036, B00671P, B01728P, B01829P, B00908P, B03711P, P00169, B06086P, B06183P, P00158, B03206P, P00083, P00014, B05080P, P00109, B05716P, B04040P, P00087, B04647P, B01790P, B00610P, B01509P, ...]</td>\n",
       "    </tr>\n",
       "    <tr>\n",
       "      <th>10</th>\n",
       "      <td>tapInStopsName</td>\n",
       "      <td>2602</td>\n",
       "      <td>[Pal Putih, Kemenkes 2, Gg. Kunir II, Taman Elok 1, Sunter Boulevard Barat, Benhil 3, Cervino Village, SDN Pondok Labu 11, Imperium, TPU Bungur, Pegangsaan Timur, Tendean, Slipi Petamburan Arah Selatan, Pasar Rumput, Gelanggang Remaja Pasar Minggu, SMK Darussalam, JORR, Apartemen Simprug Teras, Jembatan Tiga Arah Utara, Gunung Sahari Mangga Dua Timur, RS Harapan Kita Arah Utara, Lippo Mall Kramat Jati, Tirtayasa, Masjid Jami At Taqwa 2, Simpang Pahlawan Revolusi 1, St. Jatinegara 2, Univ. Moestopo Bintaro, Jln. Kayu Besar Dalam, Pantai Maju, Polda Metro Jaya, 18 Office Park, Phe Tower Kebagusan, Balai Kota 1, Cikoko Stasiun Cawang Arah Barat, Lebak Bulus, Jln. Kwitang Timur, Monas 2, Kemayoran Landas Pacu Timur, PTUN Jakarta, Rawa Selatan, Pertamina Kilang Minyak, Jln. BB Utara, Ampera Garden, Kampung Sumur, Jln. Gading Mas Barat IV, Garuda Taman Mini, Sbr. Jln. Cikoko Timur I, Sbr. Dirjen Anggaran, CSW 1, Komplek Dolog Jaya, Ps. Pondok Bambu 1, Pasar Enjo, Ps. Kramat Jati 2, Kebayoran Lama, One Park Residences, Jln. Kramat Lubang Buaya, Kec. Kembangan, Pancoran Tugu Arah Barat, SMPN 143, GBK Pintu 7, SMKN 56, Grand Pasar Minggu, Karet Sudirman, Pertamina Kalideres Daan Mogot, Sbr. Plaza Kemang 88, Penjaringan, Tanah Kusir Kodim, Masjid Amar Maruf 2, SMAK Penabur Enam 2, Menara Astra, SDN Dukuh 01, Simpang Jln. Cemara, Sumur Bor, Sbr. Sekolah Islam Al Azhar Jagakarsa, Danau Agung 1, Masjid As Sudairi, Simpang Tj. Duren Timur 5, Gg. Suka Damai, Permai Koja Arah Selatan, Cempaka Putih, Graha Dirgantara, Jatibening 1, Karang Asri, Jln. Batu Permata V, Sbr. Jln. H. Jian 2B Cipete, Penggilingan, Tebet Eco Park Selatan 3, Jln. Anggrek Raya, Pasar Pulo Gadung, RSUD Boulevard Raya, Jak Lingko Tanah Abang, Bermis, Simpang Pluit Raya, Matraman Baru, Term. Pasar Minggu 2, Sbr. Masjid Ar Rohmah, Jelambar, Sekolah Penabur Gunung Sahari, JPO Timur Pondok Indah 1, Gelanggang TB Simatupang, ...]</td>\n",
       "    </tr>\n",
       "    <tr>\n",
       "      <th>11</th>\n",
       "      <td>tapInStopsLat</td>\n",
       "      <td>2587</td>\n",
       "      <td>[-6.184631, -6.2287, -6.133132, -6.195743, -6.14965, -6.21601, -6.224355, -6.313269, -6.210363, -6.247208, -6.199263, -6.240213, -6.201948, -6.207125, -6.284615, -6.319946, -6.236104, -6.232197, -6.133383, -6.137032, -6.184489, -6.270835, -6.239207, -6.229704, -6.238658, -6.215601, -6.258469, -6.122739, -6.093637, -6.221094, -6.299146, -6.299876, -6.180598, -6.243359, -6.289413, -6.173788, -6.175999, -6.152181, -6.196388, -6.173925, -6.108789, -6.120279, -6.288794, -6.214412, -6.167384, -6.290154, -6.244364, -6.227253, -6.23994, -6.24794, -6.238102, -6.214881, -6.269037, -6.23834, -6.245436, -6.291363, -6.195068, -6.2433, -6.108442, -6.222095, -6.119094, -6.290648, -6.212457, -6.15571, -6.270024, -6.126306, -6.256997, -6.255062, -6.115644, -6.207361, -6.287794, -6.12663, -6.153046, -6.330035, -6.147281, -6.220626, -6.180482, -6.295718, -6.114359, -6.174207, -6.255702, -6.257161, -6.112414, -6.279588, -6.264625, -6.214132, -6.241699, -6.205168, -6.187434, -6.13781, -6.185496, -6.178203, -6.127123, -6.21288, -6.282492, -6.118964, -6.166548, -6.170053, -6.287054, -6.289097, ...]</td>\n",
       "    </tr>\n",
       "    <tr>\n",
       "      <th>12</th>\n",
       "      <td>tapInStopsLon</td>\n",
       "      <td>2458</td>\n",
       "      <td>[106.84402, 106.83302, 106.81435, 106.93526, 106.889, 106.81632, 106.85165, 106.80221, 106.83059, 106.77889, 106.84205, 106.83102, 106.79998, 106.84112, 106.83787, 106.74598, 106.75488, 106.78874, 106.79267, 106.83254, 106.79674, 106.86741, 106.80777, 106.8962, 106.899461, 106.86805, 106.76529, 106.73129, 106.75068, 106.81028, 106.8321, 106.83323, 106.82847, 106.85815, 106.77415, 106.85185, 106.82311, 106.85424, 106.84025, 106.85809, 106.90537, 106.79409, 106.81818, 106.91189, 106.91019, 106.88116, 106.85867, 106.898692, 106.79843, 106.91572, 106.90243, 106.87819, 106.86664, 106.77752, 106.78844, 106.90599, 106.74247, 106.84388, 106.93549, 106.80861, 106.79423, 106.84236, 106.82003, 106.70927, 106.81553, 106.79203, 106.78168, 107.02206, 106.77506, 106.8219, 106.87406, 106.85721, 106.71929, 106.82621, 106.8582, 106.8591, 106.78375, 106.89906, 106.89314, 106.87642, 106.88296, 106.94651, 106.77306, 106.86244, 106.8043, 106.93961, 106.85365, 106.9229, 106.90591, 106.7304, 106.81105, 106.89859, 106.80441, 106.86115, 106.84455, 106.89568, 106.78651, 106.84024, 106.77989, 106.77909, ...]</td>\n",
       "    </tr>\n",
       "    <tr>\n",
       "      <th>13</th>\n",
       "      <td>stopStartSeq</td>\n",
       "      <td>67</td>\n",
       "      <td>[7, 13, 38, 23, 5, 3, 25, 2, 1, 15, 17, 12, 4, 10, 19, 20, 6, 18, 28, 0, 16, 11, 9, 41, 14, 29, 40, 8, 45, 26, 48, 42, 21, 46, 34, 32, 22, 35, 47, 31, 30, 39, 24, 44, 52, 56, 36, 27, 33, 50, 37, 61, 43, 51, 54, 62, 58, 57, 65, 49, 64, 63, 55, 66, 59, 53, 68]</td>\n",
       "    </tr>\n",
       "    <tr>\n",
       "      <th>14</th>\n",
       "      <td>tapInTime</td>\n",
       "      <td>37079</td>\n",
       "      <td>[2023-04-03 05:21:44, 2023-04-03 05:42:44, 2023-04-03 05:59:06, 2023-04-03 05:44:51, 2023-04-03 06:17:35, 2023-04-03 05:08:01, 2023-04-03 06:58:21, 2023-04-03 06:44:24, 2023-04-03 06:01:44, 2023-04-03 05:57:47, 2023-04-03 06:32:28, 2023-04-03 06:22:10, 2023-04-03 06:15:04, 2023-04-03 06:12:14, 2023-04-03 05:38:44, 2023-04-03 06:43:20, 2023-04-03 06:49:48, 2023-04-03 05:41:28, 2023-04-03 06:24:23, 2023-04-03 06:43:49, 2023-04-03 05:13:08, 2023-04-03 05:08:36, 2023-04-03 06:44:28, 2023-04-03 06:45:03, 2023-04-03 05:43:14, 2023-04-03 05:48:55, 2023-04-03 06:00:19, 2023-04-03 05:49:39, 2023-04-03 05:45:14, 2023-04-03 06:15:29, 2023-04-03 06:14:02, 2023-04-03 05:11:09, 2023-04-03 06:26:34, 2023-04-03 06:44:26, 2023-04-03 05:12:22, 2023-04-03 06:47:20, 2023-04-03 06:29:57, 2023-04-03 06:32:51, 2023-04-03 05:29:43, 2023-04-03 05:28:22, 2023-04-03 05:12:53, 2023-04-03 06:50:06, 2023-04-03 05:43:45, 2023-04-03 06:02:30, 2023-04-03 06:59:14, 2023-04-03 05:49:25, 2023-04-03 05:04:52, 2023-04-03 05:35:17, 2023-04-03 06:35:17, 2023-04-03 05:51:57, 2023-04-03 06:08:12, 2023-04-03 06:36:49, 2023-04-03 05:13:45, 2023-04-03 05:58:04, 2023-04-03 06:33:41, 2023-04-03 06:51:28, 2023-04-03 05:37:47, 2023-04-03 05:33:47, 2023-04-03 05:43:23, 2023-04-03 05:15:03, 2023-04-03 05:43:48, 2023-04-03 06:13:03, 2023-04-03 06:46:54, 2023-04-03 06:20:11, 2023-04-03 06:38:56, 2023-04-03 06:51:56, 2023-04-03 06:16:29, 2023-04-03 05:19:06, 2023-04-03 05:02:15, 2023-04-03 06:12:41, 2023-04-03 05:57:55, 2023-04-03 05:12:37, 2023-04-03 05:11:15, 2023-04-03 06:49:46, 2023-04-03 05:50:00, 2023-04-03 06:42:45, 2023-04-03 06:12:01, 2023-04-03 06:41:08, 2023-04-03 05:57:05, 2023-04-03 05:59:19, 2023-04-03 06:03:33, 2023-04-03 05:42:25, 2023-04-03 06:08:56, 2023-04-03 05:21:39, 2023-04-03 05:36:10, 2023-04-03 06:07:43, 2023-04-03 05:32:18, 2023-04-03 06:23:34, 2023-04-03 05:13:09, 2023-04-03 06:23:36, 2023-04-03 06:50:15, 2023-04-03 05:57:14, 2023-04-03 05:20:00, 2023-04-03 05:43:01, 2023-04-03 05:28:25, 2023-04-03 06:25:22, 2023-04-03 06:23:23, 2023-04-03 06:03:19, 2023-04-03 06:00:02, 2023-04-03 05:59:21, ...]</td>\n",
       "    </tr>\n",
       "    <tr>\n",
       "      <th>15</th>\n",
       "      <td>tapOutStops</td>\n",
       "      <td>2230</td>\n",
       "      <td>[P00253, B03307P, B04962P, B03090P, P00098, B00694P, nan, B00899P, B01853P, B06578P, B02387P, P00129, P00216, P00135, B01062P, B03032P, P00001, P00155, P00145, B05989P, B05720P, B01393P, P00133, B05256P, B03135P, P00086, B00147P, B02195P, B03322P, P00104, B02868P, B00221P, P00121, B03885P, B02477P, P00161, B05707P, P00137, B01056P, B00242P, B00066P, P00058, B04854P, P00016, B05440P, B03953P, P00268, B01624P, B00636P, P00080, B01428P, P00096, B00959P, B02767P, B01180P, P00025, B01325P, B02556P, P00138, B02647P, B03286P, B03197P, B03277P, P00184, B05622P, B02709P, B04218P, B06065P, P00009, B06832P, B00770P, B01732P, B03637P, B01297P, P00105, P00182, B03786P, B00232P, B05714P, B04716P, B05388P, P00174, B06268P, P00191, B01638P, P00006, P00123, P00118, P00256, B04863P, B05725P, B05492P, B01377P, B01846P, B02880P, B05751P, B01860P, B02213P, B02576P, P00142, ...]</td>\n",
       "    </tr>\n",
       "    <tr>\n",
       "      <th>16</th>\n",
       "      <td>tapOutStopsName</td>\n",
       "      <td>2248</td>\n",
       "      <td>[Tegalan, Sampoerna Strategic, Simpang Kunir Kemukus, Raya Penggilingan, Kali Besar Barat, Grand Sahid, nan, Jln. Baros, Kayuringin 2, Blok M Jalur 3, Matraman 4, Mampang Prapatan, Semanggi, Matraman 2, Jln. Gabus Raya, Pusdiklat Kemenag 1, Adam Malik, Pasar Kebayoran Lama, Pancoran Tugu Arah Barat, Jln. Ancol Barat 6, Term. Poris Plawad, Jln. Mesjid Al Mabruk, Masjid Agung, SMAN 100, RS Duren Sawit 2, Jatinegara RS Premier, Bintaro Park VIew, Mall Taman Palem 3, SD Diakonia 1, Karet Sudirman, Plaza Oleos, Bundaran Senayan 1, Kuningan Timur, Sbr. Jembatan Sukamulya III, Monas 3, Pecenongan, Term. Kampung Melayu 2, Monas, Jln. Elpa Putih II, Centro Metro Broadway, Arsip Nasional RI 1, Flyover Klender, Simpang Jln. Bongo Raya, BKN, St. Duren Kalibata 4, Sbr. Klinik Win Medika, Velbak, Jln. Swakarsa III Pondok Kelapa, Gereja Santa Anna 1, Imigrasi Jakarta Timur, Jln. Olahraga 1 Raya Bogor, JORR, Jln. Bungur, Pertigaan Cedang 1, Jln. Jeruk Manis, Bundaran HI, Jln. Lorong 22, Palem Semi 1, Museum Fatahillah, Pasar Minggu, Rusun Pesakih, RSIA Kemang, Rusun Kapuk Muara, Pondok Indah 1, Taman Margahayu 2, Pelabuhan Kali Adem, Sbr. Polsek Makasar, Puskesmas Sunter Agung I, Bank Indonesia Arah Selatan, Gg. H. Ali, Honda Letjen Suprapto, Jatinegara Timur, Sbr. Jln. Angsana Kemanggisan, Jln. Kramat I Rawabinong, Kayu Putih Rawasari, Plumpang Pertamina Arah Utara, Sbr. Jln. Masjid Al Munir, Cawang Blue Bird, Term. Muara Angke 2, Simpang Batu Ampar IV Inerbang, SMPN 68, Perumnas Klender, Rusun Harum Tebet, PTC Pulo Gadung, Walikota Jakarta Timur, Jln. Taman Jatibaru Timur, Atrium, Landmark Pluit Auto Plaza, Kramat Sentiong, MH Thamrin, Simpang Jln. Kramat Jaya 1, Term. Senen, St. MRT Lebak Bulus, Jln. Mastrip, Kav Polri Blok E Jagakarsa, PLN Pusat, TK Angkasa 8, Kebayoran Baru Velbak 2, Mangga Dua Square, Panti Sosial Bina Laras, ...]</td>\n",
       "    </tr>\n",
       "    <tr>\n",
       "      <th>17</th>\n",
       "      <td>tapOutStopsLat</td>\n",
       "      <td>2237</td>\n",
       "      <td>[-6.203101, -6.217152, -6.133731, -6.183068, -6.135355, -6.210975, nan, -6.311046, -6.245948, -6.243426, -6.199782, -6.242699, -6.22111, -6.19891, -6.301222, -6.312075, -6.236466, -6.238413, -6.2433, -6.12481, -6.172859, -6.28435, -6.236483, -6.228401, -6.232262, -6.221412, -6.257977, -6.140548, -6.112155, -6.212457, -6.29771, -6.227445, -6.234731, -6.170489, -6.178787, -6.16771, -6.224516, -6.176248, -6.110053, -6.116362, -6.279439, -6.213596, -6.170743, -6.257751, -6.255071, -6.22016, -6.239433, -6.244759, -6.233953, -6.214632, -6.267006, -6.236104, -6.247708, -6.301603, -6.197439, -6.193021, -6.108141, -6.218812, -6.13393, -6.284413, -6.161468, -6.285839, -6.135667, -6.286761, -6.24846, -6.104615, -6.29086, -6.132513, -6.184784, -6.327369, -6.174933, -6.220486, -6.194813, -6.298205, -6.187453, -6.12848, -6.271471, -6.248836, -6.109001, -6.28148, -6.278279, -6.216689, -6.235196, -6.182622, -6.21254, -6.182778, -6.176251, -6.125258, -6.18798, -6.188149, -6.108656, -6.17356, -6.289421, -6.306793, -6.314309, -6.240011, -6.285191, -6.239272, -6.135311, -6.31946, ...]</td>\n",
       "    </tr>\n",
       "    <tr>\n",
       "      <th>18</th>\n",
       "      <td>tapOutStopsLon</td>\n",
       "      <td>2139</td>\n",
       "      <td>[106.85715, 106.81892, 106.81475, 106.93194, 106.81143, 106.82059, nan, 106.784, 106.99247, 106.80188, 106.8545, 106.82572, 106.81354, 106.83623, 106.75228, 106.74786, 106.78323, 106.84388, 106.81983, 106.66501, 106.85293, 106.79845, 106.88494, 106.91019, 106.86807, 106.75969, 106.73011, 106.7893, 106.82003, 106.82965, 106.80187, 106.82902, 106.85205, 106.82304, 106.82819, 106.86685, 106.82286, 106.88721, 106.76143, 106.81987, 106.90306, 106.91001, 106.87, 106.85506, 106.89843, 106.78552, 106.94249, 106.90998, 106.88227, 106.86595, 106.75488, 106.7814, 106.9125, 106.76534, 106.823, 106.89932, 106.61807, 106.81209, 106.84414, 106.71698, 106.8188, 106.76299, 106.77999, 107.02153, 106.77094, 106.8844, 106.85557, 106.82326, 106.833219, 106.84973, 106.86825, 106.78213, 106.9054, 106.87542, 106.8937, 106.87734, 106.87801, 106.77349, 106.86361, 106.79964, 106.93054, 106.85195, 106.91561, 106.94537, 106.8129, 106.84023, 106.79971, 106.84595, 106.82299, 106.91734, 106.84213, 106.77436, 106.87756, 106.81633, 106.80376, 106.90125, 106.78492, 106.83102, 106.89013, 106.84402, ...]</td>\n",
       "    </tr>\n",
       "    <tr>\n",
       "      <th>19</th>\n",
       "      <td>stopEndSeq</td>\n",
       "      <td>74</td>\n",
       "      <td>[12.0, 21.0, 39.0, 29.0, 15.0, 6.0, nan, 16.0, 24.0, 23.0, 14.0, 4.0, 17.0, 3.0, 11.0, 20.0, 36.0, 13.0, 5.0, 7.0, 8.0, 30.0, 19.0, 50.0, 10.0, 2.0, 22.0, 18.0, 33.0, 41.0, 44.0, 47.0, 1.0, 9.0, 34.0, 27.0, 25.0, 28.0, 37.0, 49.0, 35.0, 40.0, 31.0, 32.0, 51.0, 53.0, 26.0, 59.0, 42.0, 56.0, 43.0, 57.0, 46.0, 38.0, 52.0, 58.0, 45.0, 48.0, 66.0, 67.0, 60.0, 64.0, 54.0, 63.0, 55.0, 62.0, 65.0, 73.0, 70.0, 69.0, 68.0, 71.0, 72.0, 61.0, 77.0]</td>\n",
       "    </tr>\n",
       "    <tr>\n",
       "      <th>20</th>\n",
       "      <td>tapOutTime</td>\n",
       "      <td>35908</td>\n",
       "      <td>[2023-04-03 06:00:53, 2023-04-03 06:40:01, 2023-04-03 06:50:55, 2023-04-03 06:28:16, 2023-04-03 06:57:03, 2023-04-03 05:52:25, nan, 2023-04-03 07:11:43, 2023-04-03 06:51:12, 2023-04-03 07:23:54, 2023-04-03 06:50:21, 2023-04-03 07:08:31, 2023-04-03 07:07:35, 2023-04-03 06:09:17, 2023-04-03 07:07:17, 2023-04-03 07:47:42, 2023-04-03 06:35:41, 2023-04-03 07:07:12, 2023-04-03 07:30:45, 2023-04-03 06:08:59, 2023-04-03 05:30:45, 2023-04-03 07:11:25, 2023-04-03 07:06:05, 2023-04-03 06:12:52, 2023-04-03 06:33:42, 2023-04-03 06:23:52, 2023-04-03 06:42:12, 2023-04-03 06:22:28, 2023-04-03 06:50:32, 2023-04-03 05:38:49, 2023-04-03 06:51:21, 2023-04-03 07:28:00, 2023-04-03 05:35:33, 2023-04-03 07:34:23, 2023-04-03 07:24:08, 2023-04-03 07:20:21, 2023-04-03 05:58:35, 2023-04-03 06:02:36, 2023-04-03 05:50:10, 2023-04-03 07:30:53, 2023-04-03 06:19:50, 2023-04-03 06:30:30, 2023-04-03 07:32:35, 2023-04-03 06:39:28, 2023-04-03 05:47:58, 2023-04-03 05:56:59, 2023-04-03 07:17:52, 2023-04-03 06:16:13, 2023-04-03 06:40:53, 2023-04-03 07:13:58, 2023-04-03 06:02:58, 2023-04-03 06:39:16, 2023-04-03 07:29:36, 2023-04-03 07:29:33, 2023-04-03 06:06:12, 2023-04-03 06:13:36, 2023-04-03 06:16:38, 2023-04-03 05:51:14, 2023-04-03 06:09:12, 2023-04-03 06:50:23, 2023-04-03 07:09:23, 2023-04-03 07:10:56, 2023-04-03 07:03:11, 2023-04-03 07:17:19, 2023-04-03 07:11:37, 2023-04-03 05:47:40, 2023-04-03 05:57:31, 2023-04-03 07:12:09, 2023-04-03 06:06:48, 2023-04-03 05:35:24, 2023-04-03 07:21:09, 2023-04-03 06:37:49, 2023-04-03 07:08:03, 2023-04-03 06:57:35, 2023-04-03 07:20:00, 2023-04-03 06:49:41, 2023-04-03 06:47:17, 2023-04-03 06:28:37, 2023-04-03 06:21:13, 2023-04-03 06:41:37, 2023-04-03 06:12:00, 2023-04-03 06:25:54, 2023-04-03 06:44:41, 2023-04-03 06:27:22, 2023-04-03 07:14:33, 2023-04-03 06:04:38, 2023-04-03 06:52:14, 2023-04-03 07:46:28, 2023-04-03 06:55:59, 2023-04-03 06:04:41, 2023-04-03 06:29:21, 2023-04-03 06:08:29, 2023-04-03 07:11:01, 2023-04-03 06:55:01, 2023-04-03 06:35:04, 2023-04-03 06:54:13, 2023-04-03 06:53:50, 2023-04-03 06:59:54, 2023-04-03 07:36:05, 2023-04-03 07:03:36, ...]</td>\n",
       "    </tr>\n",
       "    <tr>\n",
       "      <th>21</th>\n",
       "      <td>payAmount</td>\n",
       "      <td>3</td>\n",
       "      <td>[3500.0, 20000.0, 0.0, nan]</td>\n",
       "    </tr>\n",
       "  </tbody>\n",
       "</table>\n",
       "</div>"
      ],
      "text/plain": [
       "         Column Name  Number of Unique  \\\n",
       "0            transID             37900   \n",
       "1          payCardID              2000   \n",
       "2        payCardBank                 6   \n",
       "3        payCardName              1993   \n",
       "4         payCardSex                 2   \n",
       "5   payCardBirthDate                67   \n",
       "6         corridorID               221   \n",
       "7       corridorName               216   \n",
       "8          direction                 2   \n",
       "9         tapInStops              2570   \n",
       "10    tapInStopsName              2602   \n",
       "11     tapInStopsLat              2587   \n",
       "12     tapInStopsLon              2458   \n",
       "13      stopStartSeq                67   \n",
       "14         tapInTime             37079   \n",
       "15       tapOutStops              2230   \n",
       "16   tapOutStopsName              2248   \n",
       "17    tapOutStopsLat              2237   \n",
       "18    tapOutStopsLon              2139   \n",
       "19        stopEndSeq                74   \n",
       "20        tapOutTime             35908   \n",
       "21         payAmount                 3   \n",
       "\n",
       "                                                                                                                                                                                                                                                                                                                                                                                                                                                                                                                                                                                                                                                                                                                                                                                                                                                                                                                                                                                                                                                                                                                                                                                                                                                                                                                                                                                                                                                                                                                                                                                                                                                                                                                                                                                                                                                                                                                                                                                                                                                                                                                                                                                                                                                                                                                                                                                                                                                                                                                                                                                                                                                                                                                                                                                                                                           Unique Sample  \n",
       "0                                                                                                                                                                                                                                                                                                                                                                                                                                                                                                                                                                                                                                                                                                                                                                                                                                                                                                                                                                                                                                                                                                                                                                                  [EIIW227B8L34VB, LGXO740D2N47GZ, DJWR385V2U57TO, JTUZ800U7C86EH, VMLO535V7F95NJ, DDES630K2F80KC, HEMW326B9N91TV, XTKE052E5E87LN, OIHS248V7S72EB, ERXO372B2H63RB, CLWK627W2M22WO, IIEK980X1O23NZ, OPLW560U3S06UG, XESX233R4U46DN, LZFD368Q3E81HJ, KLUN542I2F21PI, XDMP644Z5Y29DB, CUPO258C0D42PY, SBPQ144H4S45RA, ZYRL615G4C05RD, MEFW094B7A84RS, ZJVI960B9I42DA, RJPK085I1K65HR, TFIO518N2X54UT, SYLN486U0E02TA, BECP746A8C28NV, KYNP204W3G29VA, MSFD430X8W13TO, MKND874X1D96HF, LFYJ535S2I30DP, TCKQ601Q5O01BC, KQIA358G2N38CX, RANO576G1J87EO, NZCE828E4J23AW, OFPJ170M5O75AP, LKXU174O1E59EP, AXTN077R7Z77JM, WQXL397G5U61OY, RLLZ887W3V14WZ, JJEK861K6E37KF, UANX737M9L25GI, VUWZ891M7I57EB, CXLW459Z3A28RD, AQPU510X2X44PT, BRUT293K1O98GA, MMEX885R3T18QL, UNFK619O2R74DX, FTGY161E2O14MG, ELVU605Z3W26IF, KPDA909R2T72GD, GIHF067H1Y81IV, IXJW013G5W79VX, PKAM574R5S22UG, IQBJ843C4G34DE, SRIX686S0S08SW, MLTY652D7F29HW, NICD824U6H93DE, YEOK544W1J67OX, OPNL705D9K64FN, KHKM512K0T88LD, RHUT145C1U25ZY, TWAK265Z0M88QR, JQIF022K9P74RM, MQCN972F9X71NY, KINJ335N6L86YT, TDIY341Y5S79UU, TFRA396G6W78PD, GXOP506G9B61EP, XESL868N6A66XN, IVHH403J9T51JH, OTGH855B8A29BP, YJMS457L2O20JF, NNAE999Q4V92XM, UCMI767D7M79GS, ZHFN555D9L05LU, WHTZ386I9S44YF, VHUC320U1S58CB, DBWI728C0M55ND, HHCJ093F0W41XK, JUNS207R4F95UA, LFIW578V8Y12XO, GYVC538M6B25WO, QRFR658M6P01AH, TKQW976R2D32RY, PCGM443G2W62OB, PEGV120E5W96OH, BUQT197K3D65PN, UNSO267V8F26WP, RHCN069U6G42WD, QMHC825R0K38KM, WGRY331M3O87VE, TKRV681O2S46RW, ELFD362R2U94NT, YYXK265F5N59SE, ZGJG301G9Z71AR, KNSE319Q1P35CC, RMJF585F2W51BQ, KFYK655N1H73XS, WTBE175B2A58NC, SVRH922T8G79FY, ...]  \n",
       "1                                                                                                                                                                                                                                                                                                                                                                                                                                                                                                                                                                                                                                                                                                                                                                                                                                                                                                                                                                                                                                                              [180062659848800, 4885331907664776, 4996225095064169, 639099174703, 570928206772, 2251412124634980, 213155822653833, 3587341902618993, 6510013988638519, 3580401035990896, 5541851157087967, 347204308990092, 3536759468239783, 6575130739600630, 4056836188316, 4532407180860336, 4556326832434362836, 4969284110642, 502034641014, 5430018591726410, 378872365541693, 343851798729291, 676293109036, 213191293100137, 2295833910329055, 4968156435384914, 676367323901, 4384653483539395, 213155309116759, 4682220924642, 3589380857722689, 4394677357168120, 4905734029265594, 379334845079777, 346910704516122, 2247096843683316, 675990206087, 639040388584, 4947438345710982, 3539535695881465, 574726750023, 344303671677311, 3544931989278653, 4017802962833960, 5465310774429054, 347394043585982, 4723250872219869, 3545499820365948, 2718070346782735, 342531623551844, 349944373495091, 4428582927102421723, 566171543168, 213121690546749, 3527853482331808, 5542490449138301, 4380875529452127, 4172238784006231, 340065298083181, 4268640600849949, 4290559479079, 213155263532652, 4294484188649274, 180057903365395, 3551174827324245, 340858239719917, 3569562588766630, 180016859215889, 373945281501952, 5134532253940704, 3549158005951908, 379764016867073, 4189640459822695962, 4766007569419196, 3576239635494729, 587887634588, 567286069354, 4097122165824, 378851219912235, 180022972730457, 2237440645700724, 6011162006507240, 4730280883020443501, 3505707886664931, 4450403105752326, 4074114259011835374, 4000041838802, 4112330548313, 30583455954585, 3537543297101185, 2720484776954605, 3570422408611549, 2291402671071407, 676172975739, 180020791350481, 502072062834, 30385017224303, 6590854673757012, 4963710913075879668, 213104805015669, ...]  \n",
       "2                                                                                                                                                                                                                                                                                                                                                                                                                                                                                                                                                                                                                                                                                                                                                                                                                                                                                                                                                                                                                                                                                                                                                                                                                                                                                                                                                                                                                                                                                                                                                                                                                                                                                                                                                                                                                                                                                                                                                                                                                                                                                                                                                                                                                                                                                                                                                                                                                                                                                                                                                                                                                                                                                                                                                                                                              [emoney, dki, flazz, online, brizzi, bni]  \n",
       "3                                                                                                                                                                                                                                                                                                                                                                                                                                                                                                                                                                                                                                                                                                                                                                                                                              [Bajragin Usada, Gandi Widodo, Emong Wastuti, Surya Wacana, Embuh Mardhiyah, Tirta Siregar, R. Devi Hariyah, S.T., Darmanto Rajasa, Cagak Maheswara, S.Sos, T. Dadap Pradana, M.Ak, Oskar Widiastuti, S.Farm, R.M. Labuh Laksmiwati, Shakila Maryadi, Danuja Usada, Nadine Utami, H. Lutfan Nurdiyanti, Sari Nababan, Hj. Ophelia Haryanti, S.Sos, Adikara Kurniawan, S.Sos, Karna Waskita, Aslijan Irawan, Garang Utama, Fathonah Saefullah, Darman Purwanti, Taufik Farida, Martana Suartini, Eluh Nugroho, Cut Hana Maulana, S.H., Tgk. Ilsa Farida, Drs. Nadia Ramadan, S.Sos, drg. Lukman Hidayanto, Ibrahim Prayoga, S.H., Ega Andriani, Salman Ramadan, Zizi Nasyiah, Tgk. Aris Pradipta, M.M., Margana Narpati, Galang Megantara, S.Ked, Rahayu Rahayu, Dr. Zulfa Tamba, S.E.I, drg. Lukita Rajata, R. Mila Wahyuni, S.Sos, Artawan Iswahyudi, M.Pd, Aurora Hasanah, Hj. Rahmi Hartati, Darmaji Wahyuni, Cager Setiawan, Cawuk Mayasari, Asman Uyainah, Zulaikha Yulianti, Oliva Sirait, dr. Belinda Handayani, S.E., Laila Simanjuntak, Pranata Wahyudin, Puti Paris Marpaung, Sutan Narji Nasyidah, Tirtayasa Sitorus, Galak Prayoga, S.Pd, Tgk. Garda Utami, Elvina Situmorang, S.Psi, Lutfan Hakim, Restu Waluyo, Gara Sitompul, Daryani Prabowo, Gangsa Widodo, Yance Pratama, S.Kom, dr. Sakura Budiman, S.IP, Zalindra Irawan, M.TI., Jamal Pudjiastuti, S.I.Kom, Suci Wacana, Mustofa Wijayanti, M.Farm, Saka Sihombing, Mutia Mayasari, Danu Suartini, S.Farm, Harsaya Natsir, Drs. Harjo Nurdiyanti, Dt. Atmaja Suartini, M.Farm, Dewi Mansur, Tina Hutasoit, Tgk. Tania Zulaika, M.Pd, Latika Sirait, Lasmanto Budiman, Zamira Puspita, T. Bagas Halimah, Dr. Intan Mulyani, S.E.I, Vero Hutagalung, Diah Marpaung, Drs. Gilda Sinaga, S.Psi, Bahuwirya Rahayu, Samsul Ramadan, Bancar Irawan, Jati Nainggolan, M.TI., Puspa Saptono, Dr. Zaenab Wulandari, S.Ked, T. Karna Sihombing, Kalim Namaga, dr. Vega Rahimah, S.Pt, Bajragin Najmudin, Ophelia Firmansyah, Sutan Garda Tampubolon, S.Pd, ...]  \n",
       "4                                                                                                                                                                                                                                                                                                                                                                                                                                                                                                                                                                                                                                                                                                                                                                                                                                                                                                                                                                                                                                                                                                                                                                                                                                                                                                                                                                                                                                                                                                                                                                                                                                                                                                                                                                                                                                                                                                                                                                                                                                                                                                                                                                                                                                                                                                                                                                                                                                                                                                                                                                                                                                                                                                                                                                                                                                                 [M, F]  \n",
       "5                                                                                                                                                                                                                                                                                                                                                                                                                                                                                                                                                                                                                                                                                                                                                                                                                                                                                                                                                                                                                                                                                                                                                                                                                                                                                                                                                                                                                                                                                                                                                                                                                                                                                                                                                                                                                                                                                                                                                                                                                                                                                                                                                                                                                                                                                                                                                                                                                                     [2008, 1997, 1992, 1978, 1982, 1993, 1974, 1991, 2004, 1984, 1988, 2002, 1975, 2011, 2003, 1981, 2009, 1983, 1999, 2007, 1979, 1960, 1995, 2001, 1990, 1968, 1985, 2010, 1989, 2006, 1986, 1965, 2005, 1966, 1994, 1972, 1969, 1970, 2000, 1953, 1977, 2012, 1987, 1996, 1971, 1956, 1980, 1998, 1973, 1946, 1976, 1959, 1967, 1951, 1957, 1948, 1961, 1964, 1963, 1962, 1949, 1954, 1947, 1952, 1958, 1955, 1950]  \n",
       "6                                                                                                                                                                                                                                                                                                                                                                                                                                                                                                                                                                                                                                                                                                                                                                                                                                                                                                                                                                                                                                                                                                                                                                                                                                                                                                                                                                                                                                                                                                                                                                                                                                                                                                                                                                                                                                                                                                                                                                                                                                                                                                                                                                                                                                                                       [5, 6C, R1A, 11D, 12, 1T, JAK.18, nan, B14, 1Q, 5M, M7B, 9A, 4, JAK.46, S22, 13, 9E, M9, JAK.88, T11, JAK.16, 6V, 11Q, JAK.02, 11, 1C, 3B, M1, 7E, 1P, 7D, 6H, 14, BW9, JIS3, 2, JAK.15, 6N, M11, JAK.112, 9N, JAK.43B, JAK.42, 7P, JAK.36, 13B, JAK.06, JAK.14, M7, T21, 12A, 9D, 1, 3A, 3C, M8, B21, JAK.71, JAK.77, M3, JAK.44, JAK.48B, 8K, JAK.19, M10, 10D, JAK.75, B11, JAK.52, JAK.37, JAK.31, 11M, JAK.43C, 2F, 8C, M2, 12B, 5D, JAK.117, 3H, JAK.49, 7A, 7Q, JAK.20, 1M, JAK.118, 5C, JAK.27, 6Q, 4E, JAK.13, JAK.84, 2H, JAK.08, 8E, JAK.23, 6M, JAK.07, JAK.22, ...]  \n",
       "7   [Matraman Baru - Ancol, Stasiun Tebet - Karet via Patra Kuningan, Pantai Maju - Kota, Pulo Gebang - Pulo Gadung 2 via PIK, Tanjung Priok - Pluit, Cibubur - Balai Kota, Kalibata - Kuningan, nan, Bekasi Barat - Kuningan, Rempoa - Blok M, Kampung Melayu - Tanah Abang via Cikini, BKN - Blok M, PGC 2 - Grogol 2, Pulo Gadung 2 - Tosari, Pasar Minggu - Jagakarsa, Ciputat - Kampung Rambutan, Ciledug - Tendean, Kebayoran Lama - Jelambar, Pinang Ranti - Pluit, Terminal Tanjung Priok - Ancol Barat, Poris Plawad - Bundaran Senayan, Cililitan - Condet, Ragunan - Gelora Bung Karno, Kampung Melayu - Pulo Gebang via BKT, Kampung Melayu - Duren Sawit, Pulo Gebang - Matraman, Pesanggrahan - Blok M, Rusun Flamboyan - Cengkareng, Blok M - Kota, Kampung Rambutan - Ragunan, Senen - Blok M, Pancoran - Kampung Rambutan, Senen - Lebak Bulus, Jakarta International Stadium - Senen, Monas - Pantai Indah Kapuk, Harmoni - Jakarta International Stadium, Bulak Turi - Tanjung Priok, Ragunan - Blok M via Kemang, Pulo Gebang - Pulo Gadung 2, Terminal Tanah Merah - Pulo Gadung, Pinang Ranti - Pramuka, Tongtek - Tebet Eco Park (TEP) - Cililitan, Kampung Melayu - Pondok Kelapa, Pulo Gadung - Monas, Pondok Kelapa - BKN, Cilangkap - Cililitan, Puri Beta - Pancoran Barat, Kampung Rambutan - Pondok Gede, Tanah Abang - Meruya, Kampung Rambutan - Monas, Pasar Minggu - Tanah Abang, Rusun Pesakih - Kalideres, Rusun Kapuk Muara - Penjaringan, Lebak Bulus - Pasar Baru, Bekasi Timur - Cawang, Pelabuhan Kaliadem - Kota, Kampung Rambutan - Pinang Ranti, Tanjung Priok - Jembatan Item, Andara - Stasiun Universitas Pancasila, Stasiun Tebet - Kampung Melayu, Batusari - Grogol, Pinang Ranti - Kampung Rambutan, PGC 2 - Tanjung Priok, Kampung Rambutan - Tanjung Priok, Cililitan - Kp. Pulo, Summarecon Bekasi - BNN, Terminal Kalideres - Terminal Muara Angke, Cililitan - Condet via Kayu Manis, Blok M - Andara, Rusun Rawa Bebek - Bukit Duri, Sarana Jaya - Tebet Eco Park (TEP) - Stasiun Cawang, Rusun Cakung Barat - Pulo Gadung, Kebayoran Lama - Tanah Abang, Pluit - Senen, PGC 1 - Ancol, Tanjung Priok - Tanah Merdeka, Jelambar - Kota, Lebak Bulus - Cipulir, Kampung Rambutan - Lebak Bulus, Blok M - PGC, Cawang UKI - Lubang Buaya, Meruya - Blok M, Taman Waduk Papanggo - Kota Tua, PGC - Juanda, Pulo Gebang - Rorotan, Dukuh Atas - Casablanca via Epicentrum Raya, Rusun Jatinegara Kaum - Pulo Gadung, Terminal Kampung Melayu - Kapin Raya, Rusun Jati Rawasari - Senen, Roxy - Benhil, Palem Semi - Bundaran Senayan, Bintaro - Blok M, Senen - Pisangan Baru, Stasiun Manggarai - Blok M, Tanah Abang - Grogol via Tawakal, Term. Tj. Priok - Pegangsaan II IGI, Cililitan - Dwikora, Rawamangun - Duren Sawit, Puri Beta - Kuningan (Express), St. LRT Pegangsaan Dua - JIS, ...]  \n",
       "8                                                                                                                                                                                                                                                                                                                                                                                                                                                                                                                                                                                                                                                                                                                                                                                                                                                                                                                                                                                                                                                                                                                                                                                                                                                                                                                                                                                                                                                                                                                                                                                                                                                                                                                                                                                                                                                                                                                                                                                                                                                                                                                                                                                                                                                                                                                                                                                                                                                                                                                                                                                                                                                                                                                                                                                                                                             [1.0, 0.0]  \n",
       "9                                                                                                                                                                                                                                                                                                                                                                                                                                                                                                                                                                                                                                                                                                                                                                                                                                                                                                                                                                                                                                                                                                                                                                                                                                                                                                                                                                                                                                                                                                                                                                                                                                                                                                                                                                                                                                                                                                                                                   [P00142, B01963P, B00499P, B05587P, P00239, B00127P, B00243P, B03416P, B00795P, B05781P, B05433P, P00254, P00281, P00159, B00608P, B05291P, P00096, B00058P, P00093, B00722P, P00206, nan, P00259, B02335P, B05023P, P00233, B05833P, B06299P, B06040P, P00183, B00001P, B02831P, B00102P, P00039, P00128, B01311P, B02476P, P00114, B02994P, P00202, B02761P, B00039P, P00102, B01067P, P00064, B03675P, B03484P, P00044, B02032P, B02665P, P00151, B02638P, P00106, B02540P, B01301P, B01875P, P00145, B05351P, B00589P, B05324P, B00693P, P00104, B02760P, B04209P, P00170, P00245, B02263P, B05253P, B02408P, B03360P, B06877P, P00237, B04386P, B00292P, B02272P, B05177P, B00563P, P00287, P00036, B00671P, B01728P, B01829P, B00908P, B03711P, P00169, B06086P, B06183P, P00158, B03206P, P00083, P00014, B05080P, P00109, B05716P, B04040P, P00087, B04647P, B01790P, B00610P, B01509P, ...]  \n",
       "10                                                                                                                                                                                                                                                                                                                                                                                                                                                                                                                                                                                                                                                                                                                                                                                                                                                              [Pal Putih, Kemenkes 2, Gg. Kunir II, Taman Elok 1, Sunter Boulevard Barat, Benhil 3, Cervino Village, SDN Pondok Labu 11, Imperium, TPU Bungur, Pegangsaan Timur, Tendean, Slipi Petamburan Arah Selatan, Pasar Rumput, Gelanggang Remaja Pasar Minggu, SMK Darussalam, JORR, Apartemen Simprug Teras, Jembatan Tiga Arah Utara, Gunung Sahari Mangga Dua Timur, RS Harapan Kita Arah Utara, Lippo Mall Kramat Jati, Tirtayasa, Masjid Jami At Taqwa 2, Simpang Pahlawan Revolusi 1, St. Jatinegara 2, Univ. Moestopo Bintaro, Jln. Kayu Besar Dalam, Pantai Maju, Polda Metro Jaya, 18 Office Park, Phe Tower Kebagusan, Balai Kota 1, Cikoko Stasiun Cawang Arah Barat, Lebak Bulus, Jln. Kwitang Timur, Monas 2, Kemayoran Landas Pacu Timur, PTUN Jakarta, Rawa Selatan, Pertamina Kilang Minyak, Jln. BB Utara, Ampera Garden, Kampung Sumur, Jln. Gading Mas Barat IV, Garuda Taman Mini, Sbr. Jln. Cikoko Timur I, Sbr. Dirjen Anggaran, CSW 1, Komplek Dolog Jaya, Ps. Pondok Bambu 1, Pasar Enjo, Ps. Kramat Jati 2, Kebayoran Lama, One Park Residences, Jln. Kramat Lubang Buaya, Kec. Kembangan, Pancoran Tugu Arah Barat, SMPN 143, GBK Pintu 7, SMKN 56, Grand Pasar Minggu, Karet Sudirman, Pertamina Kalideres Daan Mogot, Sbr. Plaza Kemang 88, Penjaringan, Tanah Kusir Kodim, Masjid Amar Maruf 2, SMAK Penabur Enam 2, Menara Astra, SDN Dukuh 01, Simpang Jln. Cemara, Sumur Bor, Sbr. Sekolah Islam Al Azhar Jagakarsa, Danau Agung 1, Masjid As Sudairi, Simpang Tj. Duren Timur 5, Gg. Suka Damai, Permai Koja Arah Selatan, Cempaka Putih, Graha Dirgantara, Jatibening 1, Karang Asri, Jln. Batu Permata V, Sbr. Jln. H. Jian 2B Cipete, Penggilingan, Tebet Eco Park Selatan 3, Jln. Anggrek Raya, Pasar Pulo Gadung, RSUD Boulevard Raya, Jak Lingko Tanah Abang, Bermis, Simpang Pluit Raya, Matraman Baru, Term. Pasar Minggu 2, Sbr. Masjid Ar Rohmah, Jelambar, Sekolah Penabur Gunung Sahari, JPO Timur Pondok Indah 1, Gelanggang TB Simatupang, ...]  \n",
       "11                                                                                                                                                                                                                                                                                                                                                                                                                                                                                                                                                                                                                                                                                                                                                                                                                                                                                                                                                                                                                                                                                                                                                                                                                                                                                                                                                                                                                                                                                                                                                                                                                                                                                                                  [-6.184631, -6.2287, -6.133132, -6.195743, -6.14965, -6.21601, -6.224355, -6.313269, -6.210363, -6.247208, -6.199263, -6.240213, -6.201948, -6.207125, -6.284615, -6.319946, -6.236104, -6.232197, -6.133383, -6.137032, -6.184489, -6.270835, -6.239207, -6.229704, -6.238658, -6.215601, -6.258469, -6.122739, -6.093637, -6.221094, -6.299146, -6.299876, -6.180598, -6.243359, -6.289413, -6.173788, -6.175999, -6.152181, -6.196388, -6.173925, -6.108789, -6.120279, -6.288794, -6.214412, -6.167384, -6.290154, -6.244364, -6.227253, -6.23994, -6.24794, -6.238102, -6.214881, -6.269037, -6.23834, -6.245436, -6.291363, -6.195068, -6.2433, -6.108442, -6.222095, -6.119094, -6.290648, -6.212457, -6.15571, -6.270024, -6.126306, -6.256997, -6.255062, -6.115644, -6.207361, -6.287794, -6.12663, -6.153046, -6.330035, -6.147281, -6.220626, -6.180482, -6.295718, -6.114359, -6.174207, -6.255702, -6.257161, -6.112414, -6.279588, -6.264625, -6.214132, -6.241699, -6.205168, -6.187434, -6.13781, -6.185496, -6.178203, -6.127123, -6.21288, -6.282492, -6.118964, -6.166548, -6.170053, -6.287054, -6.289097, ...]  \n",
       "12                                                                                                                                                                                                                                                                                                                                                                                                                                                                                                                                                                                                                                                                                                                                                                                                                                                                                                                                                                                                                                                                                                                                                                                                                                                                                                                                                                                                                                                                                                                                                                                                                                                                                                             [106.84402, 106.83302, 106.81435, 106.93526, 106.889, 106.81632, 106.85165, 106.80221, 106.83059, 106.77889, 106.84205, 106.83102, 106.79998, 106.84112, 106.83787, 106.74598, 106.75488, 106.78874, 106.79267, 106.83254, 106.79674, 106.86741, 106.80777, 106.8962, 106.899461, 106.86805, 106.76529, 106.73129, 106.75068, 106.81028, 106.8321, 106.83323, 106.82847, 106.85815, 106.77415, 106.85185, 106.82311, 106.85424, 106.84025, 106.85809, 106.90537, 106.79409, 106.81818, 106.91189, 106.91019, 106.88116, 106.85867, 106.898692, 106.79843, 106.91572, 106.90243, 106.87819, 106.86664, 106.77752, 106.78844, 106.90599, 106.74247, 106.84388, 106.93549, 106.80861, 106.79423, 106.84236, 106.82003, 106.70927, 106.81553, 106.79203, 106.78168, 107.02206, 106.77506, 106.8219, 106.87406, 106.85721, 106.71929, 106.82621, 106.8582, 106.8591, 106.78375, 106.89906, 106.89314, 106.87642, 106.88296, 106.94651, 106.77306, 106.86244, 106.8043, 106.93961, 106.85365, 106.9229, 106.90591, 106.7304, 106.81105, 106.89859, 106.80441, 106.86115, 106.84455, 106.89568, 106.78651, 106.84024, 106.77989, 106.77909, ...]  \n",
       "13                                                                                                                                                                                                                                                                                                                                                                                                                                                                                                                                                                                                                                                                                                                                                                                                                                                                                                                                                                                                                                                                                                                                                                                                                                                                                                                                                                                                                                                                                                                                                                                                                                                                                                                                                                                                                                                                                                                                                                                                                                                                                                                                                                                                                                                                                                                                                                                                                                                                                                                                                                                    [7, 13, 38, 23, 5, 3, 25, 2, 1, 15, 17, 12, 4, 10, 19, 20, 6, 18, 28, 0, 16, 11, 9, 41, 14, 29, 40, 8, 45, 26, 48, 42, 21, 46, 34, 32, 22, 35, 47, 31, 30, 39, 24, 44, 52, 56, 36, 27, 33, 50, 37, 61, 43, 51, 54, 62, 58, 57, 65, 49, 64, 63, 55, 66, 59, 53, 68]  \n",
       "14                                                                                                                                                                                                                                                                                                                                                                                                                                                                                                                                                                                                                                                             [2023-04-03 05:21:44, 2023-04-03 05:42:44, 2023-04-03 05:59:06, 2023-04-03 05:44:51, 2023-04-03 06:17:35, 2023-04-03 05:08:01, 2023-04-03 06:58:21, 2023-04-03 06:44:24, 2023-04-03 06:01:44, 2023-04-03 05:57:47, 2023-04-03 06:32:28, 2023-04-03 06:22:10, 2023-04-03 06:15:04, 2023-04-03 06:12:14, 2023-04-03 05:38:44, 2023-04-03 06:43:20, 2023-04-03 06:49:48, 2023-04-03 05:41:28, 2023-04-03 06:24:23, 2023-04-03 06:43:49, 2023-04-03 05:13:08, 2023-04-03 05:08:36, 2023-04-03 06:44:28, 2023-04-03 06:45:03, 2023-04-03 05:43:14, 2023-04-03 05:48:55, 2023-04-03 06:00:19, 2023-04-03 05:49:39, 2023-04-03 05:45:14, 2023-04-03 06:15:29, 2023-04-03 06:14:02, 2023-04-03 05:11:09, 2023-04-03 06:26:34, 2023-04-03 06:44:26, 2023-04-03 05:12:22, 2023-04-03 06:47:20, 2023-04-03 06:29:57, 2023-04-03 06:32:51, 2023-04-03 05:29:43, 2023-04-03 05:28:22, 2023-04-03 05:12:53, 2023-04-03 06:50:06, 2023-04-03 05:43:45, 2023-04-03 06:02:30, 2023-04-03 06:59:14, 2023-04-03 05:49:25, 2023-04-03 05:04:52, 2023-04-03 05:35:17, 2023-04-03 06:35:17, 2023-04-03 05:51:57, 2023-04-03 06:08:12, 2023-04-03 06:36:49, 2023-04-03 05:13:45, 2023-04-03 05:58:04, 2023-04-03 06:33:41, 2023-04-03 06:51:28, 2023-04-03 05:37:47, 2023-04-03 05:33:47, 2023-04-03 05:43:23, 2023-04-03 05:15:03, 2023-04-03 05:43:48, 2023-04-03 06:13:03, 2023-04-03 06:46:54, 2023-04-03 06:20:11, 2023-04-03 06:38:56, 2023-04-03 06:51:56, 2023-04-03 06:16:29, 2023-04-03 05:19:06, 2023-04-03 05:02:15, 2023-04-03 06:12:41, 2023-04-03 05:57:55, 2023-04-03 05:12:37, 2023-04-03 05:11:15, 2023-04-03 06:49:46, 2023-04-03 05:50:00, 2023-04-03 06:42:45, 2023-04-03 06:12:01, 2023-04-03 06:41:08, 2023-04-03 05:57:05, 2023-04-03 05:59:19, 2023-04-03 06:03:33, 2023-04-03 05:42:25, 2023-04-03 06:08:56, 2023-04-03 05:21:39, 2023-04-03 05:36:10, 2023-04-03 06:07:43, 2023-04-03 05:32:18, 2023-04-03 06:23:34, 2023-04-03 05:13:09, 2023-04-03 06:23:36, 2023-04-03 06:50:15, 2023-04-03 05:57:14, 2023-04-03 05:20:00, 2023-04-03 05:43:01, 2023-04-03 05:28:25, 2023-04-03 06:25:22, 2023-04-03 06:23:23, 2023-04-03 06:03:19, 2023-04-03 06:00:02, 2023-04-03 05:59:21, ...]  \n",
       "15                                                                                                                                                                                                                                                                                                                                                                                                                                                                                                                                                                                                                                                                                                                                                                                                                                                                                                                                                                                                                                                                                                                                                                                                                                                                                                                                                                                                                                                                                                                                                                                                                                                                                                                                                                                                                                                                                                                                                 [P00253, B03307P, B04962P, B03090P, P00098, B00694P, nan, B00899P, B01853P, B06578P, B02387P, P00129, P00216, P00135, B01062P, B03032P, P00001, P00155, P00145, B05989P, B05720P, B01393P, P00133, B05256P, B03135P, P00086, B00147P, B02195P, B03322P, P00104, B02868P, B00221P, P00121, B03885P, B02477P, P00161, B05707P, P00137, B01056P, B00242P, B00066P, P00058, B04854P, P00016, B05440P, B03953P, P00268, B01624P, B00636P, P00080, B01428P, P00096, B00959P, B02767P, B01180P, P00025, B01325P, B02556P, P00138, B02647P, B03286P, B03197P, B03277P, P00184, B05622P, B02709P, B04218P, B06065P, P00009, B06832P, B00770P, B01732P, B03637P, B01297P, P00105, P00182, B03786P, B00232P, B05714P, B04716P, B05388P, P00174, B06268P, P00191, B01638P, P00006, P00123, P00118, P00256, B04863P, B05725P, B05492P, B01377P, B01846P, B02880P, B05751P, B01860P, B02213P, B02576P, P00142, ...]  \n",
       "16                                                                                                                                                                                                                                                                                                                                                                                                                                                                                                                                                                                                                                                                                                                                                                                                                                                                                                                          [Tegalan, Sampoerna Strategic, Simpang Kunir Kemukus, Raya Penggilingan, Kali Besar Barat, Grand Sahid, nan, Jln. Baros, Kayuringin 2, Blok M Jalur 3, Matraman 4, Mampang Prapatan, Semanggi, Matraman 2, Jln. Gabus Raya, Pusdiklat Kemenag 1, Adam Malik, Pasar Kebayoran Lama, Pancoran Tugu Arah Barat, Jln. Ancol Barat 6, Term. Poris Plawad, Jln. Mesjid Al Mabruk, Masjid Agung, SMAN 100, RS Duren Sawit 2, Jatinegara RS Premier, Bintaro Park VIew, Mall Taman Palem 3, SD Diakonia 1, Karet Sudirman, Plaza Oleos, Bundaran Senayan 1, Kuningan Timur, Sbr. Jembatan Sukamulya III, Monas 3, Pecenongan, Term. Kampung Melayu 2, Monas, Jln. Elpa Putih II, Centro Metro Broadway, Arsip Nasional RI 1, Flyover Klender, Simpang Jln. Bongo Raya, BKN, St. Duren Kalibata 4, Sbr. Klinik Win Medika, Velbak, Jln. Swakarsa III Pondok Kelapa, Gereja Santa Anna 1, Imigrasi Jakarta Timur, Jln. Olahraga 1 Raya Bogor, JORR, Jln. Bungur, Pertigaan Cedang 1, Jln. Jeruk Manis, Bundaran HI, Jln. Lorong 22, Palem Semi 1, Museum Fatahillah, Pasar Minggu, Rusun Pesakih, RSIA Kemang, Rusun Kapuk Muara, Pondok Indah 1, Taman Margahayu 2, Pelabuhan Kali Adem, Sbr. Polsek Makasar, Puskesmas Sunter Agung I, Bank Indonesia Arah Selatan, Gg. H. Ali, Honda Letjen Suprapto, Jatinegara Timur, Sbr. Jln. Angsana Kemanggisan, Jln. Kramat I Rawabinong, Kayu Putih Rawasari, Plumpang Pertamina Arah Utara, Sbr. Jln. Masjid Al Munir, Cawang Blue Bird, Term. Muara Angke 2, Simpang Batu Ampar IV Inerbang, SMPN 68, Perumnas Klender, Rusun Harum Tebet, PTC Pulo Gadung, Walikota Jakarta Timur, Jln. Taman Jatibaru Timur, Atrium, Landmark Pluit Auto Plaza, Kramat Sentiong, MH Thamrin, Simpang Jln. Kramat Jaya 1, Term. Senen, St. MRT Lebak Bulus, Jln. Mastrip, Kav Polri Blok E Jagakarsa, PLN Pusat, TK Angkasa 8, Kebayoran Baru Velbak 2, Mangga Dua Square, Panti Sosial Bina Laras, ...]  \n",
       "17                                                                                                                                                                                                                                                                                                                                                                                                                                                                                                                                                                                                                                                                                                                                                                                                                                                                                                                                                                                                                                                                                                                                                                                                                                                                                                                                                                                                                                                                                                                                                                                                                                                                                                                             [-6.203101, -6.217152, -6.133731, -6.183068, -6.135355, -6.210975, nan, -6.311046, -6.245948, -6.243426, -6.199782, -6.242699, -6.22111, -6.19891, -6.301222, -6.312075, -6.236466, -6.238413, -6.2433, -6.12481, -6.172859, -6.28435, -6.236483, -6.228401, -6.232262, -6.221412, -6.257977, -6.140548, -6.112155, -6.212457, -6.29771, -6.227445, -6.234731, -6.170489, -6.178787, -6.16771, -6.224516, -6.176248, -6.110053, -6.116362, -6.279439, -6.213596, -6.170743, -6.257751, -6.255071, -6.22016, -6.239433, -6.244759, -6.233953, -6.214632, -6.267006, -6.236104, -6.247708, -6.301603, -6.197439, -6.193021, -6.108141, -6.218812, -6.13393, -6.284413, -6.161468, -6.285839, -6.135667, -6.286761, -6.24846, -6.104615, -6.29086, -6.132513, -6.184784, -6.327369, -6.174933, -6.220486, -6.194813, -6.298205, -6.187453, -6.12848, -6.271471, -6.248836, -6.109001, -6.28148, -6.278279, -6.216689, -6.235196, -6.182622, -6.21254, -6.182778, -6.176251, -6.125258, -6.18798, -6.188149, -6.108656, -6.17356, -6.289421, -6.306793, -6.314309, -6.240011, -6.285191, -6.239272, -6.135311, -6.31946, ...]  \n",
       "18                                                                                                                                                                                                                                                                                                                                                                                                                                                                                                                                                                                                                                                                                                                                                                                                                                                                                                                                                                                                                                                                                                                                                                                                                                                                                                                                                                                                                                                                                                                                                                                                                                                                                                                          [106.85715, 106.81892, 106.81475, 106.93194, 106.81143, 106.82059, nan, 106.784, 106.99247, 106.80188, 106.8545, 106.82572, 106.81354, 106.83623, 106.75228, 106.74786, 106.78323, 106.84388, 106.81983, 106.66501, 106.85293, 106.79845, 106.88494, 106.91019, 106.86807, 106.75969, 106.73011, 106.7893, 106.82003, 106.82965, 106.80187, 106.82902, 106.85205, 106.82304, 106.82819, 106.86685, 106.82286, 106.88721, 106.76143, 106.81987, 106.90306, 106.91001, 106.87, 106.85506, 106.89843, 106.78552, 106.94249, 106.90998, 106.88227, 106.86595, 106.75488, 106.7814, 106.9125, 106.76534, 106.823, 106.89932, 106.61807, 106.81209, 106.84414, 106.71698, 106.8188, 106.76299, 106.77999, 107.02153, 106.77094, 106.8844, 106.85557, 106.82326, 106.833219, 106.84973, 106.86825, 106.78213, 106.9054, 106.87542, 106.8937, 106.87734, 106.87801, 106.77349, 106.86361, 106.79964, 106.93054, 106.85195, 106.91561, 106.94537, 106.8129, 106.84023, 106.79971, 106.84595, 106.82299, 106.91734, 106.84213, 106.77436, 106.87756, 106.81633, 106.80376, 106.90125, 106.78492, 106.83102, 106.89013, 106.84402, ...]  \n",
       "19                                                                                                                                                                                                                                                                                                                                                                                                                                                                                                                                                                                                                                                                                                                                                                                                                                                                                                                                                                                                                                                                                                                                                                                                                                                                                                                                                                                                                                                                                                                                                                                                                                                                                                                                                                                                                                                                                                                                                                                                                                                                                                                                                                                                                                                                                                                                                                                              [12.0, 21.0, 39.0, 29.0, 15.0, 6.0, nan, 16.0, 24.0, 23.0, 14.0, 4.0, 17.0, 3.0, 11.0, 20.0, 36.0, 13.0, 5.0, 7.0, 8.0, 30.0, 19.0, 50.0, 10.0, 2.0, 22.0, 18.0, 33.0, 41.0, 44.0, 47.0, 1.0, 9.0, 34.0, 27.0, 25.0, 28.0, 37.0, 49.0, 35.0, 40.0, 31.0, 32.0, 51.0, 53.0, 26.0, 59.0, 42.0, 56.0, 43.0, 57.0, 46.0, 38.0, 52.0, 58.0, 45.0, 48.0, 66.0, 67.0, 60.0, 64.0, 54.0, 63.0, 55.0, 62.0, 65.0, 73.0, 70.0, 69.0, 68.0, 71.0, 72.0, 61.0, 77.0]  \n",
       "20                                                                                                                                                                                                                                                                                                                                                                                                                                                                                                                                                                                                                                                                             [2023-04-03 06:00:53, 2023-04-03 06:40:01, 2023-04-03 06:50:55, 2023-04-03 06:28:16, 2023-04-03 06:57:03, 2023-04-03 05:52:25, nan, 2023-04-03 07:11:43, 2023-04-03 06:51:12, 2023-04-03 07:23:54, 2023-04-03 06:50:21, 2023-04-03 07:08:31, 2023-04-03 07:07:35, 2023-04-03 06:09:17, 2023-04-03 07:07:17, 2023-04-03 07:47:42, 2023-04-03 06:35:41, 2023-04-03 07:07:12, 2023-04-03 07:30:45, 2023-04-03 06:08:59, 2023-04-03 05:30:45, 2023-04-03 07:11:25, 2023-04-03 07:06:05, 2023-04-03 06:12:52, 2023-04-03 06:33:42, 2023-04-03 06:23:52, 2023-04-03 06:42:12, 2023-04-03 06:22:28, 2023-04-03 06:50:32, 2023-04-03 05:38:49, 2023-04-03 06:51:21, 2023-04-03 07:28:00, 2023-04-03 05:35:33, 2023-04-03 07:34:23, 2023-04-03 07:24:08, 2023-04-03 07:20:21, 2023-04-03 05:58:35, 2023-04-03 06:02:36, 2023-04-03 05:50:10, 2023-04-03 07:30:53, 2023-04-03 06:19:50, 2023-04-03 06:30:30, 2023-04-03 07:32:35, 2023-04-03 06:39:28, 2023-04-03 05:47:58, 2023-04-03 05:56:59, 2023-04-03 07:17:52, 2023-04-03 06:16:13, 2023-04-03 06:40:53, 2023-04-03 07:13:58, 2023-04-03 06:02:58, 2023-04-03 06:39:16, 2023-04-03 07:29:36, 2023-04-03 07:29:33, 2023-04-03 06:06:12, 2023-04-03 06:13:36, 2023-04-03 06:16:38, 2023-04-03 05:51:14, 2023-04-03 06:09:12, 2023-04-03 06:50:23, 2023-04-03 07:09:23, 2023-04-03 07:10:56, 2023-04-03 07:03:11, 2023-04-03 07:17:19, 2023-04-03 07:11:37, 2023-04-03 05:47:40, 2023-04-03 05:57:31, 2023-04-03 07:12:09, 2023-04-03 06:06:48, 2023-04-03 05:35:24, 2023-04-03 07:21:09, 2023-04-03 06:37:49, 2023-04-03 07:08:03, 2023-04-03 06:57:35, 2023-04-03 07:20:00, 2023-04-03 06:49:41, 2023-04-03 06:47:17, 2023-04-03 06:28:37, 2023-04-03 06:21:13, 2023-04-03 06:41:37, 2023-04-03 06:12:00, 2023-04-03 06:25:54, 2023-04-03 06:44:41, 2023-04-03 06:27:22, 2023-04-03 07:14:33, 2023-04-03 06:04:38, 2023-04-03 06:52:14, 2023-04-03 07:46:28, 2023-04-03 06:55:59, 2023-04-03 06:04:41, 2023-04-03 06:29:21, 2023-04-03 06:08:29, 2023-04-03 07:11:01, 2023-04-03 06:55:01, 2023-04-03 06:35:04, 2023-04-03 06:54:13, 2023-04-03 06:53:50, 2023-04-03 06:59:54, 2023-04-03 07:36:05, 2023-04-03 07:03:36, ...]  \n",
       "21                                                                                                                                                                                                                                                                                                                                                                                                                                                                                                                                                                                                                                                                                                                                                                                                                                                                                                                                                                                                                                                                                                                                                                                                                                                                                                                                                                                                                                                                                                                                                                                                                                                                                                                                                                                                                                                                                                                                                                                                                                                                                                                                                                                                                                                                                                                                                                                                                                                                                                                                                                                                                                                                                                                                                                                                                           [3500.0, 20000.0, 0.0, nan]  "
      ]
     },
     "execution_count": 261,
     "metadata": {},
     "output_type": "execute_result"
    }
   ],
   "source": [
    "pd.set_option('display.max_colwidth', None)\n",
    "# data uni di tiap kolom\n",
    "listItem = []\n",
    "for col in df.columns :\n",
    "    listItem.append( [col, df[col].nunique(), df[col].unique()])\n",
    "\n",
    "tabel1Desc = pd.DataFrame(columns=['Column Name', 'Number of Unique', 'Unique Sample'],\n",
    "                     data=listItem)\n",
    "tabel1Desc"
   ]
  },
  {
   "cell_type": "markdown",
   "metadata": {},
   "source": [
    "## Delete coloumn"
   ]
  },
  {
   "cell_type": "code",
   "execution_count": 262,
   "metadata": {},
   "outputs": [],
   "source": [
    "# Menggunakan drop untuk menghapus kolom\n",
    "df = df.drop(['transID','stopStartSeq', 'stopEndSeq', 'tapInStops', 'tapOutStops'], axis=1)\n"
   ]
  },
  {
   "cell_type": "code",
   "execution_count": 263,
   "metadata": {},
   "outputs": [
    {
     "name": "stdout",
     "output_type": "stream",
     "text": [
      "<class 'pandas.core.frame.DataFrame'>\n",
      "RangeIndex: 37900 entries, 0 to 37899\n",
      "Data columns (total 17 columns):\n",
      " #   Column            Non-Null Count  Dtype         \n",
      "---  ------            --------------  -----         \n",
      " 0   payCardID         37900 non-null  int64         \n",
      " 1   payCardBank       37900 non-null  object        \n",
      " 2   payCardName       37900 non-null  object        \n",
      " 3   payCardSex        37900 non-null  object        \n",
      " 4   payCardBirthDate  37900 non-null  int64         \n",
      " 5   corridorID        36643 non-null  object        \n",
      " 6   corridorName      35970 non-null  object        \n",
      " 7   direction         37900 non-null  float64       \n",
      " 8   tapInStopsName    37900 non-null  object        \n",
      " 9   tapInStopsLat     37900 non-null  float64       \n",
      " 10  tapInStopsLon     37900 non-null  float64       \n",
      " 11  tapInTime         37900 non-null  datetime64[ns]\n",
      " 12  tapOutStopsName   36556 non-null  object        \n",
      " 13  tapOutStopsLat    36556 non-null  float64       \n",
      " 14  tapOutStopsLon    36556 non-null  float64       \n",
      " 15  tapOutTime        36556 non-null  datetime64[ns]\n",
      " 16  payAmount         36893 non-null  float64       \n",
      "dtypes: datetime64[ns](2), float64(6), int64(2), object(7)\n",
      "memory usage: 4.9+ MB\n"
     ]
    }
   ],
   "source": [
    "# Konversi tipe data time \n",
    "df['tapInTime'] = pd.to_datetime(df['tapInTime'])\n",
    "df['tapOutTime'] = pd.to_datetime(df['tapOutTime'])\n",
    "df.info()"
   ]
  },
  {
   "cell_type": "markdown",
   "metadata": {},
   "source": [
    "Secara umum, kita bisa melihat bahwa:\n",
    "* dataset hr_analytics memiliki 19 kolom dan 19.158 baris\n",
    "* kolom `transID` berisikan kode transaksi, kolom ini dianggap tidak penting jadi hapus saja karena suah kolom `payCardID` berisikan id unik untuk tiap pelanggan. \n",
    "* kolom `stopStartSeq` dan kolom `stopEndSeq` dihapus saja karena tidak diperlukan untuk analisis data. \n",
    "* kolom `tapInStops` dan `tapOutStops`dihapus saja karena tidak diperlukan untuk analisis data. \n",
    "* kolom `tapinTime` dan `tapOutTime` memiliki tipe data object yang harusnya dalam bentuk datetime64ns\n"
   ]
  },
  {
   "cell_type": "markdown",
   "metadata": {},
   "source": [
    "## Missing Value"
   ]
  },
  {
   "cell_type": "code",
   "execution_count": 264,
   "metadata": {},
   "outputs": [
    {
     "data": {
      "text/plain": [
       "payCardID           0.00\n",
       "payCardBank         0.00\n",
       "payCardName         0.00\n",
       "payCardSex          0.00\n",
       "payCardBirthDate    0.00\n",
       "corridorID          3.32\n",
       "corridorName        5.09\n",
       "direction           0.00\n",
       "tapInStopsName      0.00\n",
       "tapInStopsLat       0.00\n",
       "tapInStopsLon       0.00\n",
       "tapInTime           0.00\n",
       "tapOutStopsName     3.55\n",
       "tapOutStopsLat      3.55\n",
       "tapOutStopsLon      3.55\n",
       "tapOutTime          3.55\n",
       "payAmount           2.66\n",
       "dtype: float64"
      ]
     },
     "execution_count": 264,
     "metadata": {},
     "output_type": "execute_result"
    }
   ],
   "source": [
    "# persentase missing value di tiap kolom\n",
    "np.round(\n",
    "    (df.isna().sum()/df.shape[0]*100),\n",
    "    2\n",
    ")"
   ]
  },
  {
   "cell_type": "code",
   "execution_count": 265,
   "metadata": {},
   "outputs": [
    {
     "data": {
      "text/plain": [
       "<Axes: >"
      ]
     },
     "execution_count": 265,
     "metadata": {},
     "output_type": "execute_result"
    },
    {
     "data": {
      "image/png": "[encoded data removed]",
      "text/plain": [
       "<Figure size 1000x1000 with 2 Axes>"
      ]
     },
     "metadata": {},
     "output_type": "display_data"
    }
   ],
   "source": [
    "# Sebaran missing value di dalam data\n",
    "plt.figure(figsize=(10,10))\n",
    "sns.heatmap(df[['corridorID','corridorName','tapOutStopsName','tapOutStopsLat','tapOutStopsLon','tapOutTime','payAmount']].isna())"
   ]
  },
  {
   "cell_type": "markdown",
   "metadata": {},
   "source": [
    "Secara garis besar:  \n",
    "* *missing value* di kolom `corridorID`, `corridorName`,`tapOutStopsName`,`tapOutStopsLat`,`tapOutStopsLon`,`tapOutTime`,`payAmount`, memiliki proporsi yang rendah (<10%), dengan missing value tertinggi ada di value `tapOutStop` mencapai 5.09%\n",
    "* mengisi missing value dengan nilai modus (yang sering muncul)"
   ]
  },
  {
   "cell_type": "code",
   "execution_count": 266,
   "metadata": {},
   "outputs": [],
   "source": [
    "mode_corridorID = df['corridorID'].mode()[0]  # Menghitung mode dari corridorID\n",
    "df['corridorID'].fillna(mode_corridorID, inplace=True)  # Mengisi nilai yang hilang dengan mode"
   ]
  },
  {
   "cell_type": "code",
   "execution_count": 267,
   "metadata": {},
   "outputs": [],
   "source": [
    "# Misalkan kolom 'corridorID' memiliki nilai yang tidak null\n",
    "# Membuat mapping antara 'corridorID' dan 'corridorName' yang tidak null\n",
    "mapping = df.dropna(subset=['corridorID', 'corridorName']).set_index('corridorID')['corridorName'].to_dict()\n",
    "\n",
    "# Mengisi nilai yang hilang di 'corridorName' dengan 'corridorID' yang sesuai\n",
    "df['corridorName'].fillna(df['corridorID'].map(mapping), inplace=True)"
   ]
  },
  {
   "cell_type": "code",
   "execution_count": 268,
   "metadata": {},
   "outputs": [],
   "source": [
    "df = df.dropna(subset=['tapOutTime'])\n"
   ]
  },
  {
   "cell_type": "code",
   "execution_count": 269,
   "metadata": {},
   "outputs": [],
   "source": [
    "# Hitung nilai modus dari kolom 'tapOutStopNames'\n",
    "tapout_mode = df['tapOutStopsName'].mode()[0]\n",
    "\n",
    "# Mengganti nilai yang hilang dengan nilai modus\n",
    "df['tapOutStopsName'].fillna(tapout_mode, inplace=True)"
   ]
  },
  {
   "cell_type": "code",
   "execution_count": 270,
   "metadata": {},
   "outputs": [],
   "source": [
    "# mengisi nilai 'tapOutStopsLat' dan 'tapOutStopsLong' dengan mengidentifikasi tapOutStopsName nya \n",
    "df['tapOutStopsLat'] = df.groupby('tapOutStopsName')['tapOutStopsLat'].transform(lambda x: x.fillna(x.mean()))\n",
    "df['tapOutStopsLon'] = df.groupby('tapOutStopsName')['tapOutStopsLon'].transform(lambda x: x.fillna(x.mean()))"
   ]
  },
  {
   "cell_type": "code",
   "execution_count": 271,
   "metadata": {},
   "outputs": [],
   "source": [
    "# mengisi nilai dengan memberikan ketentuan apabila ada layanan dengan kode 'JAK' maka tarifnya 0 \n",
    "condition = df['corridorID'].str.contains('JAK', na=False)\n",
    "\n",
    "# Memperbarui payamount untuk kode rute yang memenuhi kondisi\n",
    "df.loc[condition, 'payAmount'] = 0\n"
   ]
  },
  {
   "cell_type": "code",
   "execution_count": 272,
   "metadata": {},
   "outputs": [
    {
     "data": {
      "text/plain": [
       "payCardID           0.00\n",
       "payCardBank         0.00\n",
       "payCardName         0.00\n",
       "payCardSex          0.00\n",
       "payCardBirthDate    0.00\n",
       "corridorID          0.00\n",
       "corridorName        0.00\n",
       "direction           0.00\n",
       "tapInStopsName      0.00\n",
       "tapInStopsLat       0.00\n",
       "tapInStopsLon       0.00\n",
       "tapInTime           0.00\n",
       "tapOutStopsName     0.00\n",
       "tapOutStopsLat      0.00\n",
       "tapOutStopsLon      0.00\n",
       "tapOutTime          0.00\n",
       "payAmount           1.59\n",
       "dtype: float64"
      ]
     },
     "execution_count": 272,
     "metadata": {},
     "output_type": "execute_result"
    }
   ],
   "source": [
    "# persentase missing value di tiap kolom\n",
    "np.round(\n",
    "    (df.isna().sum()/df.shape[0]*100),\n",
    "    2\n",
    ")"
   ]
  },
  {
   "cell_type": "code",
   "execution_count": 273,
   "metadata": {},
   "outputs": [
    {
     "data": {
      "text/html": [
       "<div>\n",
       "<style scoped>\n",
       "    .dataframe tbody tr th:only-of-type {\n",
       "        vertical-align: middle;\n",
       "    }\n",
       "\n",
       "    .dataframe tbody tr th {\n",
       "        vertical-align: top;\n",
       "    }\n",
       "\n",
       "    .dataframe thead th {\n",
       "        text-align: right;\n",
       "    }\n",
       "</style>\n",
       "<table border=\"1\" class=\"dataframe\">\n",
       "  <thead>\n",
       "    <tr style=\"text-align: right;\">\n",
       "      <th></th>\n",
       "      <th>payAmount</th>\n",
       "      <th>corridorID</th>\n",
       "    </tr>\n",
       "  </thead>\n",
       "  <tbody>\n",
       "    <tr>\n",
       "      <th>0</th>\n",
       "      <td>0.0</td>\n",
       "      <td>[1T, JAK.46, JAK.88, JAK.16, JAK.02, 3B, BW9, JAK.15, JAK.112, JAK.43B, JAK.42, JAK.02, JAK.36, JAK.06, JAK.14, JAK.15, 3A, 3C, JAK.71, JAK.77, JAK.44, JAK.48B, JAK.19, JAK.75, JAK.52, JAK.37, JAK.31, 11M, JAK.43C, 2F, 3B, JAK.117, JAK.49, JAK.44, JAK.20, JAK.118, JAK.36, JAK.27, 4E, JAK.13, JAK.84, 2H, JAK.08, JAK.23, JAK.07, JAK.22, JAK.115, JAK.21, JAK.26, JAK.64, JAK.47, 12C, 2F, JAK.01, JAK.120, JAK.85, 11N, JAK.10, JAK.36, 2E, JAK.115, JAK.14, JAK.20, JAK.07, JAK.41, JAK.86, 3A, JAK.07, 2E, 9F, JAK.49, JAK.26, 11P, JAK.73, JAK.32, JAK.50, JAK.29, 3C, JAK.48A, JAK.06, JAK.45, JAK.42, JAK.46, JAK.27, JAK.18, JAK.51, 2F, JAK.48A, JAK.51, JAK.54, JAK.110A, JAK.03, JAK.36, JAK.50, JAK.120, JAK.44, JAK.25, JAK.64, 1T, JAK.88, ...]</td>\n",
       "    </tr>\n",
       "    <tr>\n",
       "      <th>1</th>\n",
       "      <td>3500.0</td>\n",
       "      <td>[5, 6C, R1A, 11D, 12, 1Q, 5M, 9A, 4, S22, 13, 9E, M9, T11, 6V, 11Q, 11, 1C, R1A, M1, 7E, 1P, 7D, 6H, 14, JIS3, 5M, 2, R1A, 6N, M11, 9N, 2, 13, 7P, 11, 13B, 1Q, M7, 12A, 9D, 1, 6N, M8, B21, 12A, M3, 14, 8K, M10, 10D, B11, M11, 8C, M2, 12B, 5D, 9D, 14, 7A, 7Q, 1M, 5C, B11, 6Q, JIS3, 8E, 1T, 6M, 5D, 5C, L13E, 12P, 9N, 1F, B21, 14, 13C, 1, 4B, 7C, 8C, 5, 6V, 12, 2A, M10, 7Q, M3, 8A, 1E, 5D, 1M, 11Q, M4, 9H, 10D, 13D, 5N, JIS3, ...]</td>\n",
       "    </tr>\n",
       "    <tr>\n",
       "      <th>2</th>\n",
       "      <td>20000.0</td>\n",
       "      <td>[1T, B14, T21, T21, 1T, D32, 1T, B14, T21, 1T, T21, 1T, D32, S31, 1T, B14, T21, 1T, T21, 1T, D32, S31, 1T, B14, T21, 1T, 1T, D32, S31, 1T, B14, T21, 1T, T21, 1T, D32, S31, 1T, B14, T21, 1T, T21, D32, S31, 1T, B14, T21, 1T, T21, 1T, D32, S31, 1T, B14, T21, 1T, T21, 1T, D32, S31, 1T, B14, T21, 1T, T21, D32, S31, 1T, B14, T21, 1T, T21, 1T, D32, S31, 1T, B14, T21, 1T, T21, 1T, D32, S31, 1T, B14, T21, 1T, T21, 1T, D32, S31, 1T, B14, T21, 1T, T21, 1T, D32, S31, 1T, ...]</td>\n",
       "    </tr>\n",
       "  </tbody>\n",
       "</table>\n",
       "</div>"
      ],
      "text/plain": [
       "   payAmount  \\\n",
       "0        0.0   \n",
       "1     3500.0   \n",
       "2    20000.0   \n",
       "\n",
       "                                                                                                                                                                                                                                                                                                                                                                                                                                                                                                                                                                                                                                                                                                                                                             corridorID  \n",
       "0  [1T, JAK.46, JAK.88, JAK.16, JAK.02, 3B, BW9, JAK.15, JAK.112, JAK.43B, JAK.42, JAK.02, JAK.36, JAK.06, JAK.14, JAK.15, 3A, 3C, JAK.71, JAK.77, JAK.44, JAK.48B, JAK.19, JAK.75, JAK.52, JAK.37, JAK.31, 11M, JAK.43C, 2F, 3B, JAK.117, JAK.49, JAK.44, JAK.20, JAK.118, JAK.36, JAK.27, 4E, JAK.13, JAK.84, 2H, JAK.08, JAK.23, JAK.07, JAK.22, JAK.115, JAK.21, JAK.26, JAK.64, JAK.47, 12C, 2F, JAK.01, JAK.120, JAK.85, 11N, JAK.10, JAK.36, 2E, JAK.115, JAK.14, JAK.20, JAK.07, JAK.41, JAK.86, 3A, JAK.07, 2E, 9F, JAK.49, JAK.26, 11P, JAK.73, JAK.32, JAK.50, JAK.29, 3C, JAK.48A, JAK.06, JAK.45, JAK.42, JAK.46, JAK.27, JAK.18, JAK.51, 2F, JAK.48A, JAK.51, JAK.54, JAK.110A, JAK.03, JAK.36, JAK.50, JAK.120, JAK.44, JAK.25, JAK.64, 1T, JAK.88, ...]  \n",
       "1                                                                                                                                                                                                                                                                                                                       [5, 6C, R1A, 11D, 12, 1Q, 5M, 9A, 4, S22, 13, 9E, M9, T11, 6V, 11Q, 11, 1C, R1A, M1, 7E, 1P, 7D, 6H, 14, JIS3, 5M, 2, R1A, 6N, M11, 9N, 2, 13, 7P, 11, 13B, 1Q, M7, 12A, 9D, 1, 6N, M8, B21, 12A, M3, 14, 8K, M10, 10D, B11, M11, 8C, M2, 12B, 5D, 9D, 14, 7A, 7Q, 1M, 5C, B11, 6Q, JIS3, 8E, 1T, 6M, 5D, 5C, L13E, 12P, 9N, 1F, B21, 14, 13C, 1, 4B, 7C, 8C, 5, 6V, 12, 2A, M10, 7Q, M3, 8A, 1E, 5D, 1M, 11Q, M4, 9H, 10D, 13D, 5N, JIS3, ...]  \n",
       "2                                                                                                                                                                                                                                                                                  [1T, B14, T21, T21, 1T, D32, 1T, B14, T21, 1T, T21, 1T, D32, S31, 1T, B14, T21, 1T, T21, 1T, D32, S31, 1T, B14, T21, 1T, 1T, D32, S31, 1T, B14, T21, 1T, T21, 1T, D32, S31, 1T, B14, T21, 1T, T21, D32, S31, 1T, B14, T21, 1T, T21, 1T, D32, S31, 1T, B14, T21, 1T, T21, 1T, D32, S31, 1T, B14, T21, 1T, T21, D32, S31, 1T, B14, T21, 1T, T21, 1T, D32, S31, 1T, B14, T21, 1T, T21, 1T, D32, S31, 1T, B14, T21, 1T, T21, 1T, D32, S31, 1T, B14, T21, 1T, T21, 1T, D32, S31, 1T, ...]  "
      ]
     },
     "execution_count": 273,
     "metadata": {},
     "output_type": "execute_result"
    }
   ],
   "source": [
    "#payAmount masih terindikasi missing value \n",
    "grouped_data = df.groupby('payAmount')['corridorID'].apply(list).reset_index()\n",
    "grouped_data"
   ]
  },
  {
   "cell_type": "code",
   "execution_count": 274,
   "metadata": {},
   "outputs": [],
   "source": [
    "# Mengonversi list 'corridorID' menjadi string dengan pemisah koma\n",
    "grouped_data['corridorID'] = grouped_data['corridorID'].apply(lambda x: ','.join(map(str, x)))\n",
    "\n",
    "# Membuat dictionary dari grouped_data dengan 'corridorID' sebagai kunci dan 'payAmount' sebagai nilai\n",
    "corridor_pay_map = grouped_data.set_index('corridorID')['payAmount'].to_dict()\n",
    "\n",
    "# Mengisi nilai yang hilang di 'payAmount' berdasarkan 'corridorID'\n",
    "df['payAmount'].fillna(df['corridorID'].astype(str).map(corridor_pay_map), inplace=True)\n"
   ]
  },
  {
   "cell_type": "code",
   "execution_count": 275,
   "metadata": {},
   "outputs": [
    {
     "data": {
      "text/plain": [
       "payCardID           0.00\n",
       "payCardBank         0.00\n",
       "payCardName         0.00\n",
       "payCardSex          0.00\n",
       "payCardBirthDate    0.00\n",
       "corridorID          0.00\n",
       "corridorName        0.00\n",
       "direction           0.00\n",
       "tapInStopsName      0.00\n",
       "tapInStopsLat       0.00\n",
       "tapInStopsLon       0.00\n",
       "tapInTime           0.00\n",
       "tapOutStopsName     0.00\n",
       "tapOutStopsLat      0.00\n",
       "tapOutStopsLon      0.00\n",
       "tapOutTime          0.00\n",
       "payAmount           1.59\n",
       "dtype: float64"
      ]
     },
     "execution_count": 275,
     "metadata": {},
     "output_type": "execute_result"
    }
   ],
   "source": [
    "# persentase missing value di tiap kolom\n",
    "np.round(\n",
    "    (df.isna().sum()/df.shape[0]*100),\n",
    "    2\n",
    ")"
   ]
  },
  {
   "cell_type": "code",
   "execution_count": 276,
   "metadata": {},
   "outputs": [],
   "source": [
    "# Tidak bisa diidentifikasi by corridor ID maka direkomendasikan untuk diisi dengan nilai modus \n",
    "# Menghitung nilai modus dari 'payAmount'\n",
    "mode_pay_amount = df['payAmount'].mode()[0]  # Mengambil nilai modus pertama (jika ada lebih dari satu modus)\n",
    "\n",
    "# Mengisi nilai NaN di 'payAmount' dengan nilai modus\n",
    "df['payAmount'].fillna(mode_pay_amount, inplace=True)\n"
   ]
  },
  {
   "cell_type": "code",
   "execution_count": 277,
   "metadata": {},
   "outputs": [
    {
     "data": {
      "text/plain": [
       "payCardID           0.0\n",
       "payCardBank         0.0\n",
       "payCardName         0.0\n",
       "payCardSex          0.0\n",
       "payCardBirthDate    0.0\n",
       "corridorID          0.0\n",
       "corridorName        0.0\n",
       "direction           0.0\n",
       "tapInStopsName      0.0\n",
       "tapInStopsLat       0.0\n",
       "tapInStopsLon       0.0\n",
       "tapInTime           0.0\n",
       "tapOutStopsName     0.0\n",
       "tapOutStopsLat      0.0\n",
       "tapOutStopsLon      0.0\n",
       "tapOutTime          0.0\n",
       "payAmount           0.0\n",
       "dtype: float64"
      ]
     },
     "execution_count": 277,
     "metadata": {},
     "output_type": "execute_result"
    }
   ],
   "source": [
    "# persentase missing value di tiap kolom\n",
    "np.round(\n",
    "    (df.isna().sum()/df.shape[0]*100),\n",
    "    2\n",
    ")"
   ]
  },
  {
   "cell_type": "markdown",
   "metadata": {},
   "source": [
    "#### Deteksi duplikat"
   ]
  },
  {
   "cell_type": "code",
   "execution_count": 278,
   "metadata": {},
   "outputs": [
    {
     "data": {
      "text/plain": [
       "0        False\n",
       "1        False\n",
       "2        False\n",
       "3        False\n",
       "4        False\n",
       "         ...  \n",
       "37895    False\n",
       "37896    False\n",
       "37897    False\n",
       "37898    False\n",
       "37899    False\n",
       "Length: 36556, dtype: bool"
      ]
     },
     "execution_count": 278,
     "metadata": {},
     "output_type": "execute_result"
    }
   ],
   "source": [
    "# Mendeteksi duplikat data dalam dataframe\n",
    "duplikat = df.duplicated()\n",
    "duplikat"
   ]
  },
  {
   "cell_type": "code",
   "execution_count": 279,
   "metadata": {},
   "outputs": [
    {
     "data": {
      "text/plain": [
       "False    36556\n",
       "Name: count, dtype: int64"
      ]
     },
     "execution_count": 279,
     "metadata": {},
     "output_type": "execute_result"
    }
   ],
   "source": [
    "duplikat.value_counts() #hasilnya false tidak ada duplikat"
   ]
  },
  {
   "cell_type": "markdown",
   "metadata": {},
   "source": [
    "#### Deteksi Outlier"
   ]
  },
  {
   "cell_type": "code",
   "execution_count": 319,
   "metadata": {},
   "outputs": [
    {
     "name": "stdout",
     "output_type": "stream",
     "text": [
      "<class 'pandas.core.frame.DataFrame'>\n",
      "Index: 30566 entries, 37751 to 34234\n",
      "Data columns (total 28 columns):\n",
      " #   Column                   Non-Null Count  Dtype          \n",
      "---  ------                   --------------  -----          \n",
      " 0   payCardID                30566 non-null  int64          \n",
      " 1   payCardBank              30566 non-null  object         \n",
      " 2   payCardName              30566 non-null  object         \n",
      " 3   payCardSex               30566 non-null  object         \n",
      " 4   payCardBirthDate         30566 non-null  int64          \n",
      " 5   corridorID               30566 non-null  object         \n",
      " 6   corridorName             30566 non-null  object         \n",
      " 7   direction                30566 non-null  float64        \n",
      " 8   tapInStopsName           30566 non-null  object         \n",
      " 9   tapInStopsLat            30566 non-null  float64        \n",
      " 10  tapInStopsLon            30566 non-null  float64        \n",
      " 11  tapInTime                30566 non-null  datetime64[ns] \n",
      " 12  tapOutStopsName          30566 non-null  object         \n",
      " 13  tapOutStopsLat           30566 non-null  float64        \n",
      " 14  tapOutStopsLon           30566 non-null  float64        \n",
      " 15  tapOutTime               30566 non-null  datetime64[ns] \n",
      " 16  payAmount                30566 non-null  float64        \n",
      " 17  WaktuPerjalanan          30566 non-null  timedelta64[ns]\n",
      " 18  Waktu Perjalanan_menit   30566 non-null  float64        \n",
      " 19  FrekuensiLamaPerjalanan  30566 non-null  category       \n",
      " 20  Age                      30566 non-null  int32          \n",
      " 21  AgeGroup                 30566 non-null  object         \n",
      " 22  Hour                     30566 non-null  int32          \n",
      " 23  Day                      30566 non-null  object         \n",
      " 24  JumlahTapIn              30566 non-null  int64          \n",
      " 25  Tanggal Tap In           30566 non-null  object         \n",
      " 26  Jam Tap In               30566 non-null  object         \n",
      " 27  jenis_layanan            30566 non-null  object         \n",
      "dtypes: category(1), datetime64[ns](2), float64(7), int32(2), int64(3), object(12), timedelta64[ns](1)\n",
      "memory usage: 6.3+ MB\n"
     ]
    }
   ],
   "source": [
    "# Pilih kolom numerik dalam dataframe\n",
    "numeric_cols = df.select_dtypes(include=['float64', 'int64'])\n",
    "\n",
    "# Hitung IQR untuk setiap kolom numerik\n",
    "Q1 = numeric_cols.quantile(0.25)\n",
    "Q3 = numeric_cols.quantile(0.75)\n",
    "IQR = Q3 - Q1\n",
    "\n",
    "# Tentukan batas atas dan bawah untuk mendefinisikan outlier\n",
    "lower_bound = Q1 - 1.5 * IQR\n",
    "upper_bound = Q3 + 1.5 * IQR\n",
    "\n",
    "# Tentukan lokasi outlier\n",
    "outliers = ((numeric_cols < lower_bound) | (numeric_cols > upper_bound)).any(axis=1)\n",
    "\n",
    "# Hapus baris yang mengandung outlier\n",
    "df_no_outliers = df[~outliers]\n",
    "df_no_outliers.info()\n"
   ]
  },
  {
   "cell_type": "code",
   "execution_count": 281,
   "metadata": {},
   "outputs": [
    {
     "data": {
      "image/png": "[encoded data removed]",
      "text/plain": [
       "<Figure size 1200x800 with 1 Axes>"
      ]
     },
     "metadata": {},
     "output_type": "display_data"
    },
    {
     "data": {
      "image/png": "[encoded data removed]",
      "text/plain": [
       "<Figure size 1200x800 with 1 Axes>"
      ]
     },
     "metadata": {},
     "output_type": "display_data"
    }
   ],
   "source": [
    "import seaborn as sns\n",
    "import matplotlib.pyplot as plt\n",
    "\n",
    "# kolom numerik dalam dataframe\n",
    "numeric_cols = df_no_outliers.select_dtypes(include=['float64', 'int64'])\n",
    "\n",
    "# box plot untuk setiap kolom numerik\n",
    "plt.figure(figsize=(12, 8))\n",
    "sns.boxplot(data=numeric_cols)\n",
    "plt.title('Box Plot of Numeric Columns')\n",
    "plt.show()\n",
    "\n",
    "\n",
    "# kolom numerik dalam dataframe\n",
    "numeric_cols2 = df.select_dtypes(include=['float64', 'int64'])\n",
    "\n",
    "# box plot untuk setiap kolom numerik\n",
    "plt.figure(figsize=(12, 8))\n",
    "sns.boxplot(data=numeric_cols2)\n",
    "plt.title('Box Plot of Numeric Columns')\n",
    "plt.show()\n",
    "\n"
   ]
  },
  {
   "cell_type": "markdown",
   "metadata": {},
   "source": [
    "#### Catatan tambahan\n",
    " Untuk analisis selanjutnya, data outlier tetap disertakan untuk analisis dan eksplorasi data lebih lengkap.\n",
    " \n",
    " \n",
    " Ada `6.000`` outlier dimana ini hampir `20%` dari data. Kalau menggunakan data dengan outlier, artinya kita harus mendelete dan tidak bisa mengeksplorasi data dengan analisis dan insight yang lebih luas. \n"
   ]
  },
  {
   "cell_type": "markdown",
   "metadata": {},
   "source": [
    "### Data cleaned\n",
    "Kita sudah selesai membersihkan data kita, sekarang, mari kita lihat sekilas informasi dari data yang sudah kita bersihkan"
   ]
  },
  {
   "cell_type": "code",
   "execution_count": 282,
   "metadata": {},
   "outputs": [
    {
     "name": "stdout",
     "output_type": "stream",
     "text": [
      "(36556, 17)\n"
     ]
    }
   ],
   "source": [
    "listItem = []\n",
    "for col in df.columns :\n",
    "    listItem.append([col, df[col].dtype, df[col].isna().sum(),\n",
    "                    df[col].nunique(), list(df[col].drop_duplicates().sample(2).values)]);\n",
    "\n",
    "dfDesc = pd.DataFrame(columns=['dataFeatures', 'dataType', 'null', 'unique', 'uniqueSample'],\n",
    "                     data=listItem)\n",
    "print(df.shape)"
   ]
  },
  {
   "cell_type": "markdown",
   "metadata": {},
   "source": [
    "Sebelum dibersihkan, kita memiliki 37.900 baris data dan 22 kolom, sekarang kita memiliki 36.556 an 17 kolom, karena missing valuenya <6%, yang mana masih tergolong sedikit maka tidak ada data yang dihapus. Melainkan di isi menggunakan data yang modus. \n",
    "\n",
    "Kita hanya menghapus kolom yang tidak digunakan dalam analisis data."
   ]
  },
  {
   "cell_type": "markdown",
   "metadata": {},
   "source": [
    "# Data Analysis\n",
    "\n",
    "Dari data Transjakarta ini, ada beberapa insight yang dapat diperoleh adalah:\n",
    "\n",
    "1. Analisis pola perjalanan penumpang Transjakarta dengan melihat pola tap-in (masuk) dan tap-out (keluar) di koridor (koridor terbanyak dan jam sibuk)\n",
    "2. Frekuensi Penggunaan kartu untuk transaksi (payCardID)\n",
    "3. Demografi pelanggan yang menggunakan layanan Transjakarta (gender, usia, tempat tinggal)\n",
    "4. Anda dapat mencari korelasi antara fitur-fitur seperti jumlah pembayaran (payAmount) dengan rute atau halte yang sering digunakan (corridorID atau tapInStopsName/tapOutStopsName).\n",
    "5. Anda bisa menganalisis waktu antara tap-in dan tap-out untuk mengidentifikasi pola keterlambatan atau kemacetan dalam perjalanan.\n",
    "6. Eksplorasi Data Geospasial: Informasi tentang lokasi halte (tapInStopsLat/tapInStopsLon dan tapOutStopsLat/tapOutStopsLon) dapat dimanfaatkan untuk analisis spasial tentang pola perjalanan atau kepadatan penggunaan pada berbagai area.\n",
    "7. Intensitas rata-rata kedatangan pengguna Bus TransJakarta berdasarkan data tap in - tap out\n"
   ]
  },
  {
   "cell_type": "markdown",
   "metadata": {},
   "source": [
    "## Berdasarkan data tap in dan tap out\n",
    "* Halte mana yang paling ramai saat pelanggan masuk dan keluar?\n",
    "\n"
   ]
  },
  {
   "cell_type": "code",
   "execution_count": 312,
   "metadata": {},
   "outputs": [
    {
     "data": {
      "text/html": [
       "<div>\n",
       "<style scoped>\n",
       "    .dataframe tbody tr th:only-of-type {\n",
       "        vertical-align: middle;\n",
       "    }\n",
       "\n",
       "    .dataframe tbody tr th {\n",
       "        vertical-align: top;\n",
       "    }\n",
       "\n",
       "    .dataframe thead th {\n",
       "        text-align: right;\n",
       "    }\n",
       "</style>\n",
       "<table border=\"1\" class=\"dataframe\">\n",
       "  <thead>\n",
       "    <tr style=\"text-align: right;\">\n",
       "      <th></th>\n",
       "      <th>tapInStopsName</th>\n",
       "      <th>frekuensi</th>\n",
       "    </tr>\n",
       "  </thead>\n",
       "  <tbody>\n",
       "    <tr>\n",
       "      <th>1274</th>\n",
       "      <td>Penjaringan</td>\n",
       "      <td>235</td>\n",
       "    </tr>\n",
       "    <tr>\n",
       "      <th>272</th>\n",
       "      <td>Garuda Taman Mini</td>\n",
       "      <td>203</td>\n",
       "    </tr>\n",
       "    <tr>\n",
       "      <th>52</th>\n",
       "      <td>BKN</td>\n",
       "      <td>163</td>\n",
       "    </tr>\n",
       "    <tr>\n",
       "      <th>58</th>\n",
       "      <td>BNN LRT</td>\n",
       "      <td>150</td>\n",
       "    </tr>\n",
       "    <tr>\n",
       "      <th>1255</th>\n",
       "      <td>Pejaten</td>\n",
       "      <td>146</td>\n",
       "    </tr>\n",
       "    <tr>\n",
       "      <th>1271</th>\n",
       "      <td>Penggilingan</td>\n",
       "      <td>129</td>\n",
       "    </tr>\n",
       "    <tr>\n",
       "      <th>165</th>\n",
       "      <td>Cibubur Junction</td>\n",
       "      <td>127</td>\n",
       "    </tr>\n",
       "    <tr>\n",
       "      <th>1587</th>\n",
       "      <td>Rusun Kapuk Muara</td>\n",
       "      <td>125</td>\n",
       "    </tr>\n",
       "    <tr>\n",
       "      <th>2161</th>\n",
       "      <td>Seskoal</td>\n",
       "      <td>123</td>\n",
       "    </tr>\n",
       "    <tr>\n",
       "      <th>2461</th>\n",
       "      <td>Tendean</td>\n",
       "      <td>122</td>\n",
       "    </tr>\n",
       "  </tbody>\n",
       "</table>\n",
       "</div>"
      ],
      "text/plain": [
       "         tapInStopsName  frekuensi\n",
       "1274        Penjaringan        235\n",
       "272   Garuda Taman Mini        203\n",
       "52                  BKN        163\n",
       "58              BNN LRT        150\n",
       "1255            Pejaten        146\n",
       "1271       Penggilingan        129\n",
       "165    Cibubur Junction        127\n",
       "1587  Rusun Kapuk Muara        125\n",
       "2161            Seskoal        123\n",
       "2461            Tendean        122"
      ]
     },
     "execution_count": 312,
     "metadata": {},
     "output_type": "execute_result"
    }
   ],
   "source": [
    "freq_tap = df.groupby(['tapInStopsName']).size().reset_index(name='frekuensi')\n",
    "halte_max = freq_tap.loc[freq_tap['frekuensi'].idxmax()]\n",
    "halte_max\n",
    "\n",
    "# 10 halte teramai \n",
    "top10_tapin = freq_tap.nlargest(10, 'frekuensi')\n",
    "\n",
    "top10_tapin\n"
   ]
  },
  {
   "cell_type": "code",
   "execution_count": 320,
   "metadata": {},
   "outputs": [
    {
     "data": {
      "text/html": [
       "<div>\n",
       "<style scoped>\n",
       "    .dataframe tbody tr th:only-of-type {\n",
       "        vertical-align: middle;\n",
       "    }\n",
       "\n",
       "    .dataframe tbody tr th {\n",
       "        vertical-align: top;\n",
       "    }\n",
       "\n",
       "    .dataframe thead th {\n",
       "        text-align: right;\n",
       "    }\n",
       "</style>\n",
       "<table border=\"1\" class=\"dataframe\">\n",
       "  <thead>\n",
       "    <tr style=\"text-align: right;\">\n",
       "      <th></th>\n",
       "      <th>tapOutStopsName</th>\n",
       "      <th>frekuensi</th>\n",
       "    </tr>\n",
       "  </thead>\n",
       "  <tbody>\n",
       "    <tr>\n",
       "      <th>42</th>\n",
       "      <td>BKN</td>\n",
       "      <td>316</td>\n",
       "    </tr>\n",
       "    <tr>\n",
       "      <th>1110</th>\n",
       "      <td>Penjaringan</td>\n",
       "      <td>265</td>\n",
       "    </tr>\n",
       "    <tr>\n",
       "      <th>2163</th>\n",
       "      <td>Term. Senen</td>\n",
       "      <td>196</td>\n",
       "    </tr>\n",
       "    <tr>\n",
       "      <th>1011</th>\n",
       "      <td>Monas</td>\n",
       "      <td>167</td>\n",
       "    </tr>\n",
       "    <tr>\n",
       "      <th>2154</th>\n",
       "      <td>Term. Kampung Rambutan</td>\n",
       "      <td>164</td>\n",
       "    </tr>\n",
       "    <tr>\n",
       "      <th>789</th>\n",
       "      <td>Kejaksaan Agung</td>\n",
       "      <td>159</td>\n",
       "    </tr>\n",
       "    <tr>\n",
       "      <th>1346</th>\n",
       "      <td>Ragunan</td>\n",
       "      <td>151</td>\n",
       "    </tr>\n",
       "    <tr>\n",
       "      <th>1154</th>\n",
       "      <td>Pinang Ranti</td>\n",
       "      <td>146</td>\n",
       "    </tr>\n",
       "    <tr>\n",
       "      <th>861</th>\n",
       "      <td>Kota Kasablanka</td>\n",
       "      <td>131</td>\n",
       "    </tr>\n",
       "    <tr>\n",
       "      <th>1174</th>\n",
       "      <td>Pluit</td>\n",
       "      <td>131</td>\n",
       "    </tr>\n",
       "  </tbody>\n",
       "</table>\n",
       "</div>"
      ],
      "text/plain": [
       "             tapOutStopsName  frekuensi\n",
       "42                       BKN        316\n",
       "1110             Penjaringan        265\n",
       "2163             Term. Senen        196\n",
       "1011                   Monas        167\n",
       "2154  Term. Kampung Rambutan        164\n",
       "789          Kejaksaan Agung        159\n",
       "1346                 Ragunan        151\n",
       "1154            Pinang Ranti        146\n",
       "861          Kota Kasablanka        131\n",
       "1174                   Pluit        131"
      ]
     },
     "execution_count": 320,
     "metadata": {},
     "output_type": "execute_result"
    }
   ],
   "source": [
    "freq_tap = df.groupby(['tapOutStopsName']).size().reset_index(name='frekuensi')\n",
    "halte_max = freq_tap.loc[freq_tap['frekuensi'].idxmax()]\n",
    "halte_max\n",
    "\n",
    "# 10 halte teramai berdasarkan tap in \n",
    "top10_tapout = freq_tap.nlargest(10, 'frekuensi')\n",
    "\n",
    "top10_tapout"
   ]
  },
  {
   "cell_type": "markdown",
   "metadata": {},
   "source": [
    "* Rute teramai"
   ]
  },
  {
   "cell_type": "code",
   "execution_count": 284,
   "metadata": {},
   "outputs": [
    {
     "data": {
      "text/plain": [
       "corridorName\n",
       "Cibubur - Balai Kota                           1462\n",
       "Ciputat - CSW                                   376\n",
       "Pulo Gadung - Monas                             333\n",
       "Harmoni - Jakarta International Stadium         333\n",
       "Kampung Rambutan - Pondok Gede                  327\n",
       "Kalideres - Bundaran HI via Veteran             323\n",
       "Rusun Pondok Bambu - Walikota Jakarta Timur     323\n",
       "Kebayoran Lama - Tanah Abang                    321\n",
       "Rusun Rawa Bebek - Kodamar                      307\n",
       "Pasar Minggu - Tanah Abang                      300\n",
       "Name: count, dtype: int64"
      ]
     },
     "execution_count": 284,
     "metadata": {},
     "output_type": "execute_result"
    }
   ],
   "source": [
    "top_routes = df['corridorName'].value_counts().head(10)\n",
    "top_routes"
   ]
  },
  {
   "cell_type": "markdown",
   "metadata": {},
   "source": [
    "* Rute dengan waktu perjalanan paling panjang"
   ]
  },
  {
   "cell_type": "code",
   "execution_count": 285,
   "metadata": {},
   "outputs": [
    {
     "data": {
      "text/plain": [
       "count                        36556\n",
       "mean     0 days 01:12:07.525440420\n",
       "std      0 days 00:28:04.374704833\n",
       "min                0 days 00:15:00\n",
       "25%                0 days 00:51:08\n",
       "50%                0 days 01:11:50\n",
       "75%                0 days 01:35:48\n",
       "max                0 days 02:59:03\n",
       "Name: WaktuPerjalanan, dtype: object"
      ]
     },
     "execution_count": 285,
     "metadata": {},
     "output_type": "execute_result"
    }
   ],
   "source": [
    "df['WaktuPerjalanan'] = df['tapOutTime'] - df['tapInTime']\n",
    "df['WaktuPerjalanan'].describe()"
   ]
  },
  {
   "cell_type": "code",
   "execution_count": 286,
   "metadata": {},
   "outputs": [
    {
     "name": "stdout",
     "output_type": "stream",
     "text": [
      "      corridorID                         corridorName WaktuPerjalanan  \\\n",
      "37616        10K  Tanjung Priok - Senen via Taman BMW 0 days 02:59:03   \n",
      "37878        D32            Cinere - Bundaran Senayan 0 days 02:59:03   \n",
      "37867     JAK.07     Tanah Abang - Grogol via Tawakal 0 days 02:58:58   \n",
      "37752         10                Tanjung Priok - PGC 2 0 days 02:58:48   \n",
      "37692        12F    Rusun Marunda - Rusun Waduk Pluit 0 days 02:58:39   \n",
      "\n",
      "                tapInTime          tapOutTime         payCardID  \n",
      "37616 2023-04-23 05:36:41 2023-04-23 08:35:44  6011718497540493  \n",
      "37878 2023-04-16 07:59:08 2023-04-16 10:58:11    36067042340502  \n",
      "37867 2023-04-03 14:50:57 2023-04-03 17:49:55  3570576233000275  \n",
      "37752 2023-04-08 06:35:18 2023-04-08 09:34:06   213165965158193  \n",
      "37692 2023-04-26 07:21:49 2023-04-26 10:20:28  3591646002078433  \n"
     ]
    }
   ],
   "source": [
    "import pandas as pd\n",
    "import seaborn as sns\n",
    "import matplotlib.pyplot as plt\n",
    "\n",
    "# Asumsikan Anda memiliki kolom 'WaktuPerjalanan', 'tapInStopsName', 'tapOutStopsName'\n",
    "# dari dataframe Anda.\n",
    "\n",
    "# Langkah 1: Hitung durasi perjalanan dalam menit\n",
    "df['Waktu Perjalanan_menit'] = df['WaktuPerjalanan'].dt.seconds / 60\n",
    "\n",
    "# Langkah 2: Analisis frekuensi lama perjalanan dan rute\n",
    "frekuensi_lama_perjalanan = pd.cut(df['Waktu Perjalanan_menit'], bins=[0, 30, 60, 90, 120, 150, float('inf')], labels=['0-30', '30-60', '60-90', '90-120', '120-150', '150+'])\n",
    "\n",
    "# Tambahkan kolom frekuensi lama perjalanan ke dataframe\n",
    "df['FrekuensiLamaPerjalanan'] = frekuensi_lama_perjalanan\n",
    "\n",
    "frekuensi_lama_perjalanan\n",
    "\n",
    "# Sort dataframe berdasarkan waktu perjalanan secara descending\n",
    "perjalanan_terlama = df.nlargest(5, 'WaktuPerjalanan')\n",
    "\n",
    "# Tampilkan hasil\n",
    "print(perjalanan_terlama[['corridorID', 'corridorName', 'WaktuPerjalanan', 'tapInTime','tapOutTime','payCardID']])\n"
   ]
  },
  {
   "cell_type": "markdown",
   "metadata": {},
   "source": [
    "### Dari analisis di atas diperoleh:\n",
    "* Halte teramai adalah Penjaringan dan BKN \n",
    "* Rute teramai adalah Cibubur - Balai Kota\n",
    "* Waktu perjalanan paling lama adalah hampir 3 jam yaitu rute paling lam adalah 10 K dan D 32 "
   ]
  },
  {
   "cell_type": "markdown",
   "metadata": {},
   "source": [
    "#### Apakah ada korelasi waktu perjalanan dengan koridor?"
   ]
  },
  {
   "cell_type": "code",
   "execution_count": 287,
   "metadata": {},
   "outputs": [
    {
     "name": "stdout",
     "output_type": "stream",
     "text": [
      "distribusi tidak normal\n"
     ]
    }
   ],
   "source": [
    "# cek distribusi kolom usia\n",
    "from scipy.stats import normaltest\n",
    "stats, pval=normaltest(df['Waktu Perjalanan_menit'])\n",
    "if pval<=0.05:\n",
    "    print('distribusi tidak normal') #Ha\n",
    "else: \n",
    "    print('distribusi normal') #Ho "
   ]
  },
  {
   "cell_type": "markdown",
   "metadata": {},
   "source": [
    "#### Karena distribusi tidakk normal dan data yang mau dianalisis adalah data kategorikal. Maka kita menggunakan korelasi spearman."
   ]
  },
  {
   "cell_type": "code",
   "execution_count": 288,
   "metadata": {},
   "outputs": [
    {
     "name": "stdout",
     "output_type": "stream",
     "text": [
      "                                   corridorName  korelasi\n",
      "0        Andara - Stasiun Universitas Pancasila  0.247695\n",
      "1                                  BKN - Blok M  0.233310\n",
      "2                                BSD - Jelambar  0.077738\n",
      "3                       BSD Serpong - Fatmawati  0.116752\n",
      "4                             Batusari - Grogol  0.193801\n",
      "..                                          ...       ...\n",
      "211        Terminal Rawamangun - Cipinang Muara -0.055667\n",
      "212          Terminal Tanah Merah - Pulo Gadung  0.236605\n",
      "213        Terminal Tanjung Priok - Ancol Barat  0.245983\n",
      "214  Tongtek - Tebet Eco Park (TEP) - Cililitan  0.172774\n",
      "215         Universitas Indonesia - Lebak Bulus  0.080003\n",
      "\n",
      "[216 rows x 2 columns]\n"
     ]
    }
   ],
   "source": [
    "from scipy.stats import spearmanr\n",
    "\n",
    "# Hitung Korelasi\n",
    "correlation_matrix = df.groupby('corridorName')['Waktu Perjalanan_menit'].apply(lambda x: spearmanr(x, x.index)[0]).reset_index()\n",
    "correlation_matrix.columns = ['corridorName', 'korelasi']\n",
    "\n",
    "# Tampilkan Matriks Korelasi\n",
    "print(correlation_matrix)\n"
   ]
  },
  {
   "cell_type": "code",
   "execution_count": 321,
   "metadata": {},
   "outputs": [
    {
     "name": "stdout",
     "output_type": "stream",
     "text": [
      "Korelasi Spearman untuk Pulo Gebang - Pulo Gadung 2 via PIK: 0.3051445065369773\n",
      "Nilai p untuk Pulo Gebang - Pulo Gadung 2 via PIK: 4.921915809528846e-06\n",
      "Korelasi untuk Pulo Gebang - Pulo Gadung 2 via PIK signifikan secara statistik\n",
      "--------------------------------------------------\n",
      "Korelasi Spearman untuk Kampung Rambutan - Ragunan: 0.11533926714017195\n",
      "Nilai p untuk Kampung Rambutan - Ragunan: 0.27359200497231956\n",
      "Tidak ada bukti signifikansi korelasi untuk Kampung Rambutan - Ragunan\n",
      "--------------------------------------------------\n",
      "Korelasi Spearman untuk Harmoni - Jakarta International Stadium: 0.135392486332336\n",
      "Nilai p untuk Harmoni - Jakarta International Stadium: 0.013406404248626925\n",
      "Korelasi untuk Harmoni - Jakarta International Stadium signifikan secara statistik\n",
      "--------------------------------------------------\n",
      "Korelasi Spearman untuk PGC - Juanda: 0.24563860500181064\n",
      "Nilai p untuk PGC - Juanda: 0.0001377873479942716\n",
      "Korelasi untuk PGC - Juanda signifikan secara statistik\n",
      "--------------------------------------------------\n",
      "Korelasi Spearman untuk Kampung Rambutan - Blok M: 0.47794117647058826\n",
      "Nilai p untuk Kampung Rambutan - Blok M: 0.05232854189081124\n",
      "Tidak ada bukti signifikansi korelasi untuk Kampung Rambutan - Blok M\n",
      "--------------------------------------------------\n",
      "Korelasi Spearman untuk Rusun Flamboyan - Cengkareng: 0.16952174896543107\n",
      "Nilai p untuk Rusun Flamboyan - Cengkareng: 0.02665087896904548\n",
      "Korelasi untuk Rusun Flamboyan - Cengkareng signifikan secara statistik\n",
      "--------------------------------------------------\n",
      "Korelasi Spearman untuk Ragunan - MH Thamrin via Kuningan: 0.18687931914771339\n",
      "Nilai p untuk Ragunan - MH Thamrin via Kuningan: 0.026493420390595355\n",
      "Korelasi untuk Ragunan - MH Thamrin via Kuningan signifikan secara statistik\n",
      "--------------------------------------------------\n",
      "Korelasi Spearman untuk Kalideres - Puri Kembangan: 0.2735436883419777\n",
      "Nilai p untuk Kalideres - Puri Kembangan: 1.1471480974009536e-05\n",
      "Korelasi untuk Kalideres - Puri Kembangan signifikan secara statistik\n",
      "--------------------------------------------------\n",
      "Korelasi Spearman untuk Rawamangun - Klender: 0.08097401580315305\n",
      "Nilai p untuk Rawamangun - Klender: 0.44035604010097207\n",
      "Tidak ada bukti signifikansi korelasi untuk Rawamangun - Klender\n",
      "--------------------------------------------------\n",
      "Korelasi Spearman untuk Jelambar - Juanda: 0.19759430071241096\n",
      "Nilai p untuk Jelambar - Juanda: 0.02656849700684365\n",
      "Korelasi untuk Jelambar - Juanda signifikan secara statistik\n",
      "--------------------------------------------------\n",
      "Korelasi Spearman untuk BSD Serpong - Fatmawati: 0.11675178753830441\n",
      "Nilai p untuk BSD Serpong - Fatmawati: 0.2758915939168437\n",
      "Tidak ada bukti signifikansi korelasi untuk BSD Serpong - Fatmawati\n",
      "--------------------------------------------------\n",
      "Korelasi Spearman untuk Kp. Rambutan - Kalisari: 0.21551212852694068\n",
      "Nilai p untuk Kp. Rambutan - Kalisari: 0.03801792706318823\n",
      "Korelasi untuk Kp. Rambutan - Kalisari signifikan secara statistik\n",
      "--------------------------------------------------\n",
      "Korelasi Spearman untuk Cawang UKI - Lubang Buaya: 0.23629748739111986\n",
      "Nilai p untuk Cawang UKI - Lubang Buaya: 0.00408618483513216\n",
      "Korelasi untuk Cawang UKI - Lubang Buaya signifikan secara statistik\n",
      "--------------------------------------------------\n",
      "Korelasi Spearman untuk Rusun Cipinang Muara - Jatinegara: 0.13123613700641037\n",
      "Nilai p untuk Rusun Cipinang Muara - Jatinegara: 0.12921197240465154\n",
      "Tidak ada bukti signifikansi korelasi untuk Rusun Cipinang Muara - Jatinegara\n",
      "--------------------------------------------------\n",
      "Korelasi Spearman untuk Ciputat - CSW: 0.06608931998946817\n",
      "Nilai p untuk Ciputat - CSW: 0.2010200261867811\n",
      "Tidak ada bukti signifikansi korelasi untuk Ciputat - CSW\n",
      "--------------------------------------------------\n",
      "Korelasi Spearman untuk Pasar Minggu - Jagakarsa: 0.10617858973277104\n",
      "Nilai p untuk Pasar Minggu - Jagakarsa: 0.15484784793622344\n",
      "Tidak ada bukti signifikansi korelasi untuk Pasar Minggu - Jagakarsa\n",
      "--------------------------------------------------\n",
      "Korelasi Spearman untuk Ragunan - MH Thamrin via Semanggi: 0.2248161777032683\n",
      "Nilai p untuk Ragunan - MH Thamrin via Semanggi: 0.007796474055198284\n",
      "Korelasi untuk Ragunan - MH Thamrin via Semanggi signifikan secara statistik\n",
      "--------------------------------------------------\n",
      "Korelasi Spearman untuk Pulo Gadung 2 - Dukuh Atas 2: 0.0977557441516167\n",
      "Nilai p untuk Pulo Gadung 2 - Dukuh Atas 2: 0.31880642959407257\n",
      "Tidak ada bukti signifikansi korelasi untuk Pulo Gadung 2 - Dukuh Atas 2\n",
      "--------------------------------------------------\n",
      "Korelasi Spearman untuk Puri Beta - Pancoran Barat: 0.12269586489163845\n",
      "Nilai p untuk Puri Beta - Pancoran Barat: 0.06321708847776882\n",
      "Tidak ada bukti signifikansi korelasi untuk Puri Beta - Pancoran Barat\n",
      "--------------------------------------------------\n",
      "Korelasi Spearman untuk Sunter Boulevard Barat - Penjaringan: 0.1931715286434844\n",
      "Nilai p untuk Sunter Boulevard Barat - Penjaringan: 0.06504904183330996\n",
      "Tidak ada bukti signifikansi korelasi untuk Sunter Boulevard Barat - Penjaringan\n",
      "--------------------------------------------------\n",
      "Korelasi Spearman untuk Matraman Baru - Ancol: 0.1442160308008142\n",
      "Nilai p untuk Matraman Baru - Ancol: 0.019998114314389664\n",
      "Korelasi untuk Matraman Baru - Ancol signifikan secara statistik\n",
      "--------------------------------------------------\n",
      "Korelasi Spearman untuk Bekasi Timur - Cawang: 0.17817698982643365\n",
      "Nilai p untuk Bekasi Timur - Cawang: 0.009160866031974843\n",
      "Korelasi untuk Bekasi Timur - Cawang signifikan secara statistik\n",
      "--------------------------------------------------\n",
      "Korelasi Spearman untuk Cinere - Bundaran Senayan: 0.138007598587847\n",
      "Nilai p untuk Cinere - Bundaran Senayan: 0.0701839789280425\n",
      "Tidak ada bukti signifikansi korelasi untuk Cinere - Bundaran Senayan\n",
      "--------------------------------------------------\n",
      "Korelasi Spearman untuk Tanah Abang - St. Gondangdia: 0.09184949900457463\n",
      "Nilai p untuk Tanah Abang - St. Gondangdia: 0.24065916629872688\n",
      "Tidak ada bukti signifikansi korelasi untuk Tanah Abang - St. Gondangdia\n",
      "--------------------------------------------------\n",
      "Korelasi Spearman untuk Tanah Abang - Meruya: 0.2975452893976994\n",
      "Nilai p untuk Tanah Abang - Meruya: 5.494722816018745e-05\n",
      "Korelasi untuk Tanah Abang - Meruya signifikan secara statistik\n",
      "--------------------------------------------------\n",
      "Korelasi Spearman untuk Tanah Abang - Kebayoran Lama: 0.1921842545993659\n",
      "Nilai p untuk Tanah Abang - Kebayoran Lama: 0.001308390657948498\n",
      "Korelasi untuk Tanah Abang - Kebayoran Lama signifikan secara statistik\n",
      "--------------------------------------------------\n",
      "Korelasi Spearman untuk Senen - Blok M: 0.19473945138993454\n",
      "Nilai p untuk Senen - Blok M: 0.002496071194636851\n",
      "Korelasi untuk Senen - Blok M signifikan secara statistik\n",
      "--------------------------------------------------\n",
      "Korelasi Spearman untuk Tongtek - Tebet Eco Park (TEP) - Cililitan: 0.17277435926403117\n",
      "Nilai p untuk Tongtek - Tebet Eco Park (TEP) - Cililitan: 0.027906998486639675\n",
      "Korelasi untuk Tongtek - Tebet Eco Park (TEP) - Cililitan signifikan secara statistik\n",
      "--------------------------------------------------\n",
      "Korelasi Spearman untuk Taman Kota - Budi Luhur: 0.15644492228800286\n",
      "Nilai p untuk Taman Kota - Budi Luhur: 0.04612138745486518\n",
      "Korelasi untuk Taman Kota - Budi Luhur signifikan secara statistik\n",
      "--------------------------------------------------\n",
      "Korelasi Spearman untuk Cibubur - Balai Kota: 0.21572543790144952\n",
      "Nilai p untuk Cibubur - Balai Kota: 7.439664553933283e-17\n",
      "Korelasi untuk Cibubur - Balai Kota signifikan secara statistik\n",
      "--------------------------------------------------\n",
      "Korelasi Spearman untuk Dukuh Atas - Casablanca via Epicentrum Raya: 0.26239569988251854\n",
      "Nilai p untuk Dukuh Atas - Casablanca via Epicentrum Raya: 0.0002647671581009045\n",
      "Korelasi untuk Dukuh Atas - Casablanca via Epicentrum Raya signifikan secara statistik\n",
      "--------------------------------------------------\n",
      "Korelasi Spearman untuk Blok M - Kota: 0.24795494993497172\n",
      "Nilai p untuk Blok M - Kota: 2.0784841600418183e-05\n",
      "Korelasi untuk Blok M - Kota signifikan secara statistik\n",
      "--------------------------------------------------\n",
      "Korelasi Spearman untuk Pancoran - Kampung Rambutan: 0.12915904852164747\n",
      "Nilai p untuk Pancoran - Kampung Rambutan: 0.10140811972113344\n",
      "Tidak ada bukti signifikansi korelasi untuk Pancoran - Kampung Rambutan\n",
      "--------------------------------------------------\n",
      "Korelasi Spearman untuk Terminal Tanah Merah - Pulo Gadung: 0.23660545002834052\n",
      "Nilai p untuk Terminal Tanah Merah - Pulo Gadung: 0.00012099079242490445\n",
      "Korelasi untuk Terminal Tanah Merah - Pulo Gadung signifikan secara statistik\n",
      "--------------------------------------------------\n",
      "Korelasi Spearman untuk Term. Rawamangun - Term. Manggarai: 0.06396636542939464\n",
      "Nilai p untuk Term. Rawamangun - Term. Manggarai: 0.38832840065561836\n",
      "Tidak ada bukti signifikansi korelasi untuk Term. Rawamangun - Term. Manggarai\n",
      "--------------------------------------------------\n",
      "Korelasi Spearman untuk Tanjung Priok - PGC 2: 0.16292567385876855\n",
      "Nilai p untuk Tanjung Priok - PGC 2: 0.10711704353787807\n",
      "Tidak ada bukti signifikansi korelasi untuk Tanjung Priok - PGC 2\n",
      "--------------------------------------------------\n",
      "Korelasi Spearman untuk Pasar Minggu - Tanah Abang: 0.23765129626009346\n",
      "Nilai p untuk Pasar Minggu - Tanah Abang: 3.19935370923023e-05\n",
      "Korelasi untuk Pasar Minggu - Tanah Abang signifikan secara statistik\n",
      "--------------------------------------------------\n",
      "Korelasi Spearman untuk Lebak Bulus - Petukangan: 0.11637104591024541\n",
      "Nilai p untuk Lebak Bulus - Petukangan: 0.12845242782156224\n",
      "Tidak ada bukti signifikansi korelasi untuk Lebak Bulus - Petukangan\n",
      "--------------------------------------------------\n",
      "Korelasi Spearman untuk Cililitan - Condet: 0.2126385235957509\n",
      "Nilai p untuk Cililitan - Condet: 0.002769812931708329\n",
      "Korelasi untuk Cililitan - Condet signifikan secara statistik\n",
      "--------------------------------------------------\n",
      "Korelasi Spearman untuk Andara - Stasiun Universitas Pancasila: 0.24769502087540893\n",
      "Nilai p untuk Andara - Stasiun Universitas Pancasila: 0.0001425745833824377\n",
      "Korelasi untuk Andara - Stasiun Universitas Pancasila signifikan secara statistik\n",
      "--------------------------------------------------\n",
      "Korelasi Spearman untuk Rawamangun - Duren Sawit: 0.1595914791743777\n",
      "Nilai p untuk Rawamangun - Duren Sawit: 0.0239890243603542\n",
      "Korelasi untuk Rawamangun - Duren Sawit signifikan secara statistik\n",
      "--------------------------------------------------\n",
      "Korelasi Spearman untuk Kalideres - Bundaran HI via Veteran: 0.27187596287509913\n",
      "Nilai p untuk Kalideres - Bundaran HI via Veteran: 7.012231872815482e-07\n",
      "Korelasi untuk Kalideres - Bundaran HI via Veteran signifikan secara statistik\n",
      "--------------------------------------------------\n",
      "Korelasi Spearman untuk Tanjung Priok - Jembatan Item: 0.27194140601133227\n",
      "Nilai p untuk Tanjung Priok - Jembatan Item: 0.00522890633342838\n",
      "Korelasi untuk Tanjung Priok - Jembatan Item signifikan secara statistik\n",
      "--------------------------------------------------\n",
      "Korelasi Spearman untuk Rusun Kapuk Muara - Penjaringan: 0.24135036273469232\n",
      "Nilai p untuk Rusun Kapuk Muara - Penjaringan: 0.0001757752568129087\n",
      "Korelasi untuk Rusun Kapuk Muara - Penjaringan signifikan secara statistik\n",
      "--------------------------------------------------\n",
      "Korelasi Spearman untuk Ragunan - MH Thamrin: 0.18289872956965347\n",
      "Nilai p untuk Ragunan - MH Thamrin: 0.15477341632523364\n",
      "Tidak ada bukti signifikansi korelasi untuk Ragunan - MH Thamrin\n",
      "--------------------------------------------------\n",
      "Korelasi Spearman untuk Kebayoran Lama - Tanah Abang: 0.19168181897757475\n",
      "Nilai p untuk Kebayoran Lama - Tanah Abang: 0.0005545189339561284\n",
      "Korelasi untuk Kebayoran Lama - Tanah Abang signifikan secara statistik\n",
      "--------------------------------------------------\n",
      "Korelasi Spearman untuk Senen - Lebak Bulus: 0.1655614501181305\n",
      "Nilai p untuk Senen - Lebak Bulus: 0.016853491310573634\n",
      "Korelasi untuk Senen - Lebak Bulus signifikan secara statistik\n",
      "--------------------------------------------------\n",
      "Korelasi Spearman untuk Kampung Rambutan - Pinang Ranti: 0.09723266697330332\n",
      "Nilai p untuk Kampung Rambutan - Pinang Ranti: 0.19792564343332125\n",
      "Tidak ada bukti signifikansi korelasi untuk Kampung Rambutan - Pinang Ranti\n",
      "--------------------------------------------------\n",
      "Korelasi Spearman untuk Bulak Turi - Tanjung Priok: 0.24051382611747607\n",
      "Nilai p untuk Bulak Turi - Tanjung Priok: 0.00037305805465920864\n",
      "Korelasi untuk Bulak Turi - Tanjung Priok signifikan secara statistik\n",
      "--------------------------------------------------\n",
      "Korelasi Spearman untuk Poris Plawad - Bundaran Senayan: 0.09237431866717316\n",
      "Nilai p untuk Poris Plawad - Bundaran Senayan: 0.14129132692509205\n",
      "Tidak ada bukti signifikansi korelasi untuk Poris Plawad - Bundaran Senayan\n",
      "--------------------------------------------------\n",
      "Korelasi Spearman untuk Rusun Cakung Barat - Pulo Gadung: 0.22641510914741372\n",
      "Nilai p untuk Rusun Cakung Barat - Pulo Gadung: 0.0013775475171348415\n",
      "Korelasi untuk Rusun Cakung Barat - Pulo Gadung signifikan secara statistik\n",
      "--------------------------------------------------\n",
      "Korelasi Spearman untuk Pulo Gebang - Matraman: 0.25990613416946723\n",
      "Nilai p untuk Pulo Gebang - Matraman: 0.00369451797856004\n",
      "Korelasi untuk Pulo Gebang - Matraman signifikan secara statistik\n",
      "--------------------------------------------------\n",
      "Korelasi Spearman untuk PGC 2 - Tanjung Priok: 0.18822139944698332\n",
      "Nilai p untuk PGC 2 - Tanjung Priok: 0.00270045440310128\n",
      "Korelasi untuk PGC 2 - Tanjung Priok signifikan secara statistik\n",
      "--------------------------------------------------\n",
      "Korelasi Spearman untuk Tanah Abang - Blok M: 0.1647669987765992\n",
      "Nilai p untuk Tanah Abang - Blok M: 0.22493556861848263\n",
      "Tidak ada bukti signifikansi korelasi untuk Tanah Abang - Blok M\n",
      "--------------------------------------------------\n",
      "Korelasi Spearman untuk Ragunan - Gelora Bung Karno: 0.22547124499817528\n",
      "Nilai p untuk Ragunan - Gelora Bung Karno: 0.0002760172745125461\n",
      "Korelasi untuk Ragunan - Gelora Bung Karno signifikan secara statistik\n",
      "--------------------------------------------------\n",
      "Korelasi Spearman untuk Stasiun Manggarai - Blok M: 0.01713467857706985\n",
      "Nilai p untuk Stasiun Manggarai - Blok M: 0.9030758618931117\n",
      "Tidak ada bukti signifikansi korelasi untuk Stasiun Manggarai - Blok M\n",
      "--------------------------------------------------\n",
      "Korelasi Spearman untuk PGC 1 - Ancol: 0.11897173765979606\n",
      "Nilai p untuk PGC 1 - Ancol: 0.14841785336567745\n",
      "Tidak ada bukti signifikansi korelasi untuk PGC 1 - Ancol\n",
      "--------------------------------------------------\n",
      "Korelasi Spearman untuk Bintaro - Blok M: 0.10647429740840932\n",
      "Nilai p untuk Bintaro - Blok M: 0.1708390389482396\n",
      "Tidak ada bukti signifikansi korelasi untuk Bintaro - Blok M\n",
      "--------------------------------------------------\n",
      "Korelasi Spearman untuk Lenteng Agung - Aseli: 0.2616239206739654\n",
      "Nilai p untuk Lenteng Agung - Aseli: 0.00023765756114947368\n",
      "Korelasi untuk Lenteng Agung - Aseli signifikan secara statistik\n",
      "--------------------------------------------------\n",
      "Korelasi Spearman untuk Lebak Bulus - Pasar Baru: 0.14537815126050424\n",
      "Nilai p untuk Lebak Bulus - Pasar Baru: 0.2333065524212387\n",
      "Tidak ada bukti signifikansi korelasi untuk Lebak Bulus - Pasar Baru\n",
      "--------------------------------------------------\n",
      "Korelasi Spearman untuk Lebak Bulus - Pasar Baru via Tomang: 0.11420491141828863\n",
      "Nilai p untuk Lebak Bulus - Pasar Baru via Tomang: 0.13347928551880978\n",
      "Tidak ada bukti signifikansi korelasi untuk Lebak Bulus - Pasar Baru via Tomang\n",
      "--------------------------------------------------\n",
      "Korelasi Spearman untuk Pulo Gadung - Monas: 0.1327609511398074\n",
      "Nilai p untuk Pulo Gadung - Monas: 0.015338323755253019\n",
      "Korelasi untuk Pulo Gadung - Monas signifikan secara statistik\n",
      "--------------------------------------------------\n",
      "Korelasi Spearman untuk BKN - Blok M: 0.23330951792542118\n",
      "Nilai p untuk BKN - Blok M: 4.626015401748097e-05\n",
      "Korelasi untuk BKN - Blok M signifikan secara statistik\n",
      "--------------------------------------------------\n",
      "Korelasi Spearman untuk Terminal Kalideres - Terminal Muara Angke: 0.4111261872455903\n",
      "Nilai p untuk Terminal Kalideres - Terminal Muara Angke: 0.0005481480503863061\n",
      "Korelasi untuk Terminal Kalideres - Terminal Muara Angke signifikan secara statistik\n",
      "--------------------------------------------------\n",
      "Korelasi Spearman untuk Kalimalang - Duren Sawit: 0.10540266662228577\n",
      "Nilai p untuk Kalimalang - Duren Sawit: 0.1224883107111352\n",
      "Tidak ada bukti signifikansi korelasi untuk Kalimalang - Duren Sawit\n",
      "--------------------------------------------------\n",
      "Korelasi Spearman untuk Stasiun Manggarai - UI: 0.14661388457431887\n",
      "Nilai p untuk Stasiun Manggarai - UI: 0.05715460802300015\n",
      "Tidak ada bukti signifikansi korelasi untuk Stasiun Manggarai - UI\n",
      "--------------------------------------------------\n",
      "Korelasi Spearman untuk Stasiun Tebet - Rusun Karet Tengsin: 0.2973057023380174\n",
      "Nilai p untuk Stasiun Tebet - Rusun Karet Tengsin: 2.755713535742447e-06\n",
      "Korelasi untuk Stasiun Tebet - Rusun Karet Tengsin signifikan secara statistik\n",
      "--------------------------------------------------\n",
      "Korelasi Spearman untuk Bintara - Cipinang Indah: 0.1857167733337981\n",
      "Nilai p untuk Bintara - Cipinang Indah: 0.030411550487310385\n",
      "Korelasi untuk Bintara - Cipinang Indah signifikan secara statistik\n",
      "--------------------------------------------------\n",
      "Korelasi Spearman untuk Jambore Cibubur - Pasar Rebo: 0.29736536226268895\n",
      "Nilai p untuk Jambore Cibubur - Pasar Rebo: 0.004899105650401544\n",
      "Korelasi untuk Jambore Cibubur - Pasar Rebo signifikan secara statistik\n",
      "--------------------------------------------------\n",
      "Korelasi Spearman untuk Kampung Melayu - Tanah Abang via Cikini: 0.19771337971405295\n",
      "Nilai p untuk Kampung Melayu - Tanah Abang via Cikini: 0.010910690966987949\n",
      "Korelasi untuk Kampung Melayu - Tanah Abang via Cikini signifikan secara statistik\n",
      "--------------------------------------------------\n",
      "Korelasi Spearman untuk Pasar Minggu - Velbak: 0.21640104977093397\n",
      "Nilai p untuk Pasar Minggu - Velbak: 0.006660892095991883\n",
      "Korelasi untuk Pasar Minggu - Velbak signifikan secara statistik\n",
      "--------------------------------------------------\n",
      "Korelasi Spearman untuk Rusun Rawa Bebek - Bukit Duri: 0.1336131681592845\n",
      "Nilai p untuk Rusun Rawa Bebek - Bukit Duri: 0.09314392988020558\n",
      "Tidak ada bukti signifikansi korelasi untuk Rusun Rawa Bebek - Bukit Duri\n",
      "--------------------------------------------------\n",
      "Korelasi Spearman untuk Cilangkap - Cililitan: 0.21640323538200068\n",
      "Nilai p untuk Cilangkap - Cililitan: 0.0021975207892251463\n",
      "Korelasi untuk Cilangkap - Cililitan signifikan secara statistik\n",
      "--------------------------------------------------\n",
      "Korelasi Spearman untuk Kampung Rambutan - Pondok Gede: 0.23382381494596957\n",
      "Nilai p untuk Kampung Rambutan - Pondok Gede: 1.942185822565689e-05\n",
      "Korelasi untuk Kampung Rambutan - Pondok Gede signifikan secara statistik\n",
      "--------------------------------------------------\n",
      "Korelasi Spearman untuk Roxy - Benhil: 0.23626202791358575\n",
      "Nilai p untuk Roxy - Benhil: 0.00025779693241096774\n",
      "Korelasi untuk Roxy - Benhil signifikan secara statistik\n",
      "--------------------------------------------------\n",
      "Korelasi Spearman untuk Kampung Melayu - Pondok Kelapa: 0.25374310164464287\n",
      "Nilai p untuk Kampung Melayu - Pondok Kelapa: 1.6109832472526305e-05\n",
      "Korelasi untuk Kampung Melayu - Pondok Kelapa signifikan secara statistik\n",
      "--------------------------------------------------\n",
      "Korelasi Spearman untuk Kampung Melayu - Pulo Gebang via BKT: 0.13896126616186352\n",
      "Nilai p untuk Kampung Melayu - Pulo Gebang via BKT: 0.018301875440449034\n",
      "Korelasi untuk Kampung Melayu - Pulo Gebang via BKT signifikan secara statistik\n",
      "--------------------------------------------------\n",
      "Korelasi Spearman untuk Cililitan - Condet via Kayu Manis: 0.03388025465782275\n",
      "Nilai p untuk Cililitan - Condet via Kayu Manis: 0.6534581213234946\n",
      "Tidak ada bukti signifikansi korelasi untuk Cililitan - Condet via Kayu Manis\n",
      "--------------------------------------------------\n",
      "Korelasi Spearman untuk Kampung Rambutan - Tanjung Priok: 0.2353864927145569\n",
      "Nilai p untuk Kampung Rambutan - Tanjung Priok: 0.002732756359583254\n",
      "Korelasi untuk Kampung Rambutan - Tanjung Priok signifikan secara statistik\n",
      "--------------------------------------------------\n",
      "Korelasi Spearman untuk Pasar Minggu - Ciganjur via KB Ragunan: 0.218494937897923\n",
      "Nilai p untuk Pasar Minggu - Ciganjur via KB Ragunan: 0.07798329138273832\n",
      "Tidak ada bukti signifikansi korelasi untuk Pasar Minggu - Ciganjur via KB Ragunan\n",
      "--------------------------------------------------\n",
      "Korelasi Spearman untuk Pulo Gebang - Rorotan: 0.16839954807956523\n",
      "Nilai p untuk Pulo Gebang - Rorotan: 0.005111949855371382\n",
      "Korelasi untuk Pulo Gebang - Rorotan signifikan secara statistik\n",
      "--------------------------------------------------\n",
      "Korelasi Spearman untuk Stasiun Tebet - BNN: 0.193031923614586\n",
      "Nilai p untuk Stasiun Tebet - BNN: 0.15025203423734343\n",
      "Tidak ada bukti signifikansi korelasi untuk Stasiun Tebet - BNN\n",
      "--------------------------------------------------\n",
      "Korelasi Spearman untuk Harapan Indah - ASMI: 0.18064375517513778\n",
      "Nilai p untuk Harapan Indah - ASMI: 0.00792623697362805\n",
      "Korelasi untuk Harapan Indah - ASMI signifikan secara statistik\n",
      "--------------------------------------------------\n",
      "Korelasi Spearman untuk Cibubur - BKN: 0.1827785488534025\n",
      "Nilai p untuk Cibubur - BKN: 0.013523809885944232\n",
      "Korelasi untuk Cibubur - BKN signifikan secara statistik\n",
      "--------------------------------------------------\n",
      "Korelasi Spearman untuk Tanjung Priok - Plumpang: 0.18255850139290655\n",
      "Nilai p untuk Tanjung Priok - Plumpang: 0.02966643243730065\n",
      "Korelasi untuk Tanjung Priok - Plumpang signifikan secara statistik\n",
      "--------------------------------------------------\n",
      "Korelasi Spearman untuk Kebayoran Lama - Jelambar: 0.1684838464632021\n",
      "Nilai p untuk Kebayoran Lama - Jelambar: 0.04740600163342549\n",
      "Korelasi untuk Kebayoran Lama - Jelambar signifikan secara statistik\n",
      "--------------------------------------------------\n",
      "Korelasi Spearman untuk Stasiun Palmerah - Bundaran Senayan: 0.21457152199333857\n",
      "Nilai p untuk Stasiun Palmerah - Bundaran Senayan: 0.00595053967143965\n",
      "Korelasi untuk Stasiun Palmerah - Bundaran Senayan signifikan secara statistik\n",
      "--------------------------------------------------\n",
      "Korelasi Spearman untuk Rawa Buaya - Rawa Kompeni: 0.2727180758456759\n",
      "Nilai p untuk Rawa Buaya - Rawa Kompeni: 0.0157060435486944\n",
      "Korelasi untuk Rawa Buaya - Rawa Kompeni signifikan secara statistik\n",
      "--------------------------------------------------\n",
      "Korelasi Spearman untuk Cililitan - Kp. Pulo: 0.16708638579794113\n",
      "Nilai p untuk Cililitan - Kp. Pulo: 0.04766714871173713\n",
      "Korelasi untuk Cililitan - Kp. Pulo signifikan secara statistik\n",
      "--------------------------------------------------\n",
      "Korelasi Spearman untuk Stasiun Tebet - Karet via Patra Kuningan: 0.29342604369098696\n",
      "Nilai p untuk Stasiun Tebet - Karet via Patra Kuningan: 4.8103359779705326e-05\n",
      "Korelasi untuk Stasiun Tebet - Karet via Patra Kuningan signifikan secara statistik\n",
      "--------------------------------------------------\n",
      "Korelasi Spearman untuk Senen - Pulo Gadung: 0.21053688750598024\n",
      "Nilai p untuk Senen - Pulo Gadung: 0.02211522740130185\n",
      "Korelasi untuk Senen - Pulo Gadung signifikan secara statistik\n",
      "--------------------------------------------------\n",
      "Korelasi Spearman untuk Pluit - Senen: 0.15739056226573722\n",
      "Nilai p untuk Pluit - Senen: 0.07839347518886294\n",
      "Tidak ada bukti signifikansi korelasi untuk Pluit - Senen\n",
      "--------------------------------------------------\n",
      "Korelasi Spearman untuk Kampung Melayu - Duren Sawit: 0.20287401868594895\n",
      "Nilai p untuk Kampung Melayu - Duren Sawit: 0.0030038317922741913\n",
      "Korelasi untuk Kampung Melayu - Duren Sawit signifikan secara statistik\n",
      "--------------------------------------------------\n",
      "Korelasi Spearman untuk Kampung Rambutan - Monas: 0.2341288202587332\n",
      "Nilai p untuk Kampung Rambutan - Monas: 0.003810432273457797\n",
      "Korelasi untuk Kampung Rambutan - Monas signifikan secara statistik\n",
      "--------------------------------------------------\n",
      "Korelasi Spearman untuk Ragunan - Blok M via Kemang: 0.29300832206102095\n",
      "Nilai p untuk Ragunan - Blok M via Kemang: 3.600289207221196e-07\n",
      "Korelasi untuk Ragunan - Blok M via Kemang signifikan secara statistik\n",
      "--------------------------------------------------\n",
      "Korelasi Spearman untuk Palem Semi - Bundaran Senayan: 0.30201128441261343\n",
      "Nilai p untuk Palem Semi - Bundaran Senayan: 4.6288470693417654e-05\n",
      "Korelasi untuk Palem Semi - Bundaran Senayan signifikan secara statistik\n",
      "--------------------------------------------------\n",
      "Korelasi Spearman untuk Ciledug - Tendean: 0.22171050604453493\n",
      "Nilai p untuk Ciledug - Tendean: 0.0006020423318348503\n",
      "Korelasi untuk Ciledug - Tendean signifikan secara statistik\n",
      "--------------------------------------------------\n",
      "Korelasi Spearman untuk Pantai Maju - Kota: 0.25210915068990203\n",
      "Nilai p untuk Pantai Maju - Kota: 0.0003642636532871945\n",
      "Korelasi untuk Pantai Maju - Kota signifikan secara statistik\n",
      "--------------------------------------------------\n",
      "Korelasi Spearman untuk Blok M - Pasar Minggu: 0.19485571619431136\n",
      "Nilai p untuk Blok M - Pasar Minggu: 0.01884291540757977\n",
      "Korelasi untuk Blok M - Pasar Minggu signifikan secara statistik\n",
      "--------------------------------------------------\n",
      "Korelasi Spearman untuk Rusun Rawa Bebek - Kodamar: 0.2245601549369579\n",
      "Nilai p untuk Rusun Rawa Bebek - Kodamar: 7.206204717016032e-05\n",
      "Korelasi untuk Rusun Rawa Bebek - Kodamar signifikan secara statistik\n",
      "--------------------------------------------------\n",
      "Korelasi Spearman untuk Rusun Tambora - Pluit: 0.022364954924985154\n",
      "Nilai p untuk Rusun Tambora - Pluit: 0.8409414139042006\n",
      "Tidak ada bukti signifikansi korelasi untuk Rusun Tambora - Pluit\n",
      "--------------------------------------------------\n",
      "Korelasi Spearman untuk Pinang Ranti - Pramuka: 0.19505446391914016\n",
      "Nilai p untuk Pinang Ranti - Pramuka: 0.0024037520149017386\n",
      "Korelasi untuk Pinang Ranti - Pramuka signifikan secara statistik\n",
      "--------------------------------------------------\n",
      "Korelasi Spearman untuk Lebak Bulus - Cipulir: 0.11788797411066977\n",
      "Nilai p untuk Lebak Bulus - Cipulir: 0.06828217233834463\n",
      "Tidak ada bukti signifikansi korelasi untuk Lebak Bulus - Cipulir\n",
      "--------------------------------------------------\n",
      "Korelasi Spearman untuk Terminal Tanjung Priok - Ancol Barat: 0.24598302204806535\n",
      "Nilai p untuk Terminal Tanjung Priok - Ancol Barat: 0.0007893023408707578\n",
      "Korelasi untuk Terminal Tanjung Priok - Ancol Barat signifikan secara statistik\n",
      "--------------------------------------------------\n",
      "Korelasi Spearman untuk PGC 2 - Grogol 2: 0.2078876237186389\n",
      "Nilai p untuk PGC 2 - Grogol 2: 0.002780254854059867\n",
      "Korelasi untuk PGC 2 - Grogol 2 signifikan secara statistik\n",
      "--------------------------------------------------\n",
      "Korelasi Spearman untuk Tanah Abang - Grogol via Tawakal: 0.14862101377982675\n",
      "Nilai p untuk Tanah Abang - Grogol via Tawakal: 0.02823928822747964\n",
      "Korelasi untuk Tanah Abang - Grogol via Tawakal signifikan secara statistik\n",
      "--------------------------------------------------\n",
      "Korelasi Spearman untuk Summarecon Bekasi - BNN: 0.32281998004899537\n",
      "Nilai p untuk Summarecon Bekasi - BNN: 0.000408793628866339\n",
      "Korelasi untuk Summarecon Bekasi - BNN signifikan secara statistik\n",
      "--------------------------------------------------\n",
      "Korelasi Spearman untuk Rempoa - Blok M: 0.05753884839665726\n",
      "Nilai p untuk Rempoa - Blok M: 0.46152091725779587\n",
      "Tidak ada bukti signifikansi korelasi untuk Rempoa - Blok M\n",
      "--------------------------------------------------\n",
      "Korelasi Spearman untuk Pulo Gadung 2 - Tosari: 0.12616687024959417\n",
      "Nilai p untuk Pulo Gadung 2 - Tosari: 0.08200460913446085\n",
      "Tidak ada bukti signifikansi korelasi untuk Pulo Gadung 2 - Tosari\n",
      "--------------------------------------------------\n",
      "Korelasi Spearman untuk Pinang Ranti - Kampung Rambutan: 0.034605999945917953\n",
      "Nilai p untuk Pinang Ranti - Kampung Rambutan: 0.6474713507915528\n",
      "Tidak ada bukti signifikansi korelasi untuk Pinang Ranti - Kampung Rambutan\n",
      "--------------------------------------------------\n",
      "Korelasi Spearman untuk Puri Beta - Dukuh Atas: 0.15647941793451123\n",
      "Nilai p untuk Puri Beta - Dukuh Atas: 0.07542400934262748\n",
      "Tidak ada bukti signifikansi korelasi untuk Puri Beta - Dukuh Atas\n",
      "--------------------------------------------------\n",
      "Korelasi Spearman untuk Blok M - Universitas Indonesia: 0.2975525976814083\n",
      "Nilai p untuk Blok M - Universitas Indonesia: 0.00043476059873135835\n",
      "Korelasi untuk Blok M - Universitas Indonesia signifikan secara statistik\n",
      "--------------------------------------------------\n",
      "Korelasi Spearman untuk Jakarta International Stadium - Senen: 0.15752310338905726\n",
      "Nilai p untuk Jakarta International Stadium - Senen: 0.023065673549591693\n",
      "Korelasi untuk Jakarta International Stadium - Senen signifikan secara statistik\n",
      "--------------------------------------------------\n",
      "Korelasi Spearman untuk Lebak Bulus - Ragunan: 0.19315367044615853\n",
      "Nilai p untuk Lebak Bulus - Ragunan: 0.0212743353529507\n",
      "Korelasi untuk Lebak Bulus - Ragunan signifikan secara statistik\n",
      "--------------------------------------------------\n",
      "Korelasi Spearman untuk Pesanggrahan - Blok M: 0.18394157293239863\n",
      "Nilai p untuk Pesanggrahan - Blok M: 0.05440418283742906\n",
      "Tidak ada bukti signifikansi korelasi untuk Pesanggrahan - Blok M\n",
      "--------------------------------------------------\n",
      "Korelasi Spearman untuk Rusun Marunda - Terminal Terpadu Pulo Gebang: 0.24088502051170213\n",
      "Nilai p untuk Rusun Marunda - Terminal Terpadu Pulo Gebang: 0.002452101923096724\n",
      "Korelasi untuk Rusun Marunda - Terminal Terpadu Pulo Gebang signifikan secara statistik\n",
      "--------------------------------------------------\n",
      "Korelasi Spearman untuk Puri Beta 2 - Tendean: 0.026263811972147107\n",
      "Nilai p untuk Puri Beta 2 - Tendean: 0.683113922088916\n",
      "Tidak ada bukti signifikansi korelasi untuk Puri Beta 2 - Tendean\n",
      "--------------------------------------------------\n",
      "Korelasi Spearman untuk Bekasi Barat - Kuningan: 0.17703181049723488\n",
      "Nilai p untuk Bekasi Barat - Kuningan: 0.008649390645220629\n",
      "Korelasi untuk Bekasi Barat - Kuningan signifikan secara statistik\n",
      "--------------------------------------------------\n",
      "Korelasi Spearman untuk Tanjung Priok - Senen via Taman BMW: 0.280542291205616\n",
      "Nilai p untuk Tanjung Priok - Senen via Taman BMW: 0.0009816312416413536\n",
      "Korelasi untuk Tanjung Priok - Senen via Taman BMW signifikan secara statistik\n",
      "--------------------------------------------------\n",
      "Korelasi Spearman untuk Pulo Gebang - Pulo Gadung 2: 0.16508933552257063\n",
      "Nilai p untuk Pulo Gebang - Pulo Gadung 2: 0.06803470633749727\n",
      "Tidak ada bukti signifikansi korelasi untuk Pulo Gebang - Pulo Gadung 2\n",
      "--------------------------------------------------\n",
      "Korelasi Spearman untuk Rusun Cipinang Besar Selatan - Penas Kalimalang: 0.14455241579902287\n",
      "Nilai p untuk Rusun Cipinang Besar Selatan - Penas Kalimalang: 0.10217160121792743\n",
      "Tidak ada bukti signifikansi korelasi untuk Rusun Cipinang Besar Selatan - Penas Kalimalang\n",
      "--------------------------------------------------\n",
      "Korelasi Spearman untuk Jelambar - Kota: 0.3202856668639276\n",
      "Nilai p untuk Jelambar - Kota: 0.0022141765907312157\n",
      "Korelasi untuk Jelambar - Kota signifikan secara statistik\n",
      "--------------------------------------------------\n",
      "Korelasi Spearman untuk Dwikora - Penas Kalimalang: 0.15709182066221936\n",
      "Nilai p untuk Dwikora - Penas Kalimalang: 0.06476967463715981\n",
      "Tidak ada bukti signifikansi korelasi untuk Dwikora - Penas Kalimalang\n",
      "--------------------------------------------------\n",
      "Korelasi Spearman untuk Kelapa Gading - Rusun Kemayoran: 0.026417634305318724\n",
      "Nilai p untuk Kelapa Gading - Rusun Kemayoran: 0.7055435607538398\n",
      "Tidak ada bukti signifikansi korelasi untuk Kelapa Gading - Rusun Kemayoran\n",
      "--------------------------------------------------\n",
      "Korelasi Spearman untuk Kampung Melayu - Ragunan: 0.1159360297095937\n",
      "Nilai p untuk Kampung Melayu - Ragunan: 0.1960895858121115\n",
      "Tidak ada bukti signifikansi korelasi untuk Kampung Melayu - Ragunan\n",
      "--------------------------------------------------\n",
      "Korelasi Spearman untuk Puri Beta - Kuningan (Express): 0.13879081687347078\n",
      "Nilai p untuk Puri Beta - Kuningan (Express): 0.05237450782522319\n",
      "Tidak ada bukti signifikansi korelasi untuk Puri Beta - Kuningan (Express)\n",
      "--------------------------------------------------\n",
      "Korelasi Spearman untuk Blok M - Andara: 0.17316905270328453\n",
      "Nilai p untuk Blok M - Andara: 0.04300768643586074\n",
      "Korelasi untuk Blok M - Andara signifikan secara statistik\n",
      "--------------------------------------------------\n",
      "Korelasi Spearman untuk Rusun Pondok Bambu - Walikota Jakarta Timur: 0.20661228172214055\n",
      "Nilai p untuk Rusun Pondok Bambu - Walikota Jakarta Timur: 0.00018452825848033766\n",
      "Korelasi untuk Rusun Pondok Bambu - Walikota Jakarta Timur signifikan secara statistik\n",
      "--------------------------------------------------\n",
      "Korelasi Spearman untuk Pondok Kelapa - BKN: 0.06585528030273521\n",
      "Nilai p untuk Pondok Kelapa - BKN: 0.6600807226860665\n",
      "Tidak ada bukti signifikansi korelasi untuk Pondok Kelapa - BKN\n",
      "--------------------------------------------------\n",
      "Korelasi Spearman untuk Grogol - Meruya via Roxy: 0.1788604825043683\n",
      "Nilai p untuk Grogol - Meruya via Roxy: 0.01148258445320257\n",
      "Korelasi untuk Grogol - Meruya via Roxy signifikan secara statistik\n",
      "--------------------------------------------------\n",
      "Korelasi Spearman untuk Rusun Jatinegara Kaum - Pulo Gadung: 0.28256272363554147\n",
      "Nilai p untuk Rusun Jatinegara Kaum - Pulo Gadung: 0.0007510473663481591\n",
      "Korelasi untuk Rusun Jatinegara Kaum - Pulo Gadung signifikan secara statistik\n",
      "--------------------------------------------------\n",
      "Korelasi Spearman untuk Ragunan - Dukuh Atas 2: 0.027041693621312805\n",
      "Nilai p untuk Ragunan - Dukuh Atas 2: 0.6913357411361314\n",
      "Tidak ada bukti signifikansi korelasi untuk Ragunan - Dukuh Atas 2\n",
      "--------------------------------------------------\n",
      "Korelasi Spearman untuk Rusun Komarudin - Penggilingan: 0.16113502981130598\n",
      "Nilai p untuk Rusun Komarudin - Penggilingan: 0.05996271525308615\n",
      "Tidak ada bukti signifikansi korelasi untuk Rusun Komarudin - Penggilingan\n",
      "--------------------------------------------------\n",
      "Korelasi Spearman untuk Bintaro - Fatmawati: 0.2542048128400687\n",
      "Nilai p untuk Bintaro - Fatmawati: 0.002032886753001623\n",
      "Korelasi untuk Bintaro - Fatmawati signifikan secara statistik\n",
      "--------------------------------------------------\n",
      "Korelasi Spearman untuk Pulo Gadung - Rawa Buaya via Balai Kota: 0.14033859544766178\n",
      "Nilai p untuk Pulo Gadung - Rawa Buaya via Balai Kota: 0.10190746879457575\n",
      "Tidak ada bukti signifikansi korelasi untuk Pulo Gadung - Rawa Buaya via Balai Kota\n",
      "--------------------------------------------------\n",
      "Korelasi Spearman untuk Kampung Melayu - Tanah Abang: 0.22117031583498065\n",
      "Nilai p untuk Kampung Melayu - Tanah Abang: 0.0017884170427611187\n",
      "Korelasi untuk Kampung Melayu - Tanah Abang signifikan secara statistik\n",
      "--------------------------------------------------\n",
      "Korelasi Spearman untuk Stasiun Tebet - Kampung Melayu: 0.20681377117339247\n",
      "Nilai p untuk Stasiun Tebet - Kampung Melayu: 0.01166921665799918\n",
      "Korelasi untuk Stasiun Tebet - Kampung Melayu signifikan secara statistik\n",
      "--------------------------------------------------\n",
      "Korelasi Spearman untuk Pelabuhan Kaliadem - Kota: 0.14458645280654178\n",
      "Nilai p untuk Pelabuhan Kaliadem - Kota: 0.054158861628309386\n",
      "Tidak ada bukti signifikansi korelasi untuk Pelabuhan Kaliadem - Kota\n",
      "--------------------------------------------------\n",
      "Korelasi Spearman untuk Kalibata - Kuningan: 0.1753630656040618\n",
      "Nilai p untuk Kalibata - Kuningan: 0.008095114738313518\n",
      "Korelasi untuk Kalibata - Kuningan signifikan secara statistik\n",
      "--------------------------------------------------\n",
      "Korelasi Spearman untuk Blok M - PGC: 0.13493113218270972\n",
      "Nilai p untuk Blok M - PGC: 0.14005319785834916\n",
      "Tidak ada bukti signifikansi korelasi untuk Blok M - PGC\n",
      "--------------------------------------------------\n",
      "Korelasi Spearman untuk Grogol - Tubagus Angke: 0.16900956658676208\n",
      "Nilai p untuk Grogol - Tubagus Angke: 0.1198011056641764\n",
      "Tidak ada bukti signifikansi korelasi untuk Grogol - Tubagus Angke\n",
      "--------------------------------------------------\n",
      "Korelasi Spearman untuk Rusun Penjaringan - Penjaringan: -0.01622770489185785\n",
      "Nilai p untuk Rusun Penjaringan - Penjaringan: 0.8518112658735582\n",
      "Tidak ada bukti signifikansi korelasi untuk Rusun Penjaringan - Penjaringan\n",
      "--------------------------------------------------\n",
      "Korelasi Spearman untuk Stasiun Tebet - Karet via Underpass: 0.23775758304759795\n",
      "Nilai p untuk Stasiun Tebet - Karet via Underpass: 0.0004802490539306587\n",
      "Korelasi untuk Stasiun Tebet - Karet via Underpass signifikan secara statistik\n",
      "--------------------------------------------------\n",
      "Korelasi Spearman untuk Tanjung Priok - Pluit: 0.1448526048885215\n",
      "Nilai p untuk Tanjung Priok - Pluit: 0.02196697339491274\n",
      "Korelasi untuk Tanjung Priok - Pluit signifikan secara statistik\n",
      "--------------------------------------------------\n",
      "Korelasi Spearman untuk Lebak Bulus - Andara: 0.0786343574703152\n",
      "Nilai p untuk Lebak Bulus - Andara: 0.3023626166566853\n",
      "Tidak ada bukti signifikansi korelasi untuk Lebak Bulus - Andara\n",
      "--------------------------------------------------\n",
      "Korelasi Spearman untuk Term. Tj. Priok - Pegangsaan II IGI: 0.22915710243954518\n",
      "Nilai p untuk Term. Tj. Priok - Pegangsaan II IGI: 0.008467994394722622\n",
      "Korelasi untuk Term. Tj. Priok - Pegangsaan II IGI signifikan secara statistik\n",
      "--------------------------------------------------\n",
      "Korelasi Spearman untuk Gondangdia - Senen: 0.08637430121638184\n",
      "Nilai p untuk Gondangdia - Senen: 0.16659550039515011\n",
      "Tidak ada bukti signifikansi korelasi untuk Gondangdia - Senen\n",
      "--------------------------------------------------\n",
      "Korelasi Spearman untuk Tanah Abang - Jembatan Lima: 0.1223106274803473\n",
      "Nilai p untuk Tanah Abang - Jembatan Lima: 0.10385542514193882\n",
      "Tidak ada bukti signifikansi korelasi untuk Tanah Abang - Jembatan Lima\n",
      "--------------------------------------------------\n",
      "Korelasi Spearman untuk Terminal Rawamangun - Cipinang Muara: -0.05566721676297431\n",
      "Nilai p untuk Terminal Rawamangun - Cipinang Muara: 0.4313519453824505\n",
      "Tidak ada bukti signifikansi korelasi untuk Terminal Rawamangun - Cipinang Muara\n",
      "--------------------------------------------------\n",
      "Korelasi Spearman untuk Universitas Indonesia - Lebak Bulus: 0.08000267498682541\n",
      "Nilai p untuk Universitas Indonesia - Lebak Bulus: 0.2857086505408908\n",
      "Tidak ada bukti signifikansi korelasi untuk Universitas Indonesia - Lebak Bulus\n",
      "--------------------------------------------------\n",
      "Korelasi Spearman untuk Puri Kembangan - Sentraland Cengkareng: -0.10868460574999295\n",
      "Nilai p untuk Puri Kembangan - Sentraland Cengkareng: 0.33413280274478185\n",
      "Tidak ada bukti signifikansi korelasi untuk Puri Kembangan - Sentraland Cengkareng\n",
      "--------------------------------------------------\n",
      "Korelasi Spearman untuk Cililitan - Dwikora: 0.2751253217721175\n",
      "Nilai p untuk Cililitan - Dwikora: 0.0022571341089457357\n",
      "Korelasi untuk Cililitan - Dwikora signifikan secara statistik\n",
      "--------------------------------------------------\n",
      "Korelasi Spearman untuk Tanah Abang - Stasiun Gondangdia: 0.03620923757667514\n",
      "Nilai p untuk Tanah Abang - Stasiun Gondangdia: 0.7033852716719162\n",
      "Tidak ada bukti signifikansi korelasi untuk Tanah Abang - Stasiun Gondangdia\n",
      "--------------------------------------------------\n",
      "Korelasi Spearman untuk Tanjung Priok - Tanah Merdeka: 0.14113611329661682\n",
      "Nilai p untuk Tanjung Priok - Tanah Merdeka: 0.11792434703220171\n",
      "Tidak ada bukti signifikansi korelasi untuk Tanjung Priok - Tanah Merdeka\n",
      "--------------------------------------------------\n",
      "Korelasi Spearman untuk Meruya - Blok M: 0.04701016244810207\n",
      "Nilai p untuk Meruya - Blok M: 0.5882118899429261\n",
      "Tidak ada bukti signifikansi korelasi untuk Meruya - Blok M\n",
      "--------------------------------------------------\n",
      "Korelasi Spearman untuk Joglo - Blok M: 0.03929348193503567\n",
      "Nilai p untuk Joglo - Blok M: 0.594390300963032\n",
      "Tidak ada bukti signifikansi korelasi untuk Joglo - Blok M\n",
      "--------------------------------------------------\n",
      "Korelasi Spearman untuk Sarana Jaya - Tebet Eco Park (TEP) - Stasiun Cawang: 0.12596091288295144\n",
      "Nilai p untuk Sarana Jaya - Tebet Eco Park (TEP) - Stasiun Cawang: 0.07626664652394773\n",
      "Tidak ada bukti signifikansi korelasi untuk Sarana Jaya - Tebet Eco Park (TEP) - Stasiun Cawang\n",
      "--------------------------------------------------\n",
      "Korelasi Spearman untuk Kampung Rambutan - Pasar Rebo via Poncol: -0.09533458514307354\n",
      "Nilai p untuk Kampung Rambutan - Pasar Rebo via Poncol: 0.1039931613487157\n",
      "Tidak ada bukti signifikansi korelasi untuk Kampung Rambutan - Pasar Rebo via Poncol\n",
      "--------------------------------------------------\n",
      "Korelasi Spearman untuk Tanjung Priok - Sukapura: 0.08678417175327903\n",
      "Nilai p untuk Tanjung Priok - Sukapura: 0.18025678054755293\n",
      "Tidak ada bukti signifikansi korelasi untuk Tanjung Priok - Sukapura\n",
      "--------------------------------------------------\n",
      "Korelasi Spearman untuk Pinang Ranti - Pluit: 0.08374068020382146\n",
      "Nilai p untuk Pinang Ranti - Pluit: 0.2257779556662592\n",
      "Tidak ada bukti signifikansi korelasi untuk Pinang Ranti - Pluit\n",
      "--------------------------------------------------\n",
      "Korelasi Spearman untuk Rusun Sindang Koja - Kp. Sawah: -0.046412756509753274\n",
      "Nilai p untuk Rusun Sindang Koja - Kp. Sawah: 0.5248567366291903\n",
      "Tidak ada bukti signifikansi korelasi untuk Rusun Sindang Koja - Kp. Sawah\n",
      "--------------------------------------------------\n",
      "Korelasi Spearman untuk Batusari - Grogol: 0.19380129925065095\n",
      "Nilai p untuk Batusari - Grogol: 0.00236101424754729\n",
      "Korelasi untuk Batusari - Grogol signifikan secara statistik\n",
      "--------------------------------------------------\n",
      "Korelasi Spearman untuk Semper - Rorotan: -0.17862390327861968\n",
      "Nilai p untuk Semper - Rorotan: 0.10616258449477073\n",
      "Tidak ada bukti signifikansi korelasi untuk Semper - Rorotan\n",
      "--------------------------------------------------\n",
      "Korelasi Spearman untuk Pinang Ranti - Pulo Gadung: 0.2785145554681353\n",
      "Nilai p untuk Pinang Ranti - Pulo Gadung: 0.0017349267546855444\n",
      "Korelasi untuk Pinang Ranti - Pulo Gadung signifikan secara statistik\n",
      "--------------------------------------------------\n",
      "Korelasi Spearman untuk Kampung Melayu - Pulo Gadung: 0.13120348069366444\n",
      "Nilai p untuk Kampung Melayu - Pulo Gadung: 0.08906610944297533\n",
      "Tidak ada bukti signifikansi korelasi untuk Kampung Melayu - Pulo Gadung\n",
      "--------------------------------------------------\n",
      "Korelasi Spearman untuk St. LRT Pegangsaan Dua - JIS: 0.15472287881942898\n",
      "Nilai p untuk St. LRT Pegangsaan Dua - JIS: 0.26394491260906205\n",
      "Tidak ada bukti signifikansi korelasi untuk St. LRT Pegangsaan Dua - JIS\n",
      "--------------------------------------------------\n",
      "Korelasi Spearman untuk TU Gas - Bundaran Senayan: -0.07249476890073825\n",
      "Nilai p untuk TU Gas - Bundaran Senayan: 0.2821662698201953\n",
      "Tidak ada bukti signifikansi korelasi untuk TU Gas - Bundaran Senayan\n",
      "--------------------------------------------------\n",
      "Korelasi Spearman untuk Pondok Labu - Blok M: 0.24895242074328586\n",
      "Nilai p untuk Pondok Labu - Blok M: 0.0031238974884430556\n",
      "Korelasi untuk Pondok Labu - Blok M signifikan secara statistik\n",
      "--------------------------------------------------\n",
      "Korelasi Spearman untuk Monas - Pantai Indah Kapuk: 0.15989092475715427\n",
      "Nilai p untuk Monas - Pantai Indah Kapuk: 0.020747332532383825\n",
      "Korelasi untuk Monas - Pantai Indah Kapuk signifikan secara statistik\n",
      "--------------------------------------------------\n",
      "Korelasi Spearman untuk Cempaka Putih - Pulo Gadung via Kelapa Gading: -0.06516959912933068\n",
      "Nilai p untuk Cempaka Putih - Pulo Gadung via Kelapa Gading: 0.42973996537117676\n",
      "Tidak ada bukti signifikansi korelasi untuk Cempaka Putih - Pulo Gadung via Kelapa Gading\n",
      "--------------------------------------------------\n",
      "Korelasi Spearman untuk Tanah Abang - Kota: 0.09008810287937863\n",
      "Nilai p untuk Tanah Abang - Kota: 0.26029720792983246\n",
      "Tidak ada bukti signifikansi korelasi untuk Tanah Abang - Kota\n",
      "--------------------------------------------------\n",
      "Korelasi Spearman untuk Cilincing - Rorotan: 0.03879598022405001\n",
      "Nilai p untuk Cilincing - Rorotan: 0.5310499460329339\n",
      "Tidak ada bukti signifikansi korelasi untuk Cilincing - Rorotan\n",
      "--------------------------------------------------\n",
      "Korelasi Spearman untuk Harapan Baru - Pulo Gebang via Rawa Kuning: -0.10264649923628845\n",
      "Nilai p untuk Harapan Baru - Pulo Gebang via Rawa Kuning: 0.2508174685910684\n",
      "Tidak ada bukti signifikansi korelasi untuk Harapan Baru - Pulo Gebang via Rawa Kuning\n",
      "--------------------------------------------------\n",
      "Korelasi Spearman untuk Taman Waduk Papanggo - Kota Tua: 0.15495268917662092\n",
      "Nilai p untuk Taman Waduk Papanggo - Kota Tua: 0.03834683538564018\n",
      "Korelasi untuk Taman Waduk Papanggo - Kota Tua signifikan secara statistik\n",
      "--------------------------------------------------\n",
      "Korelasi Spearman untuk Kampung Rambutan - Lebak Bulus: 0.10305660482383106\n",
      "Nilai p untuk Kampung Rambutan - Lebak Bulus: 0.24891911778660436\n",
      "Tidak ada bukti signifikansi korelasi untuk Kampung Rambutan - Lebak Bulus\n",
      "--------------------------------------------------\n",
      "Korelasi Spearman untuk BSD - Jelambar: 0.07773835233303936\n",
      "Nilai p untuk BSD - Jelambar: 0.40071395754103667\n",
      "Tidak ada bukti signifikansi korelasi untuk BSD - Jelambar\n",
      "--------------------------------------------------\n",
      "Korelasi Spearman untuk Rusun Pesakih - Kalideres: 0.146488958285455\n",
      "Nilai p untuk Rusun Pesakih - Kalideres: 0.058886544195891156\n",
      "Tidak ada bukti signifikansi korelasi untuk Rusun Pesakih - Kalideres\n",
      "--------------------------------------------------\n",
      "Korelasi Spearman untuk Pulo Gadung - Kota: 0.012114476243400946\n",
      "Nilai p untuk Pulo Gadung - Kota: 0.926803173395218\n",
      "Tidak ada bukti signifikansi korelasi untuk Pulo Gadung - Kota\n",
      "--------------------------------------------------\n",
      "Korelasi Spearman untuk Bekasi Barat - Blok M: 0.06287832884416393\n",
      "Nilai p untuk Bekasi Barat - Blok M: 0.48426094958874166\n",
      "Tidak ada bukti signifikansi korelasi untuk Bekasi Barat - Blok M\n",
      "--------------------------------------------------\n",
      "Korelasi Spearman untuk Grogol - Benhil: 0.019745955655746564\n",
      "Nilai p untuk Grogol - Benhil: 0.8228673510339035\n",
      "Tidak ada bukti signifikansi korelasi untuk Grogol - Benhil\n",
      "--------------------------------------------------\n",
      "Korelasi Spearman untuk Ciputat - Kampung Rambutan: 0.2622308563228552\n",
      "Nilai p untuk Ciputat - Kampung Rambutan: 0.0022070780736296353\n",
      "Korelasi untuk Ciputat - Kampung Rambutan signifikan secara statistik\n",
      "--------------------------------------------------\n",
      "Korelasi Spearman untuk JIS - Terminal Muara Angke: 0.22210295310338243\n",
      "Nilai p untuk JIS - Terminal Muara Angke: 0.009355608930838479\n",
      "Korelasi untuk JIS - Terminal Muara Angke signifikan secara statistik\n",
      "--------------------------------------------------\n",
      "Korelasi Spearman untuk Rusun Pinus Elok - Rusun Pulo Gebang: 0.18627787307032587\n",
      "Nilai p untuk Rusun Pinus Elok - Rusun Pulo Gebang: 0.17744428374408858\n",
      "Tidak ada bukti signifikansi korelasi untuk Rusun Pinus Elok - Rusun Pulo Gebang\n",
      "--------------------------------------------------\n",
      "Korelasi Spearman untuk Rusun Waduk Pluit - Penjaringan: 0.08552704050182786\n",
      "Nilai p untuk Rusun Waduk Pluit - Penjaringan: 0.3371075466107021\n",
      "Tidak ada bukti signifikansi korelasi untuk Rusun Waduk Pluit - Penjaringan\n",
      "--------------------------------------------------\n",
      "Korelasi Spearman untuk Rusun Jati Rawasari - Senen: 0.3654463258438657\n",
      "Nilai p untuk Rusun Jati Rawasari - Senen: 0.00015882693330323863\n",
      "Korelasi untuk Rusun Jati Rawasari - Senen signifikan secara statistik\n",
      "--------------------------------------------------\n",
      "Korelasi Spearman untuk Kampung Rambutan - Juanda via Pasar Baru: 0.03059340208403804\n",
      "Nilai p untuk Kampung Rambutan - Juanda via Pasar Baru: 0.6920763229430154\n",
      "Tidak ada bukti signifikansi korelasi untuk Kampung Rambutan - Juanda via Pasar Baru\n",
      "--------------------------------------------------\n",
      "Korelasi Spearman untuk Senen - Pisangan Baru: 0.11162788377990827\n",
      "Nilai p untuk Senen - Pisangan Baru: 0.19910785343386786\n",
      "Tidak ada bukti signifikansi korelasi untuk Senen - Pisangan Baru\n",
      "--------------------------------------------------\n",
      "Korelasi Spearman untuk Terminal Kampung Melayu - Kapin Raya: 0.10705025311766883\n",
      "Nilai p untuk Terminal Kampung Melayu - Kapin Raya: 0.31525274432239525\n",
      "Tidak ada bukti signifikansi korelasi untuk Terminal Kampung Melayu - Kapin Raya\n",
      "--------------------------------------------------\n",
      "Korelasi Spearman untuk Puri Beta - Ragunan: 0.07378091208179698\n",
      "Nilai p untuk Puri Beta - Ragunan: 0.3318679024544451\n",
      "Tidak ada bukti signifikansi korelasi untuk Puri Beta - Ragunan\n",
      "--------------------------------------------------\n",
      "Korelasi Spearman untuk Pinang Ranti - Bundaran Senayan: 0.16913438263085437\n",
      "Nilai p untuk Pinang Ranti - Bundaran Senayan: 0.04126878133676258\n",
      "Korelasi untuk Pinang Ranti - Bundaran Senayan signifikan secara statistik\n",
      "--------------------------------------------------\n",
      "Korelasi Spearman untuk Cibubur Junction - Blok M: -0.12500251955577815\n",
      "Nilai p untuk Cibubur Junction - Blok M: 0.11878691753328592\n",
      "Tidak ada bukti signifikansi korelasi untuk Cibubur Junction - Blok M\n",
      "--------------------------------------------------\n",
      "Korelasi Spearman untuk Kampung Rambutan - Bidara Cina: -0.0738577836515283\n",
      "Nilai p untuk Kampung Rambutan - Bidara Cina: 0.3806728900315902\n",
      "Tidak ada bukti signifikansi korelasi untuk Kampung Rambutan - Bidara Cina\n",
      "--------------------------------------------------\n",
      "Korelasi Spearman untuk Pantai Maju - Balai Kota: 0.010952040761787553\n",
      "Nilai p untuk Pantai Maju - Balai Kota: 0.9039086700305331\n",
      "Tidak ada bukti signifikansi korelasi untuk Pantai Maju - Balai Kota\n",
      "--------------------------------------------------\n",
      "Korelasi Spearman untuk S. Parman - Tanah Abang: -0.02072710867549278\n",
      "Nilai p untuk S. Parman - Tanah Abang: 0.8471190546152313\n",
      "Tidak ada bukti signifikansi korelasi untuk S. Parman - Tanah Abang\n",
      "--------------------------------------------------\n",
      "Korelasi Spearman untuk Rusun Rawa Bebek - Penggilingan: 0.36415195291599783\n",
      "Nilai p untuk Rusun Rawa Bebek - Penggilingan: 0.000418208238548126\n",
      "Korelasi untuk Rusun Rawa Bebek - Penggilingan signifikan secara statistik\n",
      "--------------------------------------------------\n",
      "Korelasi Spearman untuk Tanjung Priok - Blok M: -0.10548781402324711\n",
      "Nilai p untuk Tanjung Priok - Blok M: 0.23976275821136067\n",
      "Tidak ada bukti signifikansi korelasi untuk Tanjung Priok - Blok M\n",
      "--------------------------------------------------\n",
      "Korelasi Spearman untuk Depok - BKN: -0.04517006802721089\n",
      "Nilai p untuk Depok - BKN: 0.6570749185425155\n",
      "Tidak ada bukti signifikansi korelasi untuk Depok - BKN\n",
      "--------------------------------------------------\n",
      "Korelasi Spearman untuk Terminal Kampung Melayu - Terminal Klender: -0.2583743888521964\n",
      "Nilai p untuk Terminal Kampung Melayu - Terminal Klender: 0.004913291660094644\n",
      "Korelasi untuk Terminal Kampung Melayu - Terminal Klender signifikan secara statistik\n",
      "--------------------------------------------------\n",
      "Korelasi Spearman untuk Stasiun Palmerah - Tosari: 0.08598437524116365\n",
      "Nilai p untuk Stasiun Palmerah - Tosari: 0.3021024164949149\n",
      "Tidak ada bukti signifikansi korelasi untuk Stasiun Palmerah - Tosari\n",
      "--------------------------------------------------\n",
      "Korelasi Spearman untuk Senen - Pulo Gadung via Kelapa Gading: 0.06474763789411929\n",
      "Nilai p untuk Senen - Pulo Gadung via Kelapa Gading: 0.5374944750703761\n",
      "Tidak ada bukti signifikansi korelasi untuk Senen - Pulo Gadung via Kelapa Gading\n",
      "--------------------------------------------------\n",
      "Korelasi Spearman untuk Pangkalan Jati - Rawamangun: 0.12783430361075132\n",
      "Nilai p untuk Pangkalan Jati - Rawamangun: 0.19158850420226742\n",
      "Tidak ada bukti signifikansi korelasi untuk Pangkalan Jati - Rawamangun\n",
      "--------------------------------------------------\n",
      "Korelasi Spearman untuk Kalideres - Gelora Bung Karno: 0.2315885390300699\n",
      "Nilai p untuk Kalideres - Gelora Bung Karno: 0.03403575578481636\n",
      "Korelasi untuk Kalideres - Gelora Bung Karno signifikan secara statistik\n",
      "--------------------------------------------------\n",
      "Korelasi Spearman untuk Cinere - Kuningan: 0.16796951338675006\n",
      "Nilai p untuk Cinere - Kuningan: 0.12438813850606421\n",
      "Tidak ada bukti signifikansi korelasi untuk Cinere - Kuningan\n",
      "--------------------------------------------------\n",
      "Korelasi Spearman untuk Cibubur - Kuningan: 0.010418753756762171\n",
      "Nilai p untuk Cibubur - Kuningan: 0.9214801013361817\n",
      "Tidak ada bukti signifikansi korelasi untuk Cibubur - Kuningan\n",
      "--------------------------------------------------\n",
      "Korelasi Spearman untuk Grogol - Srengseng: 0.019143135576317128\n",
      "Nilai p untuk Grogol - Srengseng: 0.8390856059054702\n",
      "Tidak ada bukti signifikansi korelasi untuk Grogol - Srengseng\n",
      "--------------------------------------------------\n",
      "Korelasi Spearman untuk Pulo Gadung 2 - Kuningan: -0.08484772149028894\n",
      "Nilai p untuk Pulo Gadung 2 - Kuningan: 0.3871684282843796\n",
      "Tidak ada bukti signifikansi korelasi untuk Pulo Gadung 2 - Kuningan\n",
      "--------------------------------------------------\n",
      "Korelasi Spearman untuk Rusun Marunda - Rusun Waduk Pluit: 0.08267581475128644\n",
      "Nilai p untuk Rusun Marunda - Rusun Waduk Pluit: 0.5522821411474883\n",
      "Tidak ada bukti signifikansi korelasi untuk Rusun Marunda - Rusun Waduk Pluit\n",
      "--------------------------------------------------\n",
      "Korelasi Spearman untuk Kp. Rambutan - Taman Wiladatika: 0.007169325528812408\n",
      "Nilai p untuk Kp. Rambutan - Taman Wiladatika: 0.951322480405711\n",
      "Tidak ada bukti signifikansi korelasi untuk Kp. Rambutan - Taman Wiladatika\n",
      "--------------------------------------------------\n",
      "Korelasi Spearman untuk Rawamangun - Tanah Merah: -0.1480311355311355\n",
      "Nilai p untuk Rawamangun - Tanah Merah: 0.24306776754962517\n",
      "Tidak ada bukti signifikansi korelasi untuk Rawamangun - Tanah Merah\n",
      "--------------------------------------------------\n",
      "Korelasi Spearman untuk Bulak Ringin - Kampung Rambutan: -0.02069624172316787\n",
      "Nilai p untuk Bulak Ringin - Kampung Rambutan: 0.8526705463949331\n",
      "Tidak ada bukti signifikansi korelasi untuk Bulak Ringin - Kampung Rambutan\n",
      "--------------------------------------------------\n",
      "Korelasi Spearman untuk Rusun Marunda - Tanjung Priok: 0.11224470323444004\n",
      "Nilai p untuk Rusun Marunda - Tanjung Priok: 0.19325156878130562\n",
      "Tidak ada bukti signifikansi korelasi untuk Rusun Marunda - Tanjung Priok\n",
      "--------------------------------------------------\n",
      "Korelasi Spearman untuk Grogol - Pos Pengumben via Slipi: -0.03048913283087203\n",
      "Nilai p untuk Grogol - Pos Pengumben via Slipi: 0.8499108693466239\n",
      "Tidak ada bukti signifikansi korelasi untuk Grogol - Pos Pengumben via Slipi\n",
      "--------------------------------------------------\n",
      "Korelasi Spearman untuk Term. Pulo Gadung - Lampiri: -0.015322580645161293\n",
      "Nilai p untuk Term. Pulo Gadung - Lampiri: 0.9347967683001777\n",
      "Tidak ada bukti signifikansi korelasi untuk Term. Pulo Gadung - Lampiri\n",
      "--------------------------------------------------\n",
      "Korelasi Spearman untuk Tanah Abang - Kebayoran Lama via Pos Pengumben: 0.2636928289102203\n",
      "Nilai p untuk Tanah Abang - Kebayoran Lama via Pos Pengumben: 0.23571564222959407\n",
      "Tidak ada bukti signifikansi korelasi untuk Tanah Abang - Kebayoran Lama via Pos Pengumben\n",
      "--------------------------------------------------\n",
      "Korelasi Spearman untuk Gondangdia - Balai Kota: -0.15242914979757086\n",
      "Nilai p untuk Gondangdia - Balai Kota: 0.354249734911675\n",
      "Tidak ada bukti signifikansi korelasi untuk Gondangdia - Balai Kota\n",
      "--------------------------------------------------\n",
      "Korelasi Spearman untuk Senen - Tanah Abang: -0.20450815187657292\n",
      "Nilai p untuk Senen - Tanah Abang: 0.21808831686760535\n",
      "Tidak ada bukti signifikansi korelasi untuk Senen - Tanah Abang\n",
      "--------------------------------------------------\n"
     ]
    }
   ],
   "source": [
    "# Hitung Korelasi dan Uji Signifikansi untuk Setiap Koridor\n",
    "koridors = df['corridorName'].unique()\n",
    "\n",
    "for koridor in koridors:\n",
    "    # Ambil data waktu perjalanan untuk koridor tertentu\n",
    "    data_koridor = df[df['corridorName'] == koridor]['Waktu Perjalanan_menit']\n",
    "    \n",
    "    # Hitung korelasi Spearman dan nilai p\n",
    "    corr, p_value = spearmanr(data_koridor, data_koridor.index)\n",
    "    \n",
    "    # Tampilkan hasil\n",
    "    print(f\"Korelasi Spearman untuk {koridor}: {corr}\")\n",
    "    print(f\"Nilai p untuk {koridor}: {p_value}\")\n",
    "    \n",
    "    # Uji signifikansi\n",
    "    alpha = 0.05\n",
    "    if p_value < alpha:\n",
    "        print(f\"Korelasi untuk {koridor} signifikan secara statistik\")\n",
    "    else:\n",
    "        print(f\"Tidak ada bukti signifikansi korelasi untuk {koridor}\")\n",
    "    \n",
    "    print('-' * 50)"
   ]
  },
  {
   "cell_type": "markdown",
   "metadata": {},
   "source": [
    "Hasil uji korelasi beragam ada yang berkorelasi dan ada yang tidak berkolerasi. \n",
    "\n",
    "`Kalau tidak ada korelasi`, maka menunjukkan bahwa perubahan dalam waktu perjalanan tidak berpengaruh secara signifikan pada perbedaan dalam rute Transjakarta. \n",
    "`Kalau yang berkolerasi`, maka waktu perjalanan dapat diatributkan secara signifikan pada perbedaan dalam rute Transjakarta. Ini dapat menjadi dasar untuk mengambil tindakan atau membuat keputusan terkait untuk `evaluasi rute` atau peningkatan layanan guna mengurangi waktu perjalanan."
   ]
  },
  {
   "cell_type": "markdown",
   "metadata": {},
   "source": [
    "Jika korelasi positif terdapat antara waktu perjalanan dan koridor, hal itu bisa menunjukkan bahwa semakin jauh koridor, semakin lama waktu perjalanan. \n",
    "\n",
    "Sebaliknya, korelasi negatif menunjukkan bahwa semakin dekat koridor, semakin lama waktu perjalanan. Ini dapat membantu dalam perencanaan rute dan estimasi waktu perjalanan.\n"
   ]
  },
  {
   "cell_type": "markdown",
   "metadata": {},
   "source": [
    "## Bedasarkan data `Demografi`"
   ]
  },
  {
   "cell_type": "markdown",
   "metadata": {},
   "source": [
    "* Pelanggan Transjakarta di dominasi oleh jenis kelamin apa?"
   ]
  },
  {
   "cell_type": "code",
   "execution_count": 293,
   "metadata": {},
   "outputs": [
    {
     "data": {
      "application/vnd.plotly.v1+json": {
       "config": {
        "plotlyServerURL": "https://plot.ly"
       },
       "data": [
        {
         "domain": {
          "x": [
           0,
           1
          ],
          "y": [
           0,
           1
          ]
         },
         "hovertemplate": "Gender=%{label}<br>Count=%{value}<extra></extra>",
         "labels": [
          "F",
          "M"
         ],
         "legendgroup": "",
         "name": "",
         "showlegend": true,
         "textinfo": "percent+label",
         "textposition": "inside",
         "type": "pie",
         "values": [
          19469,
          17087
         ]
        }
       ],
       "layout": {
        "legend": {
         "tracegroupgap": 0
        },
        "template": {
         "data": {
          "bar": [
           {
            "error_x": {
             "color": "#2a3f5f"
            },
            "error_y": {
             "color": "#2a3f5f"
            },
            "marker": {
             "line": {
              "color": "#E5ECF6",
              "width": 0.5
             },
             "pattern": {
              "fillmode": "overlay",
              "size": 10,
              "solidity": 0.2
             }
            },
            "type": "bar"
           }
          ],
          "barpolar": [
           {
            "marker": {
             "line": {
              "color": "#E5ECF6",
              "width": 0.5
             },
             "pattern": {
              "fillmode": "overlay",
              "size": 10,
              "solidity": 0.2
             }
            },
            "type": "barpolar"
           }
          ],
          "carpet": [
           {
            "aaxis": {
             "endlinecolor": "#2a3f5f",
             "gridcolor": "white",
             "linecolor": "white",
             "minorgridcolor": "white",
             "startlinecolor": "#2a3f5f"
            },
            "baxis": {
             "endlinecolor": "#2a3f5f",
             "gridcolor": "white",
             "linecolor": "white",
             "minorgridcolor": "white",
             "startlinecolor": "#2a3f5f"
            },
            "type": "carpet"
           }
          ],
          "choropleth": [
           {
            "colorbar": {
             "outlinewidth": 0,
             "ticks": ""
            },
            "type": "choropleth"
           }
          ],
          "contour": [
           {
            "colorbar": {
             "outlinewidth": 0,
             "ticks": ""
            },
            "colorscale": [
             [
              0,
              "#0d0887"
             ],
             [
              0.1111111111111111,
              "#46039f"
             ],
             [
              0.2222222222222222,
              "#7201a8"
             ],
             [
              0.3333333333333333,
              "#9c179e"
             ],
             [
              0.4444444444444444,
              "#bd3786"
             ],
             [
              0.5555555555555556,
              "#d8576b"
             ],
             [
              0.6666666666666666,
              "#ed7953"
             ],
             [
              0.7777777777777778,
              "#fb9f3a"
             ],
             [
              0.8888888888888888,
              "#fdca26"
             ],
             [
              1,
              "#f0f921"
             ]
            ],
            "type": "contour"
           }
          ],
          "contourcarpet": [
           {
            "colorbar": {
             "outlinewidth": 0,
             "ticks": ""
            },
            "type": "contourcarpet"
           }
          ],
          "heatmap": [
           {
            "colorbar": {
             "outlinewidth": 0,
             "ticks": ""
            },
            "colorscale": [
             [
              0,
              "#0d0887"
             ],
             [
              0.1111111111111111,
              "#46039f"
             ],
             [
              0.2222222222222222,
              "#7201a8"
             ],
             [
              0.3333333333333333,
              "#9c179e"
             ],
             [
              0.4444444444444444,
              "#bd3786"
             ],
             [
              0.5555555555555556,
              "#d8576b"
             ],
             [
              0.6666666666666666,
              "#ed7953"
             ],
             [
              0.7777777777777778,
              "#fb9f3a"
             ],
             [
              0.8888888888888888,
              "#fdca26"
             ],
             [
              1,
              "#f0f921"
             ]
            ],
            "type": "heatmap"
           }
          ],
          "heatmapgl": [
           {
            "colorbar": {
             "outlinewidth": 0,
             "ticks": ""
            },
            "colorscale": [
             [
              0,
              "#0d0887"
             ],
             [
              0.1111111111111111,
              "#46039f"
             ],
             [
              0.2222222222222222,
              "#7201a8"
             ],
             [
              0.3333333333333333,
              "#9c179e"
             ],
             [
              0.4444444444444444,
              "#bd3786"
             ],
             [
              0.5555555555555556,
              "#d8576b"
             ],
             [
              0.6666666666666666,
              "#ed7953"
             ],
             [
              0.7777777777777778,
              "#fb9f3a"
             ],
             [
              0.8888888888888888,
              "#fdca26"
             ],
             [
              1,
              "#f0f921"
             ]
            ],
            "type": "heatmapgl"
           }
          ],
          "histogram": [
           {
            "marker": {
             "pattern": {
              "fillmode": "overlay",
              "size": 10,
              "solidity": 0.2
             }
            },
            "type": "histogram"
           }
          ],
          "histogram2d": [
           {
            "colorbar": {
             "outlinewidth": 0,
             "ticks": ""
            },
            "colorscale": [
             [
              0,
              "#0d0887"
             ],
             [
              0.1111111111111111,
              "#46039f"
             ],
             [
              0.2222222222222222,
              "#7201a8"
             ],
             [
              0.3333333333333333,
              "#9c179e"
             ],
             [
              0.4444444444444444,
              "#bd3786"
             ],
             [
              0.5555555555555556,
              "#d8576b"
             ],
             [
              0.6666666666666666,
              "#ed7953"
             ],
             [
              0.7777777777777778,
              "#fb9f3a"
             ],
             [
              0.8888888888888888,
              "#fdca26"
             ],
             [
              1,
              "#f0f921"
             ]
            ],
            "type": "histogram2d"
           }
          ],
          "histogram2dcontour": [
           {
            "colorbar": {
             "outlinewidth": 0,
             "ticks": ""
            },
            "colorscale": [
             [
              0,
              "#0d0887"
             ],
             [
              0.1111111111111111,
              "#46039f"
             ],
             [
              0.2222222222222222,
              "#7201a8"
             ],
             [
              0.3333333333333333,
              "#9c179e"
             ],
             [
              0.4444444444444444,
              "#bd3786"
             ],
             [
              0.5555555555555556,
              "#d8576b"
             ],
             [
              0.6666666666666666,
              "#ed7953"
             ],
             [
              0.7777777777777778,
              "#fb9f3a"
             ],
             [
              0.8888888888888888,
              "#fdca26"
             ],
             [
              1,
              "#f0f921"
             ]
            ],
            "type": "histogram2dcontour"
           }
          ],
          "mesh3d": [
           {
            "colorbar": {
             "outlinewidth": 0,
             "ticks": ""
            },
            "type": "mesh3d"
           }
          ],
          "parcoords": [
           {
            "line": {
             "colorbar": {
              "outlinewidth": 0,
              "ticks": ""
             }
            },
            "type": "parcoords"
           }
          ],
          "pie": [
           {
            "automargin": true,
            "type": "pie"
           }
          ],
          "scatter": [
           {
            "fillpattern": {
             "fillmode": "overlay",
             "size": 10,
             "solidity": 0.2
            },
            "type": "scatter"
           }
          ],
          "scatter3d": [
           {
            "line": {
             "colorbar": {
              "outlinewidth": 0,
              "ticks": ""
             }
            },
            "marker": {
             "colorbar": {
              "outlinewidth": 0,
              "ticks": ""
             }
            },
            "type": "scatter3d"
           }
          ],
          "scattercarpet": [
           {
            "marker": {
             "colorbar": {
              "outlinewidth": 0,
              "ticks": ""
             }
            },
            "type": "scattercarpet"
           }
          ],
          "scattergeo": [
           {
            "marker": {
             "colorbar": {
              "outlinewidth": 0,
              "ticks": ""
             }
            },
            "type": "scattergeo"
           }
          ],
          "scattergl": [
           {
            "marker": {
             "colorbar": {
              "outlinewidth": 0,
              "ticks": ""
             }
            },
            "type": "scattergl"
           }
          ],
          "scattermapbox": [
           {
            "marker": {
             "colorbar": {
              "outlinewidth": 0,
              "ticks": ""
             }
            },
            "type": "scattermapbox"
           }
          ],
          "scatterpolar": [
           {
            "marker": {
             "colorbar": {
              "outlinewidth": 0,
              "ticks": ""
             }
            },
            "type": "scatterpolar"
           }
          ],
          "scatterpolargl": [
           {
            "marker": {
             "colorbar": {
              "outlinewidth": 0,
              "ticks": ""
             }
            },
            "type": "scatterpolargl"
           }
          ],
          "scatterternary": [
           {
            "marker": {
             "colorbar": {
              "outlinewidth": 0,
              "ticks": ""
             }
            },
            "type": "scatterternary"
           }
          ],
          "surface": [
           {
            "colorbar": {
             "outlinewidth": 0,
             "ticks": ""
            },
            "colorscale": [
             [
              0,
              "#0d0887"
             ],
             [
              0.1111111111111111,
              "#46039f"
             ],
             [
              0.2222222222222222,
              "#7201a8"
             ],
             [
              0.3333333333333333,
              "#9c179e"
             ],
             [
              0.4444444444444444,
              "#bd3786"
             ],
             [
              0.5555555555555556,
              "#d8576b"
             ],
             [
              0.6666666666666666,
              "#ed7953"
             ],
             [
              0.7777777777777778,
              "#fb9f3a"
             ],
             [
              0.8888888888888888,
              "#fdca26"
             ],
             [
              1,
              "#f0f921"
             ]
            ],
            "type": "surface"
           }
          ],
          "table": [
           {
            "cells": {
             "fill": {
              "color": "#EBF0F8"
             },
             "line": {
              "color": "white"
             }
            },
            "header": {
             "fill": {
              "color": "#C8D4E3"
             },
             "line": {
              "color": "white"
             }
            },
            "type": "table"
           }
          ]
         },
         "layout": {
          "annotationdefaults": {
           "arrowcolor": "#2a3f5f",
           "arrowhead": 0,
           "arrowwidth": 1
          },
          "autotypenumbers": "strict",
          "coloraxis": {
           "colorbar": {
            "outlinewidth": 0,
            "ticks": ""
           }
          },
          "colorscale": {
           "diverging": [
            [
             0,
             "#8e0152"
            ],
            [
             0.1,
             "#c51b7d"
            ],
            [
             0.2,
             "#de77ae"
            ],
            [
             0.3,
             "#f1b6da"
            ],
            [
             0.4,
             "#fde0ef"
            ],
            [
             0.5,
             "#f7f7f7"
            ],
            [
             0.6,
             "#e6f5d0"
            ],
            [
             0.7,
             "#b8e186"
            ],
            [
             0.8,
             "#7fbc41"
            ],
            [
             0.9,
             "#4d9221"
            ],
            [
             1,
             "#276419"
            ]
           ],
           "sequential": [
            [
             0,
             "#0d0887"
            ],
            [
             0.1111111111111111,
             "#46039f"
            ],
            [
             0.2222222222222222,
             "#7201a8"
            ],
            [
             0.3333333333333333,
             "#9c179e"
            ],
            [
             0.4444444444444444,
             "#bd3786"
            ],
            [
             0.5555555555555556,
             "#d8576b"
            ],
            [
             0.6666666666666666,
             "#ed7953"
            ],
            [
             0.7777777777777778,
             "#fb9f3a"
            ],
            [
             0.8888888888888888,
             "#fdca26"
            ],
            [
             1,
             "#f0f921"
            ]
           ],
           "sequentialminus": [
            [
             0,
             "#0d0887"
            ],
            [
             0.1111111111111111,
             "#46039f"
            ],
            [
             0.2222222222222222,
             "#7201a8"
            ],
            [
             0.3333333333333333,
             "#9c179e"
            ],
            [
             0.4444444444444444,
             "#bd3786"
            ],
            [
             0.5555555555555556,
             "#d8576b"
            ],
            [
             0.6666666666666666,
             "#ed7953"
            ],
            [
             0.7777777777777778,
             "#fb9f3a"
            ],
            [
             0.8888888888888888,
             "#fdca26"
            ],
            [
             1,
             "#f0f921"
            ]
           ]
          },
          "colorway": [
           "#636efa",
           "#EF553B",
           "#00cc96",
           "#ab63fa",
           "#FFA15A",
           "#19d3f3",
           "#FF6692",
           "#B6E880",
           "#FF97FF",
           "#FECB52"
          ],
          "font": {
           "color": "#2a3f5f"
          },
          "geo": {
           "bgcolor": "white",
           "lakecolor": "white",
           "landcolor": "#E5ECF6",
           "showlakes": true,
           "showland": true,
           "subunitcolor": "white"
          },
          "hoverlabel": {
           "align": "left"
          },
          "hovermode": "closest",
          "mapbox": {
           "style": "light"
          },
          "paper_bgcolor": "white",
          "plot_bgcolor": "#E5ECF6",
          "polar": {
           "angularaxis": {
            "gridcolor": "white",
            "linecolor": "white",
            "ticks": ""
           },
           "bgcolor": "#E5ECF6",
           "radialaxis": {
            "gridcolor": "white",
            "linecolor": "white",
            "ticks": ""
           }
          },
          "scene": {
           "xaxis": {
            "backgroundcolor": "#E5ECF6",
            "gridcolor": "white",
            "gridwidth": 2,
            "linecolor": "white",
            "showbackground": true,
            "ticks": "",
            "zerolinecolor": "white"
           },
           "yaxis": {
            "backgroundcolor": "#E5ECF6",
            "gridcolor": "white",
            "gridwidth": 2,
            "linecolor": "white",
            "showbackground": true,
            "ticks": "",
            "zerolinecolor": "white"
           },
           "zaxis": {
            "backgroundcolor": "#E5ECF6",
            "gridcolor": "white",
            "gridwidth": 2,
            "linecolor": "white",
            "showbackground": true,
            "ticks": "",
            "zerolinecolor": "white"
           }
          },
          "shapedefaults": {
           "line": {
            "color": "#2a3f5f"
           }
          },
          "ternary": {
           "aaxis": {
            "gridcolor": "white",
            "linecolor": "white",
            "ticks": ""
           },
           "baxis": {
            "gridcolor": "white",
            "linecolor": "white",
            "ticks": ""
           },
           "bgcolor": "#E5ECF6",
           "caxis": {
            "gridcolor": "white",
            "linecolor": "white",
            "ticks": ""
           }
          },
          "title": {
           "x": 0.05
          },
          "xaxis": {
           "automargin": true,
           "gridcolor": "white",
           "linecolor": "white",
           "ticks": "",
           "title": {
            "standoff": 15
           },
           "zerolinecolor": "white",
           "zerolinewidth": 2
          },
          "yaxis": {
           "automargin": true,
           "gridcolor": "white",
           "linecolor": "white",
           "ticks": "",
           "title": {
            "standoff": 15
           },
           "zerolinecolor": "white",
           "zerolinewidth": 2
          }
         }
        },
        "title": {
         "text": "Proporsi Jenis Kelamin Pengguna Layanan Transjakarta"
        }
       }
      }
     },
     "metadata": {},
     "output_type": "display_data"
    }
   ],
   "source": [
    "import plotly.express as px\n",
    "\n",
    "# Menghitung jumlah masing-masing jenis kelamin\n",
    "gender_counts = df['payCardSex'].value_counts()\n",
    "\n",
    "# Membuat dataframe untuk pie chart\n",
    "gender_df = pd.DataFrame({'Gender': gender_counts.index, 'Count': gender_counts.values})\n",
    "\n",
    "# Membuat pie chart interaktif dengan Plotly\n",
    "fig = px.pie(gender_df, values='Count', names='Gender', title='Proporsi Jenis Kelamin Pengguna Layanan Transjakarta')\n",
    "fig.update_traces(textposition='inside', textinfo='percent+label')\n",
    "\n",
    "fig.show()\n"
   ]
  },
  {
   "cell_type": "markdown",
   "metadata": {},
   "source": [
    "Berdasarkan `paycardID`\n",
    "* Berapa persentase metode pembayaran di layanan Transjakarta?"
   ]
  },
  {
   "cell_type": "code",
   "execution_count": 322,
   "metadata": {},
   "outputs": [
    {
     "data": {
      "application/vnd.plotly.v1+json": {
       "config": {
        "plotlyServerURL": "https://plot.ly"
       },
       "data": [
        {
         "domain": {
          "x": [
           0,
           1
          ],
          "y": [
           0,
           1
          ]
         },
         "hovertemplate": "payCardBank=%{label}<br>Count=%{value}<extra></extra>",
         "labels": [
          "dki",
          "emoney",
          "brizzi",
          "flazz",
          "online",
          "bni"
         ],
         "legendgroup": "",
         "name": "",
         "showlegend": true,
         "type": "pie",
         "values": [
          18058,
          6639,
          3397,
          3106,
          2775,
          2581
         ]
        }
       ],
       "layout": {
        "legend": {
         "tracegroupgap": 0
        },
        "template": {
         "data": {
          "bar": [
           {
            "error_x": {
             "color": "#2a3f5f"
            },
            "error_y": {
             "color": "#2a3f5f"
            },
            "marker": {
             "line": {
              "color": "#E5ECF6",
              "width": 0.5
             },
             "pattern": {
              "fillmode": "overlay",
              "size": 10,
              "solidity": 0.2
             }
            },
            "type": "bar"
           }
          ],
          "barpolar": [
           {
            "marker": {
             "line": {
              "color": "#E5ECF6",
              "width": 0.5
             },
             "pattern": {
              "fillmode": "overlay",
              "size": 10,
              "solidity": 0.2
             }
            },
            "type": "barpolar"
           }
          ],
          "carpet": [
           {
            "aaxis": {
             "endlinecolor": "#2a3f5f",
             "gridcolor": "white",
             "linecolor": "white",
             "minorgridcolor": "white",
             "startlinecolor": "#2a3f5f"
            },
            "baxis": {
             "endlinecolor": "#2a3f5f",
             "gridcolor": "white",
             "linecolor": "white",
             "minorgridcolor": "white",
             "startlinecolor": "#2a3f5f"
            },
            "type": "carpet"
           }
          ],
          "choropleth": [
           {
            "colorbar": {
             "outlinewidth": 0,
             "ticks": ""
            },
            "type": "choropleth"
           }
          ],
          "contour": [
           {
            "colorbar": {
             "outlinewidth": 0,
             "ticks": ""
            },
            "colorscale": [
             [
              0,
              "#0d0887"
             ],
             [
              0.1111111111111111,
              "#46039f"
             ],
             [
              0.2222222222222222,
              "#7201a8"
             ],
             [
              0.3333333333333333,
              "#9c179e"
             ],
             [
              0.4444444444444444,
              "#bd3786"
             ],
             [
              0.5555555555555556,
              "#d8576b"
             ],
             [
              0.6666666666666666,
              "#ed7953"
             ],
             [
              0.7777777777777778,
              "#fb9f3a"
             ],
             [
              0.8888888888888888,
              "#fdca26"
             ],
             [
              1,
              "#f0f921"
             ]
            ],
            "type": "contour"
           }
          ],
          "contourcarpet": [
           {
            "colorbar": {
             "outlinewidth": 0,
             "ticks": ""
            },
            "type": "contourcarpet"
           }
          ],
          "heatmap": [
           {
            "colorbar": {
             "outlinewidth": 0,
             "ticks": ""
            },
            "colorscale": [
             [
              0,
              "#0d0887"
             ],
             [
              0.1111111111111111,
              "#46039f"
             ],
             [
              0.2222222222222222,
              "#7201a8"
             ],
             [
              0.3333333333333333,
              "#9c179e"
             ],
             [
              0.4444444444444444,
              "#bd3786"
             ],
             [
              0.5555555555555556,
              "#d8576b"
             ],
             [
              0.6666666666666666,
              "#ed7953"
             ],
             [
              0.7777777777777778,
              "#fb9f3a"
             ],
             [
              0.8888888888888888,
              "#fdca26"
             ],
             [
              1,
              "#f0f921"
             ]
            ],
            "type": "heatmap"
           }
          ],
          "heatmapgl": [
           {
            "colorbar": {
             "outlinewidth": 0,
             "ticks": ""
            },
            "colorscale": [
             [
              0,
              "#0d0887"
             ],
             [
              0.1111111111111111,
              "#46039f"
             ],
             [
              0.2222222222222222,
              "#7201a8"
             ],
             [
              0.3333333333333333,
              "#9c179e"
             ],
             [
              0.4444444444444444,
              "#bd3786"
             ],
             [
              0.5555555555555556,
              "#d8576b"
             ],
             [
              0.6666666666666666,
              "#ed7953"
             ],
             [
              0.7777777777777778,
              "#fb9f3a"
             ],
             [
              0.8888888888888888,
              "#fdca26"
             ],
             [
              1,
              "#f0f921"
             ]
            ],
            "type": "heatmapgl"
           }
          ],
          "histogram": [
           {
            "marker": {
             "pattern": {
              "fillmode": "overlay",
              "size": 10,
              "solidity": 0.2
             }
            },
            "type": "histogram"
           }
          ],
          "histogram2d": [
           {
            "colorbar": {
             "outlinewidth": 0,
             "ticks": ""
            },
            "colorscale": [
             [
              0,
              "#0d0887"
             ],
             [
              0.1111111111111111,
              "#46039f"
             ],
             [
              0.2222222222222222,
              "#7201a8"
             ],
             [
              0.3333333333333333,
              "#9c179e"
             ],
             [
              0.4444444444444444,
              "#bd3786"
             ],
             [
              0.5555555555555556,
              "#d8576b"
             ],
             [
              0.6666666666666666,
              "#ed7953"
             ],
             [
              0.7777777777777778,
              "#fb9f3a"
             ],
             [
              0.8888888888888888,
              "#fdca26"
             ],
             [
              1,
              "#f0f921"
             ]
            ],
            "type": "histogram2d"
           }
          ],
          "histogram2dcontour": [
           {
            "colorbar": {
             "outlinewidth": 0,
             "ticks": ""
            },
            "colorscale": [
             [
              0,
              "#0d0887"
             ],
             [
              0.1111111111111111,
              "#46039f"
             ],
             [
              0.2222222222222222,
              "#7201a8"
             ],
             [
              0.3333333333333333,
              "#9c179e"
             ],
             [
              0.4444444444444444,
              "#bd3786"
             ],
             [
              0.5555555555555556,
              "#d8576b"
             ],
             [
              0.6666666666666666,
              "#ed7953"
             ],
             [
              0.7777777777777778,
              "#fb9f3a"
             ],
             [
              0.8888888888888888,
              "#fdca26"
             ],
             [
              1,
              "#f0f921"
             ]
            ],
            "type": "histogram2dcontour"
           }
          ],
          "mesh3d": [
           {
            "colorbar": {
             "outlinewidth": 0,
             "ticks": ""
            },
            "type": "mesh3d"
           }
          ],
          "parcoords": [
           {
            "line": {
             "colorbar": {
              "outlinewidth": 0,
              "ticks": ""
             }
            },
            "type": "parcoords"
           }
          ],
          "pie": [
           {
            "automargin": true,
            "type": "pie"
           }
          ],
          "scatter": [
           {
            "fillpattern": {
             "fillmode": "overlay",
             "size": 10,
             "solidity": 0.2
            },
            "type": "scatter"
           }
          ],
          "scatter3d": [
           {
            "line": {
             "colorbar": {
              "outlinewidth": 0,
              "ticks": ""
             }
            },
            "marker": {
             "colorbar": {
              "outlinewidth": 0,
              "ticks": ""
             }
            },
            "type": "scatter3d"
           }
          ],
          "scattercarpet": [
           {
            "marker": {
             "colorbar": {
              "outlinewidth": 0,
              "ticks": ""
             }
            },
            "type": "scattercarpet"
           }
          ],
          "scattergeo": [
           {
            "marker": {
             "colorbar": {
              "outlinewidth": 0,
              "ticks": ""
             }
            },
            "type": "scattergeo"
           }
          ],
          "scattergl": [
           {
            "marker": {
             "colorbar": {
              "outlinewidth": 0,
              "ticks": ""
             }
            },
            "type": "scattergl"
           }
          ],
          "scattermapbox": [
           {
            "marker": {
             "colorbar": {
              "outlinewidth": 0,
              "ticks": ""
             }
            },
            "type": "scattermapbox"
           }
          ],
          "scatterpolar": [
           {
            "marker": {
             "colorbar": {
              "outlinewidth": 0,
              "ticks": ""
             }
            },
            "type": "scatterpolar"
           }
          ],
          "scatterpolargl": [
           {
            "marker": {
             "colorbar": {
              "outlinewidth": 0,
              "ticks": ""
             }
            },
            "type": "scatterpolargl"
           }
          ],
          "scatterternary": [
           {
            "marker": {
             "colorbar": {
              "outlinewidth": 0,
              "ticks": ""
             }
            },
            "type": "scatterternary"
           }
          ],
          "surface": [
           {
            "colorbar": {
             "outlinewidth": 0,
             "ticks": ""
            },
            "colorscale": [
             [
              0,
              "#0d0887"
             ],
             [
              0.1111111111111111,
              "#46039f"
             ],
             [
              0.2222222222222222,
              "#7201a8"
             ],
             [
              0.3333333333333333,
              "#9c179e"
             ],
             [
              0.4444444444444444,
              "#bd3786"
             ],
             [
              0.5555555555555556,
              "#d8576b"
             ],
             [
              0.6666666666666666,
              "#ed7953"
             ],
             [
              0.7777777777777778,
              "#fb9f3a"
             ],
             [
              0.8888888888888888,
              "#fdca26"
             ],
             [
              1,
              "#f0f921"
             ]
            ],
            "type": "surface"
           }
          ],
          "table": [
           {
            "cells": {
             "fill": {
              "color": "#EBF0F8"
             },
             "line": {
              "color": "white"
             }
            },
            "header": {
             "fill": {
              "color": "#C8D4E3"
             },
             "line": {
              "color": "white"
             }
            },
            "type": "table"
           }
          ]
         },
         "layout": {
          "annotationdefaults": {
           "arrowcolor": "#2a3f5f",
           "arrowhead": 0,
           "arrowwidth": 1
          },
          "autotypenumbers": "strict",
          "coloraxis": {
           "colorbar": {
            "outlinewidth": 0,
            "ticks": ""
           }
          },
          "colorscale": {
           "diverging": [
            [
             0,
             "#8e0152"
            ],
            [
             0.1,
             "#c51b7d"
            ],
            [
             0.2,
             "#de77ae"
            ],
            [
             0.3,
             "#f1b6da"
            ],
            [
             0.4,
             "#fde0ef"
            ],
            [
             0.5,
             "#f7f7f7"
            ],
            [
             0.6,
             "#e6f5d0"
            ],
            [
             0.7,
             "#b8e186"
            ],
            [
             0.8,
             "#7fbc41"
            ],
            [
             0.9,
             "#4d9221"
            ],
            [
             1,
             "#276419"
            ]
           ],
           "sequential": [
            [
             0,
             "#0d0887"
            ],
            [
             0.1111111111111111,
             "#46039f"
            ],
            [
             0.2222222222222222,
             "#7201a8"
            ],
            [
             0.3333333333333333,
             "#9c179e"
            ],
            [
             0.4444444444444444,
             "#bd3786"
            ],
            [
             0.5555555555555556,
             "#d8576b"
            ],
            [
             0.6666666666666666,
             "#ed7953"
            ],
            [
             0.7777777777777778,
             "#fb9f3a"
            ],
            [
             0.8888888888888888,
             "#fdca26"
            ],
            [
             1,
             "#f0f921"
            ]
           ],
           "sequentialminus": [
            [
             0,
             "#0d0887"
            ],
            [
             0.1111111111111111,
             "#46039f"
            ],
            [
             0.2222222222222222,
             "#7201a8"
            ],
            [
             0.3333333333333333,
             "#9c179e"
            ],
            [
             0.4444444444444444,
             "#bd3786"
            ],
            [
             0.5555555555555556,
             "#d8576b"
            ],
            [
             0.6666666666666666,
             "#ed7953"
            ],
            [
             0.7777777777777778,
             "#fb9f3a"
            ],
            [
             0.8888888888888888,
             "#fdca26"
            ],
            [
             1,
             "#f0f921"
            ]
           ]
          },
          "colorway": [
           "#636efa",
           "#EF553B",
           "#00cc96",
           "#ab63fa",
           "#FFA15A",
           "#19d3f3",
           "#FF6692",
           "#B6E880",
           "#FF97FF",
           "#FECB52"
          ],
          "font": {
           "color": "#2a3f5f"
          },
          "geo": {
           "bgcolor": "white",
           "lakecolor": "white",
           "landcolor": "#E5ECF6",
           "showlakes": true,
           "showland": true,
           "subunitcolor": "white"
          },
          "hoverlabel": {
           "align": "left"
          },
          "hovermode": "closest",
          "mapbox": {
           "style": "light"
          },
          "paper_bgcolor": "white",
          "plot_bgcolor": "#E5ECF6",
          "polar": {
           "angularaxis": {
            "gridcolor": "white",
            "linecolor": "white",
            "ticks": ""
           },
           "bgcolor": "#E5ECF6",
           "radialaxis": {
            "gridcolor": "white",
            "linecolor": "white",
            "ticks": ""
           }
          },
          "scene": {
           "xaxis": {
            "backgroundcolor": "#E5ECF6",
            "gridcolor": "white",
            "gridwidth": 2,
            "linecolor": "white",
            "showbackground": true,
            "ticks": "",
            "zerolinecolor": "white"
           },
           "yaxis": {
            "backgroundcolor": "#E5ECF6",
            "gridcolor": "white",
            "gridwidth": 2,
            "linecolor": "white",
            "showbackground": true,
            "ticks": "",
            "zerolinecolor": "white"
           },
           "zaxis": {
            "backgroundcolor": "#E5ECF6",
            "gridcolor": "white",
            "gridwidth": 2,
            "linecolor": "white",
            "showbackground": true,
            "ticks": "",
            "zerolinecolor": "white"
           }
          },
          "shapedefaults": {
           "line": {
            "color": "#2a3f5f"
           }
          },
          "ternary": {
           "aaxis": {
            "gridcolor": "white",
            "linecolor": "white",
            "ticks": ""
           },
           "baxis": {
            "gridcolor": "white",
            "linecolor": "white",
            "ticks": ""
           },
           "bgcolor": "#E5ECF6",
           "caxis": {
            "gridcolor": "white",
            "linecolor": "white",
            "ticks": ""
           }
          },
          "title": {
           "x": 0.05
          },
          "xaxis": {
           "automargin": true,
           "gridcolor": "white",
           "linecolor": "white",
           "ticks": "",
           "title": {
            "standoff": 15
           },
           "zerolinecolor": "white",
           "zerolinewidth": 2
          },
          "yaxis": {
           "automargin": true,
           "gridcolor": "white",
           "linecolor": "white",
           "ticks": "",
           "title": {
            "standoff": 15
           },
           "zerolinecolor": "white",
           "zerolinewidth": 2
          }
         }
        },
        "title": {
         "text": "Persentase Metode Pembayaran di Layanan Transjakarta"
        }
       }
      }
     },
     "metadata": {},
     "output_type": "display_data"
    }
   ],
   "source": [
    "# Hitung frekuensi penggunaan kartu\n",
    "paycard_counts = df['payCardBank'].value_counts().reset_index()\n",
    "paycard_counts.columns = ['payCardBank', 'Count']\n",
    "\n",
    "# Buat pie chart interaktif dengan Plotly\n",
    "fig = px.pie(paycard_counts, values='Count', names='payCardBank', title='Persentase Metode Pembayaran di Layanan Transjakarta')\n",
    "fig.show()\n"
   ]
  },
  {
   "cell_type": "markdown",
   "metadata": {},
   "source": [
    "Berdasarkan `payCardBirthDate`\n",
    "* Berapa rentang umur pelanggan di layanan Transjakarta?"
   ]
  },
  {
   "cell_type": "code",
   "execution_count": 323,
   "metadata": {},
   "outputs": [
    {
     "data": {
      "text/html": [
       "<div>\n",
       "<style scoped>\n",
       "    .dataframe tbody tr th:only-of-type {\n",
       "        vertical-align: middle;\n",
       "    }\n",
       "\n",
       "    .dataframe tbody tr th {\n",
       "        vertical-align: top;\n",
       "    }\n",
       "\n",
       "    .dataframe thead th {\n",
       "        text-align: right;\n",
       "    }\n",
       "</style>\n",
       "<table border=\"1\" class=\"dataframe\">\n",
       "  <thead>\n",
       "    <tr style=\"text-align: right;\">\n",
       "      <th></th>\n",
       "      <th>payCardID</th>\n",
       "      <th>payCardBank</th>\n",
       "      <th>payCardName</th>\n",
       "      <th>payCardSex</th>\n",
       "      <th>payCardBirthDate</th>\n",
       "      <th>corridorID</th>\n",
       "      <th>corridorName</th>\n",
       "      <th>direction</th>\n",
       "      <th>tapInStopsName</th>\n",
       "      <th>tapInStopsLat</th>\n",
       "      <th>...</th>\n",
       "      <th>Waktu Perjalanan_menit</th>\n",
       "      <th>FrekuensiLamaPerjalanan</th>\n",
       "      <th>Age</th>\n",
       "      <th>AgeGroup</th>\n",
       "      <th>Hour</th>\n",
       "      <th>Day</th>\n",
       "      <th>JumlahTapIn</th>\n",
       "      <th>Tanggal Tap In</th>\n",
       "      <th>Jam Tap In</th>\n",
       "      <th>jenis_layanan</th>\n",
       "    </tr>\n",
       "  </thead>\n",
       "  <tbody>\n",
       "    <tr>\n",
       "      <th>37751</th>\n",
       "      <td>213107623841273</td>\n",
       "      <td>emoney</td>\n",
       "      <td>Natalia Pratama</td>\n",
       "      <td>M</td>\n",
       "      <td>1964</td>\n",
       "      <td>11D</td>\n",
       "      <td>Pulo Gebang - Pulo Gadung 2 via PIK</td>\n",
       "      <td>0.0</td>\n",
       "      <td>United Tractors 1</td>\n",
       "      <td>-6.183260</td>\n",
       "      <td>...</td>\n",
       "      <td>113.300000</td>\n",
       "      <td>90-120</td>\n",
       "      <td>60</td>\n",
       "      <td>Dewasa (26-60 tahun)</td>\n",
       "      <td>6</td>\n",
       "      <td>Saturday</td>\n",
       "      <td>1</td>\n",
       "      <td>2023-04-01</td>\n",
       "      <td>06:22:27</td>\n",
       "      <td>Reguler</td>\n",
       "    </tr>\n",
       "    <tr>\n",
       "      <th>37866</th>\n",
       "      <td>4139531858845</td>\n",
       "      <td>online</td>\n",
       "      <td>Tgk. Kacung Nashiruddin</td>\n",
       "      <td>F</td>\n",
       "      <td>1997</td>\n",
       "      <td>7E</td>\n",
       "      <td>Kampung Rambutan - Ragunan</td>\n",
       "      <td>1.0</td>\n",
       "      <td>Jln. Gabus Raya</td>\n",
       "      <td>-6.301222</td>\n",
       "      <td>...</td>\n",
       "      <td>32.933333</td>\n",
       "      <td>30-60</td>\n",
       "      <td>27</td>\n",
       "      <td>Dewasa (26-60 tahun)</td>\n",
       "      <td>6</td>\n",
       "      <td>Saturday</td>\n",
       "      <td>1</td>\n",
       "      <td>2023-04-01</td>\n",
       "      <td>06:54:35</td>\n",
       "      <td>Reguler</td>\n",
       "    </tr>\n",
       "    <tr>\n",
       "      <th>37722</th>\n",
       "      <td>60459139923</td>\n",
       "      <td>flazz</td>\n",
       "      <td>Zelda Thamrin</td>\n",
       "      <td>M</td>\n",
       "      <td>1972</td>\n",
       "      <td>JIS3</td>\n",
       "      <td>Harmoni - Jakarta International Stadium</td>\n",
       "      <td>0.0</td>\n",
       "      <td>Danau Agung</td>\n",
       "      <td>-6.146869</td>\n",
       "      <td>...</td>\n",
       "      <td>43.200000</td>\n",
       "      <td>30-60</td>\n",
       "      <td>52</td>\n",
       "      <td>Dewasa (26-60 tahun)</td>\n",
       "      <td>7</td>\n",
       "      <td>Saturday</td>\n",
       "      <td>1</td>\n",
       "      <td>2023-04-01</td>\n",
       "      <td>07:32:50</td>\n",
       "      <td>Reguler</td>\n",
       "    </tr>\n",
       "    <tr>\n",
       "      <th>37683</th>\n",
       "      <td>4301046448643115806</td>\n",
       "      <td>brizzi</td>\n",
       "      <td>Rama Firmansyah</td>\n",
       "      <td>F</td>\n",
       "      <td>1992</td>\n",
       "      <td>5C</td>\n",
       "      <td>PGC - Juanda</td>\n",
       "      <td>0.0</td>\n",
       "      <td>BKN</td>\n",
       "      <td>-6.257751</td>\n",
       "      <td>...</td>\n",
       "      <td>46.550000</td>\n",
       "      <td>30-60</td>\n",
       "      <td>32</td>\n",
       "      <td>Dewasa (26-60 tahun)</td>\n",
       "      <td>9</td>\n",
       "      <td>Saturday</td>\n",
       "      <td>1</td>\n",
       "      <td>2023-04-01</td>\n",
       "      <td>09:41:03</td>\n",
       "      <td>Reguler</td>\n",
       "    </tr>\n",
       "  </tbody>\n",
       "</table>\n",
       "<p>4 rows × 28 columns</p>\n",
       "</div>"
      ],
      "text/plain": [
       "                 payCardID payCardBank              payCardName payCardSex  \\\n",
       "37751      213107623841273      emoney          Natalia Pratama          M   \n",
       "37866        4139531858845      online  Tgk. Kacung Nashiruddin          F   \n",
       "37722          60459139923       flazz            Zelda Thamrin          M   \n",
       "37683  4301046448643115806      brizzi          Rama Firmansyah          F   \n",
       "\n",
       "       payCardBirthDate corridorID                             corridorName  \\\n",
       "37751              1964        11D      Pulo Gebang - Pulo Gadung 2 via PIK   \n",
       "37866              1997         7E               Kampung Rambutan - Ragunan   \n",
       "37722              1972       JIS3  Harmoni - Jakarta International Stadium   \n",
       "37683              1992         5C                             PGC - Juanda   \n",
       "\n",
       "       direction     tapInStopsName  tapInStopsLat  ...  \\\n",
       "37751        0.0  United Tractors 1      -6.183260  ...   \n",
       "37866        1.0    Jln. Gabus Raya      -6.301222  ...   \n",
       "37722        0.0        Danau Agung      -6.146869  ...   \n",
       "37683        0.0                BKN      -6.257751  ...   \n",
       "\n",
       "       Waktu Perjalanan_menit FrekuensiLamaPerjalanan Age  \\\n",
       "37751              113.300000                  90-120  60   \n",
       "37866               32.933333                   30-60  27   \n",
       "37722               43.200000                   30-60  52   \n",
       "37683               46.550000                   30-60  32   \n",
       "\n",
       "                   AgeGroup  Hour       Day  JumlahTapIn Tanggal Tap In  \\\n",
       "37751  Dewasa (26-60 tahun)     6  Saturday            1     2023-04-01   \n",
       "37866  Dewasa (26-60 tahun)     6  Saturday            1     2023-04-01   \n",
       "37722  Dewasa (26-60 tahun)     7  Saturday            1     2023-04-01   \n",
       "37683  Dewasa (26-60 tahun)     9  Saturday            1     2023-04-01   \n",
       "\n",
       "       Jam Tap In jenis_layanan  \n",
       "37751    06:22:27       Reguler  \n",
       "37866    06:54:35       Reguler  \n",
       "37722    07:32:50       Reguler  \n",
       "37683    09:41:03       Reguler  \n",
       "\n",
       "[4 rows x 28 columns]"
      ]
     },
     "execution_count": 323,
     "metadata": {},
     "output_type": "execute_result"
    }
   ],
   "source": [
    "current_year = pd.to_datetime('now').year\n",
    "df['Age'] = current_year - df['payCardBirthDate'].astype(int)\n",
    "df.head(4)\n"
   ]
  },
  {
   "cell_type": "code",
   "execution_count": 296,
   "metadata": {},
   "outputs": [
    {
     "data": {
      "image/png": "[encoded data removed]",
      "text/plain": [
       "<Figure size 600x600 with 1 Axes>"
      ]
     },
     "metadata": {},
     "output_type": "display_data"
    }
   ],
   "source": [
    "# Mendefinisikan fungsi untuk mengkategorikan usia\n",
    "def categorize_age(year):\n",
    "    if 5 <= (pd.to_datetime('now').year - year) <= 11:\n",
    "        return 'Kanak-Kanak (5-11 tahun)'\n",
    "    elif 12 <= (pd.to_datetime('now').year - year) <= 25:\n",
    "        return 'Remaja (12-25 tahun)'\n",
    "    elif 26 <= (pd.to_datetime('now').year - year) <= 60:\n",
    "        return 'Dewasa (26-60 tahun)'\n",
    "    elif 46 <= (pd.to_datetime('now').year - year) <= 80:\n",
    "        return 'Lansia (> 60 tahun)'\n",
    "    else:\n",
    "        return 'Usia Tidak Terkategori'\n",
    "\n",
    "# Membuat kolom baru dengan kategori usia\n",
    "df['AgeGroup'] = df['payCardBirthDate'].apply(categorize_age)\n",
    "\n",
    "# Menghitung jumlah dalam setiap kategori usia\n",
    "age_group_counts = df['AgeGroup'].value_counts()\n",
    "\n",
    "# Membuat grafik pie untuk distribusi usia\n",
    "plt.figure(figsize=(6, 6))\n",
    "age_group_counts.plot(kind='pie', autopct='%1.1f%%', startangle=90, colors=plt.cm.tab20.colors)\n",
    "plt.title('Distribusi Rentang Usia pada Pelanggan')\n",
    "plt.ylabel('')\n",
    "plt.axis('equal')\n",
    "plt.legend()\n",
    "plt.tight_layout()\n",
    "plt.show()\n"
   ]
  },
  {
   "cell_type": "markdown",
   "metadata": {},
   "source": [
    "* Waktu yang paling sering digunakan untuk melakukan perjalanan?"
   ]
  },
  {
   "cell_type": "code",
   "execution_count": 297,
   "metadata": {},
   "outputs": [
    {
     "data": {
      "image/png": "[encoded data removed]",
      "text/plain": [
       "<Figure size 1200x800 with 2 Axes>"
      ]
     },
     "metadata": {},
     "output_type": "display_data"
    }
   ],
   "source": [
    "# Ekstrak informasi waktu\n",
    "df['Hour'] = df['tapInTime'].dt.hour\n",
    "df['Day'] = df['tapInTime'].dt.day_name()\n",
    "\n",
    "# Hitung jumlah tap in pada setiap waktu\n",
    "df['JumlahTapIn'] = 1  # Ini hanya untuk menunjukkan jumlah tap in pada setiap baris\n",
    "\n",
    "# Buat pivot table dengan jumlah tap in pada setiap jam setiap hari\n",
    "pivot_data = df.pivot_table(index='Hour', columns='Day', values='JumlahTapIn', aggfunc='sum')\n",
    "\n",
    "# Urutkan hari agar urut pada heatmap\n",
    "days_order = ['Monday', 'Tuesday', 'Wednesday', 'Thursday', 'Friday', 'Saturday', 'Sunday']\n",
    "pivot_data = pivot_data.reindex(columns=days_order)\n",
    "\n",
    "# Buat heatmap\n",
    "plt.figure(figsize=(12, 8))\n",
    "sns.heatmap(pivot_data, cmap='coolwarm', annot=True, fmt='g', linewidths=0.5)\n",
    "plt.title('Heatmap Waktu Tap In pada Setiap Hari Bulan April 2023')\n",
    "plt.ylabel('Jam')\n",
    "plt.tight_layout()\n",
    "plt.show()\n"
   ]
  },
  {
   "cell_type": "code",
   "execution_count": 298,
   "metadata": {},
   "outputs": [],
   "source": [
    "# Konversi kolom 'tapInTime' ke tipe data datetime\n",
    "df['tapInTime'] = pd.to_datetime(df['tapInTime'])\n",
    "\n",
    "# Membuat kolom terpisah untuk tanggal dan jam\n",
    "df['Tanggal Tap In'] = df['tapInTime'].dt.date\n",
    "df['Jam Tap In'] = df['tapInTime'].dt.time\n",
    "\n",
    "df = df.sort_values(by=['Tanggal Tap In', 'Jam Tap In'])"
   ]
  },
  {
   "cell_type": "code",
   "execution_count": 299,
   "metadata": {},
   "outputs": [
    {
     "name": "stdout",
     "output_type": "stream",
     "text": [
      "Top 10 Pelanggan yang Paling Sering Menggunakan Transjakarta:\n",
      "             payCardID                   payCardName  frequency\n",
      "994   3504648028041755              Balidin Ardianto         40\n",
      "1497  4661843359109266               Galih Budiyanto         40\n",
      "1232  3580401035990896        T. Dadap Pradana, M.Ak         40\n",
      "199      4205984560392     T. Baktiadi Prakasa, S.H.         40\n",
      "1219  3575787320226609  KH. Argono Nashiruddin, S.Gz         40\n",
      "211      4281653494791                  Zelda Wibowo         40\n",
      "212      4290559479079                  Lutfan Hakim         40\n",
      "1178  3562084958981605           Cakrawangsa Permadi         40\n",
      "1150  3552994986533131              Gilang Iswahyudi         40\n",
      "1129  3546736957468063             Gambira Handayani         40\n"
     ]
    }
   ],
   "source": [
    "# Menghitung frekuensi kemunculan setiap kombinasi paycardID dan paycardName\n",
    "top_customers = df.groupby(['payCardID', 'payCardName']).size().reset_index(name='frequency')\n",
    "top_customers = top_customers.sort_values(by='frequency', ascending=False).head(10)\n",
    "\n",
    "print(\"Top 10 Pelanggan yang Paling Sering Menggunakan Transjakarta:\")\n",
    "print(top_customers)"
   ]
  },
  {
   "cell_type": "markdown",
   "metadata": {},
   "source": [
    "*Reguler tariff* \n",
    "05.00 - 07.00 WIB = 2.000 (economic tariff)\n",
    "07.00 - 24.00 WIB = 3.500 \n",
    "24.00 - 05.00 WIB = 3.500 \n",
    "(https://transjakarta.co.id/produk-dan-layanan/info-tiket/)\n",
    "\n",
    "*Royaltrans tariff*\n",
    "Rp20.000 (https://news.detik.com/berita/d-6891014/transjakarta-tarif-bus-royaltrans-tetap-rp-20-000)\n",
    "\n",
    "*Mikrotrans tariff*\n",
    "Rp0 (https://glints.com/id/lowongan/mikrotrans-adalah/)"
   ]
  },
  {
   "cell_type": "code",
   "execution_count": 300,
   "metadata": {},
   "outputs": [],
   "source": [
    "# Fungsi untuk mengkategorisasikan layanan berdasarkan harga\n",
    "def kategorikan_layanan(harga):\n",
    "    if harga == 3500:\n",
    "        return 'Reguler'\n",
    "    elif harga == 20000:\n",
    "        return 'Royaltrans'\n",
    "    elif harga == 0:\n",
    "        return 'Mikrotrans'\n",
    "    else:\n",
    "        return 'Layanan Lain'\n",
    "\n",
    "# Membuat kolom baru 'jenis_layanan' berdasarkan harga\n",
    "df['jenis_layanan'] = df['payAmount'].apply(kategorikan_layanan)"
   ]
  },
  {
   "cell_type": "code",
   "execution_count": 301,
   "metadata": {},
   "outputs": [
    {
     "data": {
      "application/vnd.plotly.v1+json": {
       "config": {
        "plotlyServerURL": "https://plot.ly"
       },
       "data": [
        {
         "domain": {
          "x": [
           0,
           1
          ],
          "y": [
           0,
           1
          ]
         },
         "hovertemplate": "jenis_layanan=%{label}<br>Count=%{value}<extra></extra>",
         "labels": [
          "Reguler",
          "Mikrotrans",
          "Royaltrans"
         ],
         "legendgroup": "",
         "name": "",
         "showlegend": true,
         "type": "pie",
         "values": [
          18430,
          16439,
          1687
         ]
        }
       ],
       "layout": {
        "legend": {
         "tracegroupgap": 0
        },
        "template": {
         "data": {
          "bar": [
           {
            "error_x": {
             "color": "#2a3f5f"
            },
            "error_y": {
             "color": "#2a3f5f"
            },
            "marker": {
             "line": {
              "color": "#E5ECF6",
              "width": 0.5
             },
             "pattern": {
              "fillmode": "overlay",
              "size": 10,
              "solidity": 0.2
             }
            },
            "type": "bar"
           }
          ],
          "barpolar": [
           {
            "marker": {
             "line": {
              "color": "#E5ECF6",
              "width": 0.5
             },
             "pattern": {
              "fillmode": "overlay",
              "size": 10,
              "solidity": 0.2
             }
            },
            "type": "barpolar"
           }
          ],
          "carpet": [
           {
            "aaxis": {
             "endlinecolor": "#2a3f5f",
             "gridcolor": "white",
             "linecolor": "white",
             "minorgridcolor": "white",
             "startlinecolor": "#2a3f5f"
            },
            "baxis": {
             "endlinecolor": "#2a3f5f",
             "gridcolor": "white",
             "linecolor": "white",
             "minorgridcolor": "white",
             "startlinecolor": "#2a3f5f"
            },
            "type": "carpet"
           }
          ],
          "choropleth": [
           {
            "colorbar": {
             "outlinewidth": 0,
             "ticks": ""
            },
            "type": "choropleth"
           }
          ],
          "contour": [
           {
            "colorbar": {
             "outlinewidth": 0,
             "ticks": ""
            },
            "colorscale": [
             [
              0,
              "#0d0887"
             ],
             [
              0.1111111111111111,
              "#46039f"
             ],
             [
              0.2222222222222222,
              "#7201a8"
             ],
             [
              0.3333333333333333,
              "#9c179e"
             ],
             [
              0.4444444444444444,
              "#bd3786"
             ],
             [
              0.5555555555555556,
              "#d8576b"
             ],
             [
              0.6666666666666666,
              "#ed7953"
             ],
             [
              0.7777777777777778,
              "#fb9f3a"
             ],
             [
              0.8888888888888888,
              "#fdca26"
             ],
             [
              1,
              "#f0f921"
             ]
            ],
            "type": "contour"
           }
          ],
          "contourcarpet": [
           {
            "colorbar": {
             "outlinewidth": 0,
             "ticks": ""
            },
            "type": "contourcarpet"
           }
          ],
          "heatmap": [
           {
            "colorbar": {
             "outlinewidth": 0,
             "ticks": ""
            },
            "colorscale": [
             [
              0,
              "#0d0887"
             ],
             [
              0.1111111111111111,
              "#46039f"
             ],
             [
              0.2222222222222222,
              "#7201a8"
             ],
             [
              0.3333333333333333,
              "#9c179e"
             ],
             [
              0.4444444444444444,
              "#bd3786"
             ],
             [
              0.5555555555555556,
              "#d8576b"
             ],
             [
              0.6666666666666666,
              "#ed7953"
             ],
             [
              0.7777777777777778,
              "#fb9f3a"
             ],
             [
              0.8888888888888888,
              "#fdca26"
             ],
             [
              1,
              "#f0f921"
             ]
            ],
            "type": "heatmap"
           }
          ],
          "heatmapgl": [
           {
            "colorbar": {
             "outlinewidth": 0,
             "ticks": ""
            },
            "colorscale": [
             [
              0,
              "#0d0887"
             ],
             [
              0.1111111111111111,
              "#46039f"
             ],
             [
              0.2222222222222222,
              "#7201a8"
             ],
             [
              0.3333333333333333,
              "#9c179e"
             ],
             [
              0.4444444444444444,
              "#bd3786"
             ],
             [
              0.5555555555555556,
              "#d8576b"
             ],
             [
              0.6666666666666666,
              "#ed7953"
             ],
             [
              0.7777777777777778,
              "#fb9f3a"
             ],
             [
              0.8888888888888888,
              "#fdca26"
             ],
             [
              1,
              "#f0f921"
             ]
            ],
            "type": "heatmapgl"
           }
          ],
          "histogram": [
           {
            "marker": {
             "pattern": {
              "fillmode": "overlay",
              "size": 10,
              "solidity": 0.2
             }
            },
            "type": "histogram"
           }
          ],
          "histogram2d": [
           {
            "colorbar": {
             "outlinewidth": 0,
             "ticks": ""
            },
            "colorscale": [
             [
              0,
              "#0d0887"
             ],
             [
              0.1111111111111111,
              "#46039f"
             ],
             [
              0.2222222222222222,
              "#7201a8"
             ],
             [
              0.3333333333333333,
              "#9c179e"
             ],
             [
              0.4444444444444444,
              "#bd3786"
             ],
             [
              0.5555555555555556,
              "#d8576b"
             ],
             [
              0.6666666666666666,
              "#ed7953"
             ],
             [
              0.7777777777777778,
              "#fb9f3a"
             ],
             [
              0.8888888888888888,
              "#fdca26"
             ],
             [
              1,
              "#f0f921"
             ]
            ],
            "type": "histogram2d"
           }
          ],
          "histogram2dcontour": [
           {
            "colorbar": {
             "outlinewidth": 0,
             "ticks": ""
            },
            "colorscale": [
             [
              0,
              "#0d0887"
             ],
             [
              0.1111111111111111,
              "#46039f"
             ],
             [
              0.2222222222222222,
              "#7201a8"
             ],
             [
              0.3333333333333333,
              "#9c179e"
             ],
             [
              0.4444444444444444,
              "#bd3786"
             ],
             [
              0.5555555555555556,
              "#d8576b"
             ],
             [
              0.6666666666666666,
              "#ed7953"
             ],
             [
              0.7777777777777778,
              "#fb9f3a"
             ],
             [
              0.8888888888888888,
              "#fdca26"
             ],
             [
              1,
              "#f0f921"
             ]
            ],
            "type": "histogram2dcontour"
           }
          ],
          "mesh3d": [
           {
            "colorbar": {
             "outlinewidth": 0,
             "ticks": ""
            },
            "type": "mesh3d"
           }
          ],
          "parcoords": [
           {
            "line": {
             "colorbar": {
              "outlinewidth": 0,
              "ticks": ""
             }
            },
            "type": "parcoords"
           }
          ],
          "pie": [
           {
            "automargin": true,
            "type": "pie"
           }
          ],
          "scatter": [
           {
            "fillpattern": {
             "fillmode": "overlay",
             "size": 10,
             "solidity": 0.2
            },
            "type": "scatter"
           }
          ],
          "scatter3d": [
           {
            "line": {
             "colorbar": {
              "outlinewidth": 0,
              "ticks": ""
             }
            },
            "marker": {
             "colorbar": {
              "outlinewidth": 0,
              "ticks": ""
             }
            },
            "type": "scatter3d"
           }
          ],
          "scattercarpet": [
           {
            "marker": {
             "colorbar": {
              "outlinewidth": 0,
              "ticks": ""
             }
            },
            "type": "scattercarpet"
           }
          ],
          "scattergeo": [
           {
            "marker": {
             "colorbar": {
              "outlinewidth": 0,
              "ticks": ""
             }
            },
            "type": "scattergeo"
           }
          ],
          "scattergl": [
           {
            "marker": {
             "colorbar": {
              "outlinewidth": 0,
              "ticks": ""
             }
            },
            "type": "scattergl"
           }
          ],
          "scattermapbox": [
           {
            "marker": {
             "colorbar": {
              "outlinewidth": 0,
              "ticks": ""
             }
            },
            "type": "scattermapbox"
           }
          ],
          "scatterpolar": [
           {
            "marker": {
             "colorbar": {
              "outlinewidth": 0,
              "ticks": ""
             }
            },
            "type": "scatterpolar"
           }
          ],
          "scatterpolargl": [
           {
            "marker": {
             "colorbar": {
              "outlinewidth": 0,
              "ticks": ""
             }
            },
            "type": "scatterpolargl"
           }
          ],
          "scatterternary": [
           {
            "marker": {
             "colorbar": {
              "outlinewidth": 0,
              "ticks": ""
             }
            },
            "type": "scatterternary"
           }
          ],
          "surface": [
           {
            "colorbar": {
             "outlinewidth": 0,
             "ticks": ""
            },
            "colorscale": [
             [
              0,
              "#0d0887"
             ],
             [
              0.1111111111111111,
              "#46039f"
             ],
             [
              0.2222222222222222,
              "#7201a8"
             ],
             [
              0.3333333333333333,
              "#9c179e"
             ],
             [
              0.4444444444444444,
              "#bd3786"
             ],
             [
              0.5555555555555556,
              "#d8576b"
             ],
             [
              0.6666666666666666,
              "#ed7953"
             ],
             [
              0.7777777777777778,
              "#fb9f3a"
             ],
             [
              0.8888888888888888,
              "#fdca26"
             ],
             [
              1,
              "#f0f921"
             ]
            ],
            "type": "surface"
           }
          ],
          "table": [
           {
            "cells": {
             "fill": {
              "color": "#EBF0F8"
             },
             "line": {
              "color": "white"
             }
            },
            "header": {
             "fill": {
              "color": "#C8D4E3"
             },
             "line": {
              "color": "white"
             }
            },
            "type": "table"
           }
          ]
         },
         "layout": {
          "annotationdefaults": {
           "arrowcolor": "#2a3f5f",
           "arrowhead": 0,
           "arrowwidth": 1
          },
          "autotypenumbers": "strict",
          "coloraxis": {
           "colorbar": {
            "outlinewidth": 0,
            "ticks": ""
           }
          },
          "colorscale": {
           "diverging": [
            [
             0,
             "#8e0152"
            ],
            [
             0.1,
             "#c51b7d"
            ],
            [
             0.2,
             "#de77ae"
            ],
            [
             0.3,
             "#f1b6da"
            ],
            [
             0.4,
             "#fde0ef"
            ],
            [
             0.5,
             "#f7f7f7"
            ],
            [
             0.6,
             "#e6f5d0"
            ],
            [
             0.7,
             "#b8e186"
            ],
            [
             0.8,
             "#7fbc41"
            ],
            [
             0.9,
             "#4d9221"
            ],
            [
             1,
             "#276419"
            ]
           ],
           "sequential": [
            [
             0,
             "#0d0887"
            ],
            [
             0.1111111111111111,
             "#46039f"
            ],
            [
             0.2222222222222222,
             "#7201a8"
            ],
            [
             0.3333333333333333,
             "#9c179e"
            ],
            [
             0.4444444444444444,
             "#bd3786"
            ],
            [
             0.5555555555555556,
             "#d8576b"
            ],
            [
             0.6666666666666666,
             "#ed7953"
            ],
            [
             0.7777777777777778,
             "#fb9f3a"
            ],
            [
             0.8888888888888888,
             "#fdca26"
            ],
            [
             1,
             "#f0f921"
            ]
           ],
           "sequentialminus": [
            [
             0,
             "#0d0887"
            ],
            [
             0.1111111111111111,
             "#46039f"
            ],
            [
             0.2222222222222222,
             "#7201a8"
            ],
            [
             0.3333333333333333,
             "#9c179e"
            ],
            [
             0.4444444444444444,
             "#bd3786"
            ],
            [
             0.5555555555555556,
             "#d8576b"
            ],
            [
             0.6666666666666666,
             "#ed7953"
            ],
            [
             0.7777777777777778,
             "#fb9f3a"
            ],
            [
             0.8888888888888888,
             "#fdca26"
            ],
            [
             1,
             "#f0f921"
            ]
           ]
          },
          "colorway": [
           "#636efa",
           "#EF553B",
           "#00cc96",
           "#ab63fa",
           "#FFA15A",
           "#19d3f3",
           "#FF6692",
           "#B6E880",
           "#FF97FF",
           "#FECB52"
          ],
          "font": {
           "color": "#2a3f5f"
          },
          "geo": {
           "bgcolor": "white",
           "lakecolor": "white",
           "landcolor": "#E5ECF6",
           "showlakes": true,
           "showland": true,
           "subunitcolor": "white"
          },
          "hoverlabel": {
           "align": "left"
          },
          "hovermode": "closest",
          "mapbox": {
           "style": "light"
          },
          "paper_bgcolor": "white",
          "plot_bgcolor": "#E5ECF6",
          "polar": {
           "angularaxis": {
            "gridcolor": "white",
            "linecolor": "white",
            "ticks": ""
           },
           "bgcolor": "#E5ECF6",
           "radialaxis": {
            "gridcolor": "white",
            "linecolor": "white",
            "ticks": ""
           }
          },
          "scene": {
           "xaxis": {
            "backgroundcolor": "#E5ECF6",
            "gridcolor": "white",
            "gridwidth": 2,
            "linecolor": "white",
            "showbackground": true,
            "ticks": "",
            "zerolinecolor": "white"
           },
           "yaxis": {
            "backgroundcolor": "#E5ECF6",
            "gridcolor": "white",
            "gridwidth": 2,
            "linecolor": "white",
            "showbackground": true,
            "ticks": "",
            "zerolinecolor": "white"
           },
           "zaxis": {
            "backgroundcolor": "#E5ECF6",
            "gridcolor": "white",
            "gridwidth": 2,
            "linecolor": "white",
            "showbackground": true,
            "ticks": "",
            "zerolinecolor": "white"
           }
          },
          "shapedefaults": {
           "line": {
            "color": "#2a3f5f"
           }
          },
          "ternary": {
           "aaxis": {
            "gridcolor": "white",
            "linecolor": "white",
            "ticks": ""
           },
           "baxis": {
            "gridcolor": "white",
            "linecolor": "white",
            "ticks": ""
           },
           "bgcolor": "#E5ECF6",
           "caxis": {
            "gridcolor": "white",
            "linecolor": "white",
            "ticks": ""
           }
          },
          "title": {
           "x": 0.05
          },
          "xaxis": {
           "automargin": true,
           "gridcolor": "white",
           "linecolor": "white",
           "ticks": "",
           "title": {
            "standoff": 15
           },
           "zerolinecolor": "white",
           "zerolinewidth": 2
          },
          "yaxis": {
           "automargin": true,
           "gridcolor": "white",
           "linecolor": "white",
           "ticks": "",
           "title": {
            "standoff": 15
           },
           "zerolinecolor": "white",
           "zerolinewidth": 2
          }
         }
        },
        "title": {
         "text": "Layanan yang sering digunakan oleh pelanggan Transjakarta"
        }
       }
      }
     },
     "metadata": {},
     "output_type": "display_data"
    }
   ],
   "source": [
    "import plotly.express as px\n",
    "\n",
    "# Konversi hasil perhitungan frekuensi ke DataFrame\n",
    "payamount_counts = df['jenis_layanan'].value_counts().reset_index()\n",
    "payamount_counts.columns = ['jenis_layanan', 'Count']\n",
    "\n",
    "# Buat pie chart interaktif dengan Plotly\n",
    "fig = px.pie(payamount_counts, values='Count', names='jenis_layanan', title='Layanan yang sering digunakan oleh pelanggan Transjakarta')\n",
    "fig.show()"
   ]
  },
  {
   "cell_type": "code",
   "execution_count": 302,
   "metadata": {},
   "outputs": [],
   "source": [
    "# df.to_excel('Transjakarta April 2023_new.xlsx', index= False)"
   ]
  },
  {
   "cell_type": "markdown",
   "metadata": {},
   "source": [
    "Grafik jumlah penumpang selama bulan April 2023\n",
    "* Membuat grafik data pelanggan di setiap layanan "
   ]
  },
  {
   "cell_type": "code",
   "execution_count": 303,
   "metadata": {},
   "outputs": [
    {
     "data": {
      "text/plain": [
       "<Figure size 2000x600 with 0 Axes>"
      ]
     },
     "metadata": {},
     "output_type": "display_data"
    },
    {
     "data": {
      "image/png": "[encoded data removed]",
      "text/plain": [
       "<Figure size 640x480 with 1 Axes>"
      ]
     },
     "metadata": {},
     "output_type": "display_data"
    }
   ],
   "source": [
    "grouped_data = df.groupby(['Tanggal Tap In', 'jenis_layanan']).size().unstack()\n",
    "\n",
    "# # Visualisasi menggunakan stack bar\n",
    "plt.figure(figsize=(20, 6))\n",
    "grouped_data.plot(kind='bar', stacked=True, width= 0.8)\n",
    "\n",
    "plt.title('Jumlah Pelanggan per Kategori Layanan per Hari (April 2023)')\n",
    "plt.xlabel('Tanggal')\n",
    "plt.ylabel('Jumlah Pelanggan')\n",
    "\n",
    "# Mengatur label tanggal tanpa bulan dan tahun\n",
    "formatted_labels = [date.strftime(\"%d\") for date in grouped_data.index]\n",
    "plt.xticks(range(len(grouped_data.index)), formatted_labels, rotation=0)\n",
    "\n",
    "plt.legend(title='Jenis Layanan', fontsize='small')\n",
    "plt.tight_layout()\n",
    "plt.show()"
   ]
  },
  {
   "cell_type": "markdown",
   "metadata": {},
   "source": [
    "#### Berdasarkan analisis diatas, diperoleh: \n",
    "* Penumpang Transjakarta umumnya berjenis kelamin perempuan. \n",
    "* Frekuensi penggunaan kartu di layanan Transjakarta di mayoritas kan oleh DKI.\n",
    "* Pelanggan Transjakarta juga didominasi oleh penumpang dewasa (26-60 tahun)\n",
    "* Waktu yang paling sering digunakan oleh pelanggan untuk melakukan perjalanan di pagi pada 06.00 dan di sore pukul 07.00 → berangkat dan pulang kerja, \n",
    "* Kita bisa juga identifikasi 10 pelanggan yang sering menggunakan Transjakarta selama 1 bulan → dimana frekuensinya 40 kali dalam 1 bulan dimana bisa diasumsikan pelanggan 2x melakukan perjalanan saat pagi di berangkat kerja dan sore saat pulang kerja.\n",
    "* Berdasarkan tarif kita juga bisa melihat layanan mana saja yang sering digunakan oleh penumpang Transjakarta,\n",
    "* Diasumsikan bahwa tarif 3500 merupakan tarif reguler, tarif 2000 merupakan tarif royal trans, dan tarif 0 merupakan tarif mikro trans. Yang mana 50% yang paling diminati pelanggan adalah layanan reguler."
   ]
  },
  {
   "cell_type": "markdown",
   "metadata": {},
   "source": [
    "Dari data-data tersebut kita bisa melihat korelasi antara jenis transaksi yang digunakan oleh pelanggan dengan kelompok umur 26 - 60 tahun (dewasa):"
   ]
  },
  {
   "cell_type": "code",
   "execution_count": 306,
   "metadata": {},
   "outputs": [
    {
     "name": "stdout",
     "output_type": "stream",
     "text": [
      "  payCardBank  korelasi\n",
      "0         bni -0.025829\n",
      "1      brizzi  0.087450\n",
      "2         dki  0.045696\n",
      "3      emoney  0.045576\n",
      "4       flazz -0.125512\n",
      "5      online  0.012905\n"
     ]
    }
   ],
   "source": [
    "# Filter data hanya untuk lansia\n",
    "dewasa_data = df[df['AgeGroup'] == 'Dewasa (26-60 tahun)']\n",
    "\n",
    "# Hitung Korelasi\n",
    "correlation_matrix_dewasa = dewasa_data.groupby('payCardBank')['Age'].apply(lambda x: spearmanr(x, x.index)[0]).reset_index()\n",
    "correlation_matrix_dewasa.columns = ['payCardBank', 'korelasi']\n",
    "\n",
    "# Tampilkan Matriks Korelasi untuk Lansia\n",
    "print(correlation_matrix_dewasa)"
   ]
  },
  {
   "cell_type": "code",
   "execution_count": 307,
   "metadata": {},
   "outputs": [
    {
     "name": "stdout",
     "output_type": "stream",
     "text": [
      "Korelasi Spearman untuk emoney: -0.05521586496418258\n",
      "Nilai p untuk emoney: 6.745049358499412e-06\n",
      "Korelasi untuk emoney signifikan secara statistik\n",
      "--------------------------------------------------\n",
      "Korelasi Spearman untuk online: 0.07854655920720671\n",
      "Nilai p untuk online: 3.4394034539135e-05\n",
      "Korelasi untuk online signifikan secara statistik\n",
      "--------------------------------------------------\n",
      "Korelasi Spearman untuk flazz: -0.08852891070038886\n",
      "Nilai p untuk flazz: 7.749692064444839e-07\n",
      "Korelasi untuk flazz signifikan secara statistik\n",
      "--------------------------------------------------\n",
      "Korelasi Spearman untuk brizzi: 0.10083070751726388\n",
      "Nilai p untuk brizzi: 3.8702016285397096e-09\n",
      "Korelasi untuk brizzi signifikan secara statistik\n",
      "--------------------------------------------------\n",
      "Korelasi Spearman untuk dki: 0.003351069138573353\n",
      "Nilai p untuk dki: 0.652503542502719\n",
      "Tidak ada bukti signifikansi korelasi untuk dki\n",
      "--------------------------------------------------\n",
      "Korelasi Spearman untuk bni: 0.1029465429827472\n",
      "Nilai p untuk bni: 1.5932272209360376e-07\n",
      "Korelasi untuk bni signifikan secara statistik\n",
      "--------------------------------------------------\n"
     ]
    }
   ],
   "source": [
    "# Hitung Korelasi dan Uji Signifikansi untuk Setiap Koridor\n",
    "card = df['payCardBank'].unique()\n",
    "\n",
    "for card in card:\n",
    "    # Ambil data waktu perjalanan untuk jenis transaksi\n",
    "    data_card = df[df['payCardBank'] == card]['Age']\n",
    "    \n",
    "    # Hitung korelasi Spearman dan nilai p\n",
    "    corr, p_value = spearmanr(data_card, data_card.index)\n",
    "    \n",
    "    # Tampilkan hasil\n",
    "    print(f\"Korelasi Spearman untuk {card}: {corr}\")\n",
    "    print(f\"Nilai p untuk {card}: {p_value}\")\n",
    "    \n",
    "    # Uji signifikansi\n",
    "    alpha = 0.05\n",
    "    if p_value < alpha:\n",
    "        print(f\"Korelasi untuk {card} signifikan secara statistik\")\n",
    "    else:\n",
    "        print(f\"Tidak ada bukti signifikansi korelasi untuk {card}\")\n",
    "    \n",
    "    print('-' * 50)"
   ]
  },
  {
   "cell_type": "markdown",
   "metadata": {},
   "source": [
    "Hasil uji statistik diatas, menunjukan bahwa tidak ada bukti signifikasi korelasi untuk DKI, namun berkolerasi untuk jenis transaksi lainnya yaitu emoney, online, flazz, brizzi, dki, bni yang amna memiliki hubungan yan signifikan antara metode transaksi pembayaran  dan kelompok pelanggan dewasa.\n",
    "\n",
    "Dimana korelasi ini bisa diimplikasikan bahwa metode transaksi tertentu  kurang umum di antara pelanggan dewasa. Informasi ini dapat digunakan untuk menyusun strategi pemasaran atau penyesuaian layanan yang lebih sesuai dengan preferensi pelanggan dewasa."
   ]
  },
  {
   "cell_type": "markdown",
   "metadata": {},
   "source": [
    "# Kesimpulan dan Rekomendasi \n",
    "\n",
    "Dari analisis yang telah dilakukan, kita bisa membuat kesimpulan bahwa:\n",
    "\n",
    "Layanan Transjakarta saat ini:\n",
    "* Halte teramai adalah halte penjaringan dan BKN. \n",
    "* Koridor teramai adalah Cibubur - Balaikota, yang mana koridor ini merupakan layanan Royaltrans. \n",
    "* Waktu perjalanan penumpang saat ini bisa mencapai 3 jam. \n",
    "* Beberapa koridor, perlu ada evaluasi untuk mengurangi waktu perjalanan \n",
    "\n",
    "Karakteristik pelanggan Transjakarta:\n",
    "* Mayoritas pelanggan adalah dengan jenis kelamin perempuan. \n",
    "* Metode transaksi yang banyak digunakan adalah bank DKI. \n",
    "* Pelanggan Transjakarta juga didominasi oleh penumpang dewasa dengan rentang umur 26-60 tahun\n",
    "* Waktu yang paling sering digunakan oleh pelanggan untuk melakukan perjalanan di pagi pada 06.00 dan di sore pukul 07.00 → berangkat dan pulang kerja. \n",
    "* Mayoritas layanan yang paling banyak diminati pelanggan adalah layanan Reguler. \n",
    "\n"
   ]
  },
  {
   "cell_type": "markdown",
   "metadata": {},
   "source": [
    "**Rekomendasi**\n",
    "\n",
    "Cara meningkatkan jumlah pelanggan Transjakarta dan meningkatkan kepuasan pelanggan saat menggunakan layanan Transjakarta:\n",
    "\n",
    "1. Penambahan petugas halte terutama di halte ramai pelanggan dan di jam sibuk agar dapat mengatur penumpang.\n",
    "2. Penambahan bus untuk rute dengan jumlah pelanggan terbanyak dan mempersempit headway bus dan juga memperbanyak frekuensi bus terutama pada jam-jam sibuk agar waktu tunggu bus tidak terlalu lama.  \n",
    "3. Untuk meningkatkan efisiensi waktu perjalanan, Transjakarta dapat mempertimbangkan rekomendasi berikut:\n",
    "   * Evaluasi dan sesuaikan rute bus untuk meminimalkan kemungkinan macet atau jalan yang lambat.\n",
    "   * Tingkatkan frekuensi layanan bus pada rute yang sering mengalami kemacetan untuk mengurangi waktu tunggu penumpang.\n",
    "   * Perbarui sistem informasi penumpang untuk memberikan estimasi waktu perjalanan yang lebih akurat dan informasi terkini mengenai kondisi lalu lintas melalui aplikasi yang informasinya bisa diakses secara realtime oleh penumpang.\n",
    "4. Dengan jumlah pelanggan yang didominasi oleh perempuan dan didominasi oleh orang dewasa maka perlu adanya penambahan bus dan ruang khusus perempuan di setiap bus layanan Transjakarta. Saat ini, Transjakarta memiliki bus pink yang hanya ada di beberapa koridor tertentu saja yaitu koridor 2, koridor 3, koridor 9, koridor 13 dan koridor 5. Maka bisa dilakukan penambahan di semua koridor dan layanan khususnya di koridor ramai pelanggan. \n",
    "5. Mayoritas metode pembayaran pelanggan adalah bank DKI, hal ini menunjukkan bahwa mayoritas pelanggan Transjakarta adalah pengguna bank DKI. Di halte Transjakarta ada vending machine yang menjual kartu. Transjakarta harus menyediakan kartu bank DKI lebih banyak dibandingkan dengan jenis kartu lainnya atau lebih mempromosikan metode pembayaran lainnya kepada pelanggan. \n",
    "6. Layanan yang sering digunakan oleh pelanggan adalah layanan reguler, layanan reguler juga harus disediakan armada yang banyak karena minatnya banyak dibandingkan layanan lainnya agar waktu tunggu penumpang tidak lama dan load factor bus tidak melebihi kapasitas."
   ]
  }
 ],
 "metadata": {
  "kernelspec": {
   "display_name": "base",
   "language": "python",
   "name": "python3"
  },
  "language_info": {
   "codemirror_mode": {
    "name": "ipython",
    "version": 3
   },
   "file_extension": ".py",
   "mimetype": "text/x-python",
   "name": "python",
   "nbconvert_exporter": "python",
   "pygments_lexer": "ipython3",
   "version": "3.11.5"
  }
 },
 "nbformat": 4,
 "nbformat_minor": 2
}
